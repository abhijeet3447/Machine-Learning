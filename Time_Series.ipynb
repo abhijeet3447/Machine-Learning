{
  "nbformat": 4,
  "nbformat_minor": 0,
  "metadata": {
    "colab": {
      "provenance": [],
      "collapsed_sections": [
        "ra7c3mangE0A"
      ]
    },
    "kernelspec": {
      "name": "python3",
      "display_name": "Python 3"
    },
    "language_info": {
      "name": "python"
    }
  },
  "cells": [
    {
      "cell_type": "markdown",
      "source": [
        "# problem Statement\n",
        "\n",
        "Given data of stock market daily price of one share\n",
        "\n",
        "Do prediction on close values"
      ],
      "metadata": {
        "id": "GAob7MckXdQr"
      }
    },
    {
      "cell_type": "code",
      "execution_count": 19,
      "metadata": {
        "id": "7-yAdWQvXYbE"
      },
      "outputs": [],
      "source": [
        "import pandas as pd\n",
        "df = pd.read_csv(\"HistoricalQuotes.csv\")"
      ]
    },
    {
      "cell_type": "code",
      "source": [
        "df.info()"
      ],
      "metadata": {
        "colab": {
          "base_uri": "https://localhost:8080/"
        },
        "id": "HHLcqD3NX5xp",
        "outputId": "184664ea-25b1-427e-ce57-bac62bce52ad"
      },
      "execution_count": 20,
      "outputs": [
        {
          "output_type": "stream",
          "name": "stdout",
          "text": [
            "<class 'pandas.core.frame.DataFrame'>\n",
            "RangeIndex: 253 entries, 0 to 252\n",
            "Data columns (total 6 columns):\n",
            " #   Column  Non-Null Count  Dtype  \n",
            "---  ------  --------------  -----  \n",
            " 0   date    253 non-null    object \n",
            " 1   close   253 non-null    float64\n",
            " 2   volume  253 non-null    object \n",
            " 3   open    253 non-null    float64\n",
            " 4   high    253 non-null    float64\n",
            " 5   low     253 non-null    float64\n",
            "dtypes: float64(4), object(2)\n",
            "memory usage: 12.0+ KB\n"
          ]
        }
      ]
    },
    {
      "cell_type": "code",
      "source": [
        "df['date'] = pd.to_datetime(df['date'])"
      ],
      "metadata": {
        "id": "f6KBXhsPX7Dg"
      },
      "execution_count": 21,
      "outputs": []
    },
    {
      "cell_type": "code",
      "source": [
        "df.info()"
      ],
      "metadata": {
        "colab": {
          "base_uri": "https://localhost:8080/"
        },
        "id": "WLC1dBfTYOr5",
        "outputId": "3fdd4ed6-be31-47b7-c289-86ab10bebbdf"
      },
      "execution_count": 22,
      "outputs": [
        {
          "output_type": "stream",
          "name": "stdout",
          "text": [
            "<class 'pandas.core.frame.DataFrame'>\n",
            "RangeIndex: 253 entries, 0 to 252\n",
            "Data columns (total 6 columns):\n",
            " #   Column  Non-Null Count  Dtype         \n",
            "---  ------  --------------  -----         \n",
            " 0   date    253 non-null    datetime64[ns]\n",
            " 1   close   253 non-null    float64       \n",
            " 2   volume  253 non-null    object        \n",
            " 3   open    253 non-null    float64       \n",
            " 4   high    253 non-null    float64       \n",
            " 5   low     253 non-null    float64       \n",
            "dtypes: datetime64[ns](1), float64(4), object(1)\n",
            "memory usage: 12.0+ KB\n"
          ]
        }
      ]
    },
    {
      "cell_type": "code",
      "source": [
        "df.head()"
      ],
      "metadata": {
        "colab": {
          "base_uri": "https://localhost:8080/",
          "height": 206
        },
        "id": "cWHX1fvDYPqA",
        "outputId": "dd4b3045-5648-4fdd-ec89-090c0dd4c8b8"
      },
      "execution_count": 23,
      "outputs": [
        {
          "output_type": "execute_result",
          "data": {
            "text/plain": [
              "        date   close         volume    open     high     low\n",
              "0 2019-08-10  200.99     24,619,446  201.23  202.760  199.29\n",
              "1 2019-08-09  200.99  24619750.0000  201.30  202.760  199.29\n",
              "2 2019-08-08  203.43  27009520.0000  200.20  203.530  199.39\n",
              "3 2019-08-07  199.04  33364400.0000  195.41  199.560  193.82\n",
              "4 2019-08-06  197.00  35824790.0000  196.31  198.067  194.04"
            ],
            "text/html": [
              "\n",
              "\n",
              "  <div id=\"df-06a0ba23-70a4-4a55-bba8-95694d98d71d\">\n",
              "    <div class=\"colab-df-container\">\n",
              "      <div>\n",
              "<style scoped>\n",
              "    .dataframe tbody tr th:only-of-type {\n",
              "        vertical-align: middle;\n",
              "    }\n",
              "\n",
              "    .dataframe tbody tr th {\n",
              "        vertical-align: top;\n",
              "    }\n",
              "\n",
              "    .dataframe thead th {\n",
              "        text-align: right;\n",
              "    }\n",
              "</style>\n",
              "<table border=\"1\" class=\"dataframe\">\n",
              "  <thead>\n",
              "    <tr style=\"text-align: right;\">\n",
              "      <th></th>\n",
              "      <th>date</th>\n",
              "      <th>close</th>\n",
              "      <th>volume</th>\n",
              "      <th>open</th>\n",
              "      <th>high</th>\n",
              "      <th>low</th>\n",
              "    </tr>\n",
              "  </thead>\n",
              "  <tbody>\n",
              "    <tr>\n",
              "      <th>0</th>\n",
              "      <td>2019-08-10</td>\n",
              "      <td>200.99</td>\n",
              "      <td>24,619,446</td>\n",
              "      <td>201.23</td>\n",
              "      <td>202.760</td>\n",
              "      <td>199.29</td>\n",
              "    </tr>\n",
              "    <tr>\n",
              "      <th>1</th>\n",
              "      <td>2019-08-09</td>\n",
              "      <td>200.99</td>\n",
              "      <td>24619750.0000</td>\n",
              "      <td>201.30</td>\n",
              "      <td>202.760</td>\n",
              "      <td>199.29</td>\n",
              "    </tr>\n",
              "    <tr>\n",
              "      <th>2</th>\n",
              "      <td>2019-08-08</td>\n",
              "      <td>203.43</td>\n",
              "      <td>27009520.0000</td>\n",
              "      <td>200.20</td>\n",
              "      <td>203.530</td>\n",
              "      <td>199.39</td>\n",
              "    </tr>\n",
              "    <tr>\n",
              "      <th>3</th>\n",
              "      <td>2019-08-07</td>\n",
              "      <td>199.04</td>\n",
              "      <td>33364400.0000</td>\n",
              "      <td>195.41</td>\n",
              "      <td>199.560</td>\n",
              "      <td>193.82</td>\n",
              "    </tr>\n",
              "    <tr>\n",
              "      <th>4</th>\n",
              "      <td>2019-08-06</td>\n",
              "      <td>197.00</td>\n",
              "      <td>35824790.0000</td>\n",
              "      <td>196.31</td>\n",
              "      <td>198.067</td>\n",
              "      <td>194.04</td>\n",
              "    </tr>\n",
              "  </tbody>\n",
              "</table>\n",
              "</div>\n",
              "      <button class=\"colab-df-convert\" onclick=\"convertToInteractive('df-06a0ba23-70a4-4a55-bba8-95694d98d71d')\"\n",
              "              title=\"Convert this dataframe to an interactive table.\"\n",
              "              style=\"display:none;\">\n",
              "\n",
              "  <svg xmlns=\"http://www.w3.org/2000/svg\" height=\"24px\"viewBox=\"0 0 24 24\"\n",
              "       width=\"24px\">\n",
              "    <path d=\"M0 0h24v24H0V0z\" fill=\"none\"/>\n",
              "    <path d=\"M18.56 5.44l.94 2.06.94-2.06 2.06-.94-2.06-.94-.94-2.06-.94 2.06-2.06.94zm-11 1L8.5 8.5l.94-2.06 2.06-.94-2.06-.94L8.5 2.5l-.94 2.06-2.06.94zm10 10l.94 2.06.94-2.06 2.06-.94-2.06-.94-.94-2.06-.94 2.06-2.06.94z\"/><path d=\"M17.41 7.96l-1.37-1.37c-.4-.4-.92-.59-1.43-.59-.52 0-1.04.2-1.43.59L10.3 9.45l-7.72 7.72c-.78.78-.78 2.05 0 2.83L4 21.41c.39.39.9.59 1.41.59.51 0 1.02-.2 1.41-.59l7.78-7.78 2.81-2.81c.8-.78.8-2.07 0-2.86zM5.41 20L4 18.59l7.72-7.72 1.47 1.35L5.41 20z\"/>\n",
              "  </svg>\n",
              "      </button>\n",
              "\n",
              "\n",
              "\n",
              "    <div id=\"df-377cf850-ee56-4072-bef4-7239425eabfa\">\n",
              "      <button class=\"colab-df-quickchart\" onclick=\"quickchart('df-377cf850-ee56-4072-bef4-7239425eabfa')\"\n",
              "              title=\"Suggest charts.\"\n",
              "              style=\"display:none;\">\n",
              "\n",
              "<svg xmlns=\"http://www.w3.org/2000/svg\" height=\"24px\"viewBox=\"0 0 24 24\"\n",
              "     width=\"24px\">\n",
              "    <g>\n",
              "        <path d=\"M19 3H5c-1.1 0-2 .9-2 2v14c0 1.1.9 2 2 2h14c1.1 0 2-.9 2-2V5c0-1.1-.9-2-2-2zM9 17H7v-7h2v7zm4 0h-2V7h2v10zm4 0h-2v-4h2v4z\"/>\n",
              "    </g>\n",
              "</svg>\n",
              "      </button>\n",
              "    </div>\n",
              "\n",
              "<style>\n",
              "  .colab-df-quickchart {\n",
              "    background-color: #E8F0FE;\n",
              "    border: none;\n",
              "    border-radius: 50%;\n",
              "    cursor: pointer;\n",
              "    display: none;\n",
              "    fill: #1967D2;\n",
              "    height: 32px;\n",
              "    padding: 0 0 0 0;\n",
              "    width: 32px;\n",
              "  }\n",
              "\n",
              "  .colab-df-quickchart:hover {\n",
              "    background-color: #E2EBFA;\n",
              "    box-shadow: 0px 1px 2px rgba(60, 64, 67, 0.3), 0px 1px 3px 1px rgba(60, 64, 67, 0.15);\n",
              "    fill: #174EA6;\n",
              "  }\n",
              "\n",
              "  [theme=dark] .colab-df-quickchart {\n",
              "    background-color: #3B4455;\n",
              "    fill: #D2E3FC;\n",
              "  }\n",
              "\n",
              "  [theme=dark] .colab-df-quickchart:hover {\n",
              "    background-color: #434B5C;\n",
              "    box-shadow: 0px 1px 3px 1px rgba(0, 0, 0, 0.15);\n",
              "    filter: drop-shadow(0px 1px 2px rgba(0, 0, 0, 0.3));\n",
              "    fill: #FFFFFF;\n",
              "  }\n",
              "</style>\n",
              "\n",
              "    <script>\n",
              "      async function quickchart(key) {\n",
              "        const containerElement = document.querySelector('#' + key);\n",
              "        const charts = await google.colab.kernel.invokeFunction(\n",
              "            'suggestCharts', [key], {});\n",
              "      }\n",
              "    </script>\n",
              "\n",
              "      <script>\n",
              "\n",
              "function displayQuickchartButton(domScope) {\n",
              "  let quickchartButtonEl =\n",
              "    domScope.querySelector('#df-377cf850-ee56-4072-bef4-7239425eabfa button.colab-df-quickchart');\n",
              "  quickchartButtonEl.style.display =\n",
              "    google.colab.kernel.accessAllowed ? 'block' : 'none';\n",
              "}\n",
              "\n",
              "        displayQuickchartButton(document);\n",
              "      </script>\n",
              "      <style>\n",
              "    .colab-df-container {\n",
              "      display:flex;\n",
              "      flex-wrap:wrap;\n",
              "      gap: 12px;\n",
              "    }\n",
              "\n",
              "    .colab-df-convert {\n",
              "      background-color: #E8F0FE;\n",
              "      border: none;\n",
              "      border-radius: 50%;\n",
              "      cursor: pointer;\n",
              "      display: none;\n",
              "      fill: #1967D2;\n",
              "      height: 32px;\n",
              "      padding: 0 0 0 0;\n",
              "      width: 32px;\n",
              "    }\n",
              "\n",
              "    .colab-df-convert:hover {\n",
              "      background-color: #E2EBFA;\n",
              "      box-shadow: 0px 1px 2px rgba(60, 64, 67, 0.3), 0px 1px 3px 1px rgba(60, 64, 67, 0.15);\n",
              "      fill: #174EA6;\n",
              "    }\n",
              "\n",
              "    [theme=dark] .colab-df-convert {\n",
              "      background-color: #3B4455;\n",
              "      fill: #D2E3FC;\n",
              "    }\n",
              "\n",
              "    [theme=dark] .colab-df-convert:hover {\n",
              "      background-color: #434B5C;\n",
              "      box-shadow: 0px 1px 3px 1px rgba(0, 0, 0, 0.15);\n",
              "      filter: drop-shadow(0px 1px 2px rgba(0, 0, 0, 0.3));\n",
              "      fill: #FFFFFF;\n",
              "    }\n",
              "  </style>\n",
              "\n",
              "      <script>\n",
              "        const buttonEl =\n",
              "          document.querySelector('#df-06a0ba23-70a4-4a55-bba8-95694d98d71d button.colab-df-convert');\n",
              "        buttonEl.style.display =\n",
              "          google.colab.kernel.accessAllowed ? 'block' : 'none';\n",
              "\n",
              "        async function convertToInteractive(key) {\n",
              "          const element = document.querySelector('#df-06a0ba23-70a4-4a55-bba8-95694d98d71d');\n",
              "          const dataTable =\n",
              "            await google.colab.kernel.invokeFunction('convertToInteractive',\n",
              "                                                     [key], {});\n",
              "          if (!dataTable) return;\n",
              "\n",
              "          const docLinkHtml = 'Like what you see? Visit the ' +\n",
              "            '<a target=\"_blank\" href=https://colab.research.google.com/notebooks/data_table.ipynb>data table notebook</a>'\n",
              "            + ' to learn more about interactive tables.';\n",
              "          element.innerHTML = '';\n",
              "          dataTable['output_type'] = 'display_data';\n",
              "          await google.colab.output.renderOutput(dataTable, element);\n",
              "          const docLink = document.createElement('div');\n",
              "          docLink.innerHTML = docLinkHtml;\n",
              "          element.appendChild(docLink);\n",
              "        }\n",
              "      </script>\n",
              "    </div>\n",
              "  </div>\n"
            ]
          },
          "metadata": {},
          "execution_count": 23
        }
      ]
    },
    {
      "cell_type": "code",
      "source": [
        "df.set_index('date', inplace=True)"
      ],
      "metadata": {
        "id": "SqiO3Gb0Y7mD"
      },
      "execution_count": 24,
      "outputs": []
    },
    {
      "cell_type": "code",
      "source": [
        "df.sort_index(inplace=True)"
      ],
      "metadata": {
        "id": "xDI6oZdDYTe4"
      },
      "execution_count": 25,
      "outputs": []
    },
    {
      "cell_type": "code",
      "source": [
        "df.head()"
      ],
      "metadata": {
        "colab": {
          "base_uri": "https://localhost:8080/",
          "height": 237
        },
        "id": "FE0KFnRZY3lP",
        "outputId": "c71e8992-6ce6-4122-ad4b-11401d1a59fe"
      },
      "execution_count": 26,
      "outputs": [
        {
          "output_type": "execute_result",
          "data": {
            "text/plain": [
              "             close         volume     open     high     low\n",
              "date                                                       \n",
              "2018-08-09  208.88  23389530.0000  207.280  209.780  207.20\n",
              "2018-08-10  207.53  24592460.0000  207.360  209.100  206.67\n",
              "2018-08-13  208.87  25864510.0000  207.700  210.952  207.70\n",
              "2018-08-14  209.75  20679270.0000  210.155  210.560  208.26\n",
              "2018-08-15  210.24  28595230.0000  209.220  210.740  208.33"
            ],
            "text/html": [
              "\n",
              "\n",
              "  <div id=\"df-9481d6ee-eb3b-4592-be08-fe35bd3d6af3\">\n",
              "    <div class=\"colab-df-container\">\n",
              "      <div>\n",
              "<style scoped>\n",
              "    .dataframe tbody tr th:only-of-type {\n",
              "        vertical-align: middle;\n",
              "    }\n",
              "\n",
              "    .dataframe tbody tr th {\n",
              "        vertical-align: top;\n",
              "    }\n",
              "\n",
              "    .dataframe thead th {\n",
              "        text-align: right;\n",
              "    }\n",
              "</style>\n",
              "<table border=\"1\" class=\"dataframe\">\n",
              "  <thead>\n",
              "    <tr style=\"text-align: right;\">\n",
              "      <th></th>\n",
              "      <th>close</th>\n",
              "      <th>volume</th>\n",
              "      <th>open</th>\n",
              "      <th>high</th>\n",
              "      <th>low</th>\n",
              "    </tr>\n",
              "    <tr>\n",
              "      <th>date</th>\n",
              "      <th></th>\n",
              "      <th></th>\n",
              "      <th></th>\n",
              "      <th></th>\n",
              "      <th></th>\n",
              "    </tr>\n",
              "  </thead>\n",
              "  <tbody>\n",
              "    <tr>\n",
              "      <th>2018-08-09</th>\n",
              "      <td>208.88</td>\n",
              "      <td>23389530.0000</td>\n",
              "      <td>207.280</td>\n",
              "      <td>209.780</td>\n",
              "      <td>207.20</td>\n",
              "    </tr>\n",
              "    <tr>\n",
              "      <th>2018-08-10</th>\n",
              "      <td>207.53</td>\n",
              "      <td>24592460.0000</td>\n",
              "      <td>207.360</td>\n",
              "      <td>209.100</td>\n",
              "      <td>206.67</td>\n",
              "    </tr>\n",
              "    <tr>\n",
              "      <th>2018-08-13</th>\n",
              "      <td>208.87</td>\n",
              "      <td>25864510.0000</td>\n",
              "      <td>207.700</td>\n",
              "      <td>210.952</td>\n",
              "      <td>207.70</td>\n",
              "    </tr>\n",
              "    <tr>\n",
              "      <th>2018-08-14</th>\n",
              "      <td>209.75</td>\n",
              "      <td>20679270.0000</td>\n",
              "      <td>210.155</td>\n",
              "      <td>210.560</td>\n",
              "      <td>208.26</td>\n",
              "    </tr>\n",
              "    <tr>\n",
              "      <th>2018-08-15</th>\n",
              "      <td>210.24</td>\n",
              "      <td>28595230.0000</td>\n",
              "      <td>209.220</td>\n",
              "      <td>210.740</td>\n",
              "      <td>208.33</td>\n",
              "    </tr>\n",
              "  </tbody>\n",
              "</table>\n",
              "</div>\n",
              "      <button class=\"colab-df-convert\" onclick=\"convertToInteractive('df-9481d6ee-eb3b-4592-be08-fe35bd3d6af3')\"\n",
              "              title=\"Convert this dataframe to an interactive table.\"\n",
              "              style=\"display:none;\">\n",
              "\n",
              "  <svg xmlns=\"http://www.w3.org/2000/svg\" height=\"24px\"viewBox=\"0 0 24 24\"\n",
              "       width=\"24px\">\n",
              "    <path d=\"M0 0h24v24H0V0z\" fill=\"none\"/>\n",
              "    <path d=\"M18.56 5.44l.94 2.06.94-2.06 2.06-.94-2.06-.94-.94-2.06-.94 2.06-2.06.94zm-11 1L8.5 8.5l.94-2.06 2.06-.94-2.06-.94L8.5 2.5l-.94 2.06-2.06.94zm10 10l.94 2.06.94-2.06 2.06-.94-2.06-.94-.94-2.06-.94 2.06-2.06.94z\"/><path d=\"M17.41 7.96l-1.37-1.37c-.4-.4-.92-.59-1.43-.59-.52 0-1.04.2-1.43.59L10.3 9.45l-7.72 7.72c-.78.78-.78 2.05 0 2.83L4 21.41c.39.39.9.59 1.41.59.51 0 1.02-.2 1.41-.59l7.78-7.78 2.81-2.81c.8-.78.8-2.07 0-2.86zM5.41 20L4 18.59l7.72-7.72 1.47 1.35L5.41 20z\"/>\n",
              "  </svg>\n",
              "      </button>\n",
              "\n",
              "\n",
              "\n",
              "    <div id=\"df-9d6e5fb5-0c0e-49ab-9d1b-f76deac8089e\">\n",
              "      <button class=\"colab-df-quickchart\" onclick=\"quickchart('df-9d6e5fb5-0c0e-49ab-9d1b-f76deac8089e')\"\n",
              "              title=\"Suggest charts.\"\n",
              "              style=\"display:none;\">\n",
              "\n",
              "<svg xmlns=\"http://www.w3.org/2000/svg\" height=\"24px\"viewBox=\"0 0 24 24\"\n",
              "     width=\"24px\">\n",
              "    <g>\n",
              "        <path d=\"M19 3H5c-1.1 0-2 .9-2 2v14c0 1.1.9 2 2 2h14c1.1 0 2-.9 2-2V5c0-1.1-.9-2-2-2zM9 17H7v-7h2v7zm4 0h-2V7h2v10zm4 0h-2v-4h2v4z\"/>\n",
              "    </g>\n",
              "</svg>\n",
              "      </button>\n",
              "    </div>\n",
              "\n",
              "<style>\n",
              "  .colab-df-quickchart {\n",
              "    background-color: #E8F0FE;\n",
              "    border: none;\n",
              "    border-radius: 50%;\n",
              "    cursor: pointer;\n",
              "    display: none;\n",
              "    fill: #1967D2;\n",
              "    height: 32px;\n",
              "    padding: 0 0 0 0;\n",
              "    width: 32px;\n",
              "  }\n",
              "\n",
              "  .colab-df-quickchart:hover {\n",
              "    background-color: #E2EBFA;\n",
              "    box-shadow: 0px 1px 2px rgba(60, 64, 67, 0.3), 0px 1px 3px 1px rgba(60, 64, 67, 0.15);\n",
              "    fill: #174EA6;\n",
              "  }\n",
              "\n",
              "  [theme=dark] .colab-df-quickchart {\n",
              "    background-color: #3B4455;\n",
              "    fill: #D2E3FC;\n",
              "  }\n",
              "\n",
              "  [theme=dark] .colab-df-quickchart:hover {\n",
              "    background-color: #434B5C;\n",
              "    box-shadow: 0px 1px 3px 1px rgba(0, 0, 0, 0.15);\n",
              "    filter: drop-shadow(0px 1px 2px rgba(0, 0, 0, 0.3));\n",
              "    fill: #FFFFFF;\n",
              "  }\n",
              "</style>\n",
              "\n",
              "    <script>\n",
              "      async function quickchart(key) {\n",
              "        const containerElement = document.querySelector('#' + key);\n",
              "        const charts = await google.colab.kernel.invokeFunction(\n",
              "            'suggestCharts', [key], {});\n",
              "      }\n",
              "    </script>\n",
              "\n",
              "      <script>\n",
              "\n",
              "function displayQuickchartButton(domScope) {\n",
              "  let quickchartButtonEl =\n",
              "    domScope.querySelector('#df-9d6e5fb5-0c0e-49ab-9d1b-f76deac8089e button.colab-df-quickchart');\n",
              "  quickchartButtonEl.style.display =\n",
              "    google.colab.kernel.accessAllowed ? 'block' : 'none';\n",
              "}\n",
              "\n",
              "        displayQuickchartButton(document);\n",
              "      </script>\n",
              "      <style>\n",
              "    .colab-df-container {\n",
              "      display:flex;\n",
              "      flex-wrap:wrap;\n",
              "      gap: 12px;\n",
              "    }\n",
              "\n",
              "    .colab-df-convert {\n",
              "      background-color: #E8F0FE;\n",
              "      border: none;\n",
              "      border-radius: 50%;\n",
              "      cursor: pointer;\n",
              "      display: none;\n",
              "      fill: #1967D2;\n",
              "      height: 32px;\n",
              "      padding: 0 0 0 0;\n",
              "      width: 32px;\n",
              "    }\n",
              "\n",
              "    .colab-df-convert:hover {\n",
              "      background-color: #E2EBFA;\n",
              "      box-shadow: 0px 1px 2px rgba(60, 64, 67, 0.3), 0px 1px 3px 1px rgba(60, 64, 67, 0.15);\n",
              "      fill: #174EA6;\n",
              "    }\n",
              "\n",
              "    [theme=dark] .colab-df-convert {\n",
              "      background-color: #3B4455;\n",
              "      fill: #D2E3FC;\n",
              "    }\n",
              "\n",
              "    [theme=dark] .colab-df-convert:hover {\n",
              "      background-color: #434B5C;\n",
              "      box-shadow: 0px 1px 3px 1px rgba(0, 0, 0, 0.15);\n",
              "      filter: drop-shadow(0px 1px 2px rgba(0, 0, 0, 0.3));\n",
              "      fill: #FFFFFF;\n",
              "    }\n",
              "  </style>\n",
              "\n",
              "      <script>\n",
              "        const buttonEl =\n",
              "          document.querySelector('#df-9481d6ee-eb3b-4592-be08-fe35bd3d6af3 button.colab-df-convert');\n",
              "        buttonEl.style.display =\n",
              "          google.colab.kernel.accessAllowed ? 'block' : 'none';\n",
              "\n",
              "        async function convertToInteractive(key) {\n",
              "          const element = document.querySelector('#df-9481d6ee-eb3b-4592-be08-fe35bd3d6af3');\n",
              "          const dataTable =\n",
              "            await google.colab.kernel.invokeFunction('convertToInteractive',\n",
              "                                                     [key], {});\n",
              "          if (!dataTable) return;\n",
              "\n",
              "          const docLinkHtml = 'Like what you see? Visit the ' +\n",
              "            '<a target=\"_blank\" href=https://colab.research.google.com/notebooks/data_table.ipynb>data table notebook</a>'\n",
              "            + ' to learn more about interactive tables.';\n",
              "          element.innerHTML = '';\n",
              "          dataTable['output_type'] = 'display_data';\n",
              "          await google.colab.output.renderOutput(dataTable, element);\n",
              "          const docLink = document.createElement('div');\n",
              "          docLink.innerHTML = docLinkHtml;\n",
              "          element.appendChild(docLink);\n",
              "        }\n",
              "      </script>\n",
              "    </div>\n",
              "  </div>\n"
            ]
          },
          "metadata": {},
          "execution_count": 26
        }
      ]
    },
    {
      "cell_type": "markdown",
      "source": [
        "# why to convert date to datetime ? & why to set date as index ?\n",
        "\n",
        "start date --> 9th aug 2018\n",
        "\n",
        "end date --> 10th aug 2019\n",
        "\n",
        "if you want to slice by month\n",
        "\n",
        "ex. see the data of july 2019"
      ],
      "metadata": {
        "id": "ICrbbZsBZOvr"
      }
    },
    {
      "cell_type": "code",
      "source": [
        "df.loc['01-2019']"
      ],
      "metadata": {
        "colab": {
          "base_uri": "https://localhost:8080/",
          "height": 739
        },
        "id": "yVCeonMCY43g",
        "outputId": "c4283237-6be9-4f00-c8ba-09b30f5589e1"
      },
      "execution_count": 27,
      "outputs": [
        {
          "output_type": "execute_result",
          "data": {
            "text/plain": [
              "             close         volume    open      high       low\n",
              "date                                                         \n",
              "2019-01-02  157.92  35637070.0000  154.89  158.8500  154.2300\n",
              "2019-01-03  142.19  91106840.0000  143.98  145.7200  142.0000\n",
              "2019-01-04  148.26  57423650.0000  144.53  148.5499  143.8000\n",
              "2019-01-07  147.93  54571440.0000  148.70  148.8300  145.9000\n",
              "2019-01-08  150.75  40622910.0000  149.56  151.8200  148.5200\n",
              "2019-01-09  153.31  45034370.0000  151.29  154.5300  149.6300\n",
              "2019-01-10  153.80  35661200.0000  152.50  153.9700  150.8600\n",
              "2019-01-11  152.29  26924630.0000  152.88  153.7000  151.5100\n",
              "2019-01-14  150.00  32018540.0000  150.85  151.2700  149.2200\n",
              "2019-01-15  153.07  28449940.0000  150.27  153.3900  150.0500\n",
              "2019-01-16  154.94  30483120.0000  153.08  155.8800  153.0000\n",
              "2019-01-17  155.86  29616190.0000  154.20  157.6600  153.2600\n",
              "2019-01-18  156.82  33259460.0000  157.50  157.8800  155.9806\n",
              "2019-01-22  153.30  30273990.0000  156.41  156.7300  152.6200\n",
              "2019-01-23  153.92  23046560.0000  154.15  155.1400  151.7000\n",
              "2019-01-24  152.70  25418110.0000  154.11  154.4800  151.7400\n",
              "2019-01-25  157.76  33508960.0000  155.48  158.1300  154.3200\n",
              "2019-01-28  156.30  26147280.0000  155.79  156.3300  153.6600\n",
              "2019-01-29  154.68  39914850.0000  156.25  158.1300  154.1100\n",
              "2019-01-30  165.25  60800480.0000  163.25  166.1500  160.2300\n",
              "2019-01-31  166.44  40613260.0000  166.11  169.0000  164.5600"
            ],
            "text/html": [
              "\n",
              "\n",
              "  <div id=\"df-547b274b-3708-4696-96a3-f9f79fa0285d\">\n",
              "    <div class=\"colab-df-container\">\n",
              "      <div>\n",
              "<style scoped>\n",
              "    .dataframe tbody tr th:only-of-type {\n",
              "        vertical-align: middle;\n",
              "    }\n",
              "\n",
              "    .dataframe tbody tr th {\n",
              "        vertical-align: top;\n",
              "    }\n",
              "\n",
              "    .dataframe thead th {\n",
              "        text-align: right;\n",
              "    }\n",
              "</style>\n",
              "<table border=\"1\" class=\"dataframe\">\n",
              "  <thead>\n",
              "    <tr style=\"text-align: right;\">\n",
              "      <th></th>\n",
              "      <th>close</th>\n",
              "      <th>volume</th>\n",
              "      <th>open</th>\n",
              "      <th>high</th>\n",
              "      <th>low</th>\n",
              "    </tr>\n",
              "    <tr>\n",
              "      <th>date</th>\n",
              "      <th></th>\n",
              "      <th></th>\n",
              "      <th></th>\n",
              "      <th></th>\n",
              "      <th></th>\n",
              "    </tr>\n",
              "  </thead>\n",
              "  <tbody>\n",
              "    <tr>\n",
              "      <th>2019-01-02</th>\n",
              "      <td>157.92</td>\n",
              "      <td>35637070.0000</td>\n",
              "      <td>154.89</td>\n",
              "      <td>158.8500</td>\n",
              "      <td>154.2300</td>\n",
              "    </tr>\n",
              "    <tr>\n",
              "      <th>2019-01-03</th>\n",
              "      <td>142.19</td>\n",
              "      <td>91106840.0000</td>\n",
              "      <td>143.98</td>\n",
              "      <td>145.7200</td>\n",
              "      <td>142.0000</td>\n",
              "    </tr>\n",
              "    <tr>\n",
              "      <th>2019-01-04</th>\n",
              "      <td>148.26</td>\n",
              "      <td>57423650.0000</td>\n",
              "      <td>144.53</td>\n",
              "      <td>148.5499</td>\n",
              "      <td>143.8000</td>\n",
              "    </tr>\n",
              "    <tr>\n",
              "      <th>2019-01-07</th>\n",
              "      <td>147.93</td>\n",
              "      <td>54571440.0000</td>\n",
              "      <td>148.70</td>\n",
              "      <td>148.8300</td>\n",
              "      <td>145.9000</td>\n",
              "    </tr>\n",
              "    <tr>\n",
              "      <th>2019-01-08</th>\n",
              "      <td>150.75</td>\n",
              "      <td>40622910.0000</td>\n",
              "      <td>149.56</td>\n",
              "      <td>151.8200</td>\n",
              "      <td>148.5200</td>\n",
              "    </tr>\n",
              "    <tr>\n",
              "      <th>2019-01-09</th>\n",
              "      <td>153.31</td>\n",
              "      <td>45034370.0000</td>\n",
              "      <td>151.29</td>\n",
              "      <td>154.5300</td>\n",
              "      <td>149.6300</td>\n",
              "    </tr>\n",
              "    <tr>\n",
              "      <th>2019-01-10</th>\n",
              "      <td>153.80</td>\n",
              "      <td>35661200.0000</td>\n",
              "      <td>152.50</td>\n",
              "      <td>153.9700</td>\n",
              "      <td>150.8600</td>\n",
              "    </tr>\n",
              "    <tr>\n",
              "      <th>2019-01-11</th>\n",
              "      <td>152.29</td>\n",
              "      <td>26924630.0000</td>\n",
              "      <td>152.88</td>\n",
              "      <td>153.7000</td>\n",
              "      <td>151.5100</td>\n",
              "    </tr>\n",
              "    <tr>\n",
              "      <th>2019-01-14</th>\n",
              "      <td>150.00</td>\n",
              "      <td>32018540.0000</td>\n",
              "      <td>150.85</td>\n",
              "      <td>151.2700</td>\n",
              "      <td>149.2200</td>\n",
              "    </tr>\n",
              "    <tr>\n",
              "      <th>2019-01-15</th>\n",
              "      <td>153.07</td>\n",
              "      <td>28449940.0000</td>\n",
              "      <td>150.27</td>\n",
              "      <td>153.3900</td>\n",
              "      <td>150.0500</td>\n",
              "    </tr>\n",
              "    <tr>\n",
              "      <th>2019-01-16</th>\n",
              "      <td>154.94</td>\n",
              "      <td>30483120.0000</td>\n",
              "      <td>153.08</td>\n",
              "      <td>155.8800</td>\n",
              "      <td>153.0000</td>\n",
              "    </tr>\n",
              "    <tr>\n",
              "      <th>2019-01-17</th>\n",
              "      <td>155.86</td>\n",
              "      <td>29616190.0000</td>\n",
              "      <td>154.20</td>\n",
              "      <td>157.6600</td>\n",
              "      <td>153.2600</td>\n",
              "    </tr>\n",
              "    <tr>\n",
              "      <th>2019-01-18</th>\n",
              "      <td>156.82</td>\n",
              "      <td>33259460.0000</td>\n",
              "      <td>157.50</td>\n",
              "      <td>157.8800</td>\n",
              "      <td>155.9806</td>\n",
              "    </tr>\n",
              "    <tr>\n",
              "      <th>2019-01-22</th>\n",
              "      <td>153.30</td>\n",
              "      <td>30273990.0000</td>\n",
              "      <td>156.41</td>\n",
              "      <td>156.7300</td>\n",
              "      <td>152.6200</td>\n",
              "    </tr>\n",
              "    <tr>\n",
              "      <th>2019-01-23</th>\n",
              "      <td>153.92</td>\n",
              "      <td>23046560.0000</td>\n",
              "      <td>154.15</td>\n",
              "      <td>155.1400</td>\n",
              "      <td>151.7000</td>\n",
              "    </tr>\n",
              "    <tr>\n",
              "      <th>2019-01-24</th>\n",
              "      <td>152.70</td>\n",
              "      <td>25418110.0000</td>\n",
              "      <td>154.11</td>\n",
              "      <td>154.4800</td>\n",
              "      <td>151.7400</td>\n",
              "    </tr>\n",
              "    <tr>\n",
              "      <th>2019-01-25</th>\n",
              "      <td>157.76</td>\n",
              "      <td>33508960.0000</td>\n",
              "      <td>155.48</td>\n",
              "      <td>158.1300</td>\n",
              "      <td>154.3200</td>\n",
              "    </tr>\n",
              "    <tr>\n",
              "      <th>2019-01-28</th>\n",
              "      <td>156.30</td>\n",
              "      <td>26147280.0000</td>\n",
              "      <td>155.79</td>\n",
              "      <td>156.3300</td>\n",
              "      <td>153.6600</td>\n",
              "    </tr>\n",
              "    <tr>\n",
              "      <th>2019-01-29</th>\n",
              "      <td>154.68</td>\n",
              "      <td>39914850.0000</td>\n",
              "      <td>156.25</td>\n",
              "      <td>158.1300</td>\n",
              "      <td>154.1100</td>\n",
              "    </tr>\n",
              "    <tr>\n",
              "      <th>2019-01-30</th>\n",
              "      <td>165.25</td>\n",
              "      <td>60800480.0000</td>\n",
              "      <td>163.25</td>\n",
              "      <td>166.1500</td>\n",
              "      <td>160.2300</td>\n",
              "    </tr>\n",
              "    <tr>\n",
              "      <th>2019-01-31</th>\n",
              "      <td>166.44</td>\n",
              "      <td>40613260.0000</td>\n",
              "      <td>166.11</td>\n",
              "      <td>169.0000</td>\n",
              "      <td>164.5600</td>\n",
              "    </tr>\n",
              "  </tbody>\n",
              "</table>\n",
              "</div>\n",
              "      <button class=\"colab-df-convert\" onclick=\"convertToInteractive('df-547b274b-3708-4696-96a3-f9f79fa0285d')\"\n",
              "              title=\"Convert this dataframe to an interactive table.\"\n",
              "              style=\"display:none;\">\n",
              "\n",
              "  <svg xmlns=\"http://www.w3.org/2000/svg\" height=\"24px\"viewBox=\"0 0 24 24\"\n",
              "       width=\"24px\">\n",
              "    <path d=\"M0 0h24v24H0V0z\" fill=\"none\"/>\n",
              "    <path d=\"M18.56 5.44l.94 2.06.94-2.06 2.06-.94-2.06-.94-.94-2.06-.94 2.06-2.06.94zm-11 1L8.5 8.5l.94-2.06 2.06-.94-2.06-.94L8.5 2.5l-.94 2.06-2.06.94zm10 10l.94 2.06.94-2.06 2.06-.94-2.06-.94-.94-2.06-.94 2.06-2.06.94z\"/><path d=\"M17.41 7.96l-1.37-1.37c-.4-.4-.92-.59-1.43-.59-.52 0-1.04.2-1.43.59L10.3 9.45l-7.72 7.72c-.78.78-.78 2.05 0 2.83L4 21.41c.39.39.9.59 1.41.59.51 0 1.02-.2 1.41-.59l7.78-7.78 2.81-2.81c.8-.78.8-2.07 0-2.86zM5.41 20L4 18.59l7.72-7.72 1.47 1.35L5.41 20z\"/>\n",
              "  </svg>\n",
              "      </button>\n",
              "\n",
              "\n",
              "\n",
              "    <div id=\"df-313810aa-3d36-4c9a-8c55-a50d90ebc5c6\">\n",
              "      <button class=\"colab-df-quickchart\" onclick=\"quickchart('df-313810aa-3d36-4c9a-8c55-a50d90ebc5c6')\"\n",
              "              title=\"Suggest charts.\"\n",
              "              style=\"display:none;\">\n",
              "\n",
              "<svg xmlns=\"http://www.w3.org/2000/svg\" height=\"24px\"viewBox=\"0 0 24 24\"\n",
              "     width=\"24px\">\n",
              "    <g>\n",
              "        <path d=\"M19 3H5c-1.1 0-2 .9-2 2v14c0 1.1.9 2 2 2h14c1.1 0 2-.9 2-2V5c0-1.1-.9-2-2-2zM9 17H7v-7h2v7zm4 0h-2V7h2v10zm4 0h-2v-4h2v4z\"/>\n",
              "    </g>\n",
              "</svg>\n",
              "      </button>\n",
              "    </div>\n",
              "\n",
              "<style>\n",
              "  .colab-df-quickchart {\n",
              "    background-color: #E8F0FE;\n",
              "    border: none;\n",
              "    border-radius: 50%;\n",
              "    cursor: pointer;\n",
              "    display: none;\n",
              "    fill: #1967D2;\n",
              "    height: 32px;\n",
              "    padding: 0 0 0 0;\n",
              "    width: 32px;\n",
              "  }\n",
              "\n",
              "  .colab-df-quickchart:hover {\n",
              "    background-color: #E2EBFA;\n",
              "    box-shadow: 0px 1px 2px rgba(60, 64, 67, 0.3), 0px 1px 3px 1px rgba(60, 64, 67, 0.15);\n",
              "    fill: #174EA6;\n",
              "  }\n",
              "\n",
              "  [theme=dark] .colab-df-quickchart {\n",
              "    background-color: #3B4455;\n",
              "    fill: #D2E3FC;\n",
              "  }\n",
              "\n",
              "  [theme=dark] .colab-df-quickchart:hover {\n",
              "    background-color: #434B5C;\n",
              "    box-shadow: 0px 1px 3px 1px rgba(0, 0, 0, 0.15);\n",
              "    filter: drop-shadow(0px 1px 2px rgba(0, 0, 0, 0.3));\n",
              "    fill: #FFFFFF;\n",
              "  }\n",
              "</style>\n",
              "\n",
              "    <script>\n",
              "      async function quickchart(key) {\n",
              "        const containerElement = document.querySelector('#' + key);\n",
              "        const charts = await google.colab.kernel.invokeFunction(\n",
              "            'suggestCharts', [key], {});\n",
              "      }\n",
              "    </script>\n",
              "\n",
              "      <script>\n",
              "\n",
              "function displayQuickchartButton(domScope) {\n",
              "  let quickchartButtonEl =\n",
              "    domScope.querySelector('#df-313810aa-3d36-4c9a-8c55-a50d90ebc5c6 button.colab-df-quickchart');\n",
              "  quickchartButtonEl.style.display =\n",
              "    google.colab.kernel.accessAllowed ? 'block' : 'none';\n",
              "}\n",
              "\n",
              "        displayQuickchartButton(document);\n",
              "      </script>\n",
              "      <style>\n",
              "    .colab-df-container {\n",
              "      display:flex;\n",
              "      flex-wrap:wrap;\n",
              "      gap: 12px;\n",
              "    }\n",
              "\n",
              "    .colab-df-convert {\n",
              "      background-color: #E8F0FE;\n",
              "      border: none;\n",
              "      border-radius: 50%;\n",
              "      cursor: pointer;\n",
              "      display: none;\n",
              "      fill: #1967D2;\n",
              "      height: 32px;\n",
              "      padding: 0 0 0 0;\n",
              "      width: 32px;\n",
              "    }\n",
              "\n",
              "    .colab-df-convert:hover {\n",
              "      background-color: #E2EBFA;\n",
              "      box-shadow: 0px 1px 2px rgba(60, 64, 67, 0.3), 0px 1px 3px 1px rgba(60, 64, 67, 0.15);\n",
              "      fill: #174EA6;\n",
              "    }\n",
              "\n",
              "    [theme=dark] .colab-df-convert {\n",
              "      background-color: #3B4455;\n",
              "      fill: #D2E3FC;\n",
              "    }\n",
              "\n",
              "    [theme=dark] .colab-df-convert:hover {\n",
              "      background-color: #434B5C;\n",
              "      box-shadow: 0px 1px 3px 1px rgba(0, 0, 0, 0.15);\n",
              "      filter: drop-shadow(0px 1px 2px rgba(0, 0, 0, 0.3));\n",
              "      fill: #FFFFFF;\n",
              "    }\n",
              "  </style>\n",
              "\n",
              "      <script>\n",
              "        const buttonEl =\n",
              "          document.querySelector('#df-547b274b-3708-4696-96a3-f9f79fa0285d button.colab-df-convert');\n",
              "        buttonEl.style.display =\n",
              "          google.colab.kernel.accessAllowed ? 'block' : 'none';\n",
              "\n",
              "        async function convertToInteractive(key) {\n",
              "          const element = document.querySelector('#df-547b274b-3708-4696-96a3-f9f79fa0285d');\n",
              "          const dataTable =\n",
              "            await google.colab.kernel.invokeFunction('convertToInteractive',\n",
              "                                                     [key], {});\n",
              "          if (!dataTable) return;\n",
              "\n",
              "          const docLinkHtml = 'Like what you see? Visit the ' +\n",
              "            '<a target=\"_blank\" href=https://colab.research.google.com/notebooks/data_table.ipynb>data table notebook</a>'\n",
              "            + ' to learn more about interactive tables.';\n",
              "          element.innerHTML = '';\n",
              "          dataTable['output_type'] = 'display_data';\n",
              "          await google.colab.output.renderOutput(dataTable, element);\n",
              "          const docLink = document.createElement('div');\n",
              "          docLink.innerHTML = docLinkHtml;\n",
              "          element.appendChild(docLink);\n",
              "        }\n",
              "      </script>\n",
              "    </div>\n",
              "  </div>\n"
            ]
          },
          "metadata": {},
          "execution_count": 27
        }
      ]
    },
    {
      "cell_type": "markdown",
      "source": [
        "# Understand missing values\n",
        "\n",
        "In time series missing value means missing records ( rows)  , means complete date / time is missing"
      ],
      "metadata": {
        "id": "xCpEUqVXaVHi"
      }
    },
    {
      "cell_type": "code",
      "source": [
        "df.isnull().sum() # Not going to show missing values"
      ],
      "metadata": {
        "colab": {
          "base_uri": "https://localhost:8080/"
        },
        "id": "QzW8VlyZZrMA",
        "outputId": "274d050f-76f6-4e20-afb2-0664d454dcd3"
      },
      "execution_count": 28,
      "outputs": [
        {
          "output_type": "execute_result",
          "data": {
            "text/plain": [
              "close     0\n",
              "volume    0\n",
              "open      0\n",
              "high      0\n",
              "low       0\n",
              "dtype: int64"
            ]
          },
          "metadata": {},
          "execution_count": 28
        }
      ]
    },
    {
      "cell_type": "markdown",
      "source": [
        "## Step 1 : find the frequency of records\n",
        "\n",
        "Various frequencies supported by pandas\n",
        "\n",
        "https://pandas.pydata.org/pandas-docs/stable/user_guide/timeseries.html#offset-aliases"
      ],
      "metadata": {
        "id": "i6kEDxGUa8C4"
      }
    },
    {
      "cell_type": "code",
      "source": [
        "df.head(10)"
      ],
      "metadata": {
        "colab": {
          "base_uri": "https://localhost:8080/",
          "height": 394
        },
        "id": "JR7g7runaaTA",
        "outputId": "24a28303-8b2e-4d7a-8324-5d47fb2638e4"
      },
      "execution_count": 29,
      "outputs": [
        {
          "output_type": "execute_result",
          "data": {
            "text/plain": [
              "             close         volume     open      high      low\n",
              "date                                                         \n",
              "2018-08-09  208.88  23389530.0000  207.280  209.7800  207.200\n",
              "2018-08-10  207.53  24592460.0000  207.360  209.1000  206.670\n",
              "2018-08-13  208.87  25864510.0000  207.700  210.9520  207.700\n",
              "2018-08-14  209.75  20679270.0000  210.155  210.5600  208.260\n",
              "2018-08-15  210.24  28595230.0000  209.220  210.7400  208.330\n",
              "2018-08-16  213.32  27595310.0000  211.750  213.8121  211.470\n",
              "2018-08-17  217.58  35034410.0000  213.440  217.9500  213.160\n",
              "2018-08-20  215.46  30149410.0000  218.100  219.1800  215.110\n",
              "2018-08-21  215.04  25682700.0000  216.800  217.1900  214.025\n",
              "2018-08-22  215.05  18965930.0000  214.100  216.3600  213.840"
            ],
            "text/html": [
              "\n",
              "\n",
              "  <div id=\"df-b6ddcace-8a21-4fae-8622-7ba825c5073f\">\n",
              "    <div class=\"colab-df-container\">\n",
              "      <div>\n",
              "<style scoped>\n",
              "    .dataframe tbody tr th:only-of-type {\n",
              "        vertical-align: middle;\n",
              "    }\n",
              "\n",
              "    .dataframe tbody tr th {\n",
              "        vertical-align: top;\n",
              "    }\n",
              "\n",
              "    .dataframe thead th {\n",
              "        text-align: right;\n",
              "    }\n",
              "</style>\n",
              "<table border=\"1\" class=\"dataframe\">\n",
              "  <thead>\n",
              "    <tr style=\"text-align: right;\">\n",
              "      <th></th>\n",
              "      <th>close</th>\n",
              "      <th>volume</th>\n",
              "      <th>open</th>\n",
              "      <th>high</th>\n",
              "      <th>low</th>\n",
              "    </tr>\n",
              "    <tr>\n",
              "      <th>date</th>\n",
              "      <th></th>\n",
              "      <th></th>\n",
              "      <th></th>\n",
              "      <th></th>\n",
              "      <th></th>\n",
              "    </tr>\n",
              "  </thead>\n",
              "  <tbody>\n",
              "    <tr>\n",
              "      <th>2018-08-09</th>\n",
              "      <td>208.88</td>\n",
              "      <td>23389530.0000</td>\n",
              "      <td>207.280</td>\n",
              "      <td>209.7800</td>\n",
              "      <td>207.200</td>\n",
              "    </tr>\n",
              "    <tr>\n",
              "      <th>2018-08-10</th>\n",
              "      <td>207.53</td>\n",
              "      <td>24592460.0000</td>\n",
              "      <td>207.360</td>\n",
              "      <td>209.1000</td>\n",
              "      <td>206.670</td>\n",
              "    </tr>\n",
              "    <tr>\n",
              "      <th>2018-08-13</th>\n",
              "      <td>208.87</td>\n",
              "      <td>25864510.0000</td>\n",
              "      <td>207.700</td>\n",
              "      <td>210.9520</td>\n",
              "      <td>207.700</td>\n",
              "    </tr>\n",
              "    <tr>\n",
              "      <th>2018-08-14</th>\n",
              "      <td>209.75</td>\n",
              "      <td>20679270.0000</td>\n",
              "      <td>210.155</td>\n",
              "      <td>210.5600</td>\n",
              "      <td>208.260</td>\n",
              "    </tr>\n",
              "    <tr>\n",
              "      <th>2018-08-15</th>\n",
              "      <td>210.24</td>\n",
              "      <td>28595230.0000</td>\n",
              "      <td>209.220</td>\n",
              "      <td>210.7400</td>\n",
              "      <td>208.330</td>\n",
              "    </tr>\n",
              "    <tr>\n",
              "      <th>2018-08-16</th>\n",
              "      <td>213.32</td>\n",
              "      <td>27595310.0000</td>\n",
              "      <td>211.750</td>\n",
              "      <td>213.8121</td>\n",
              "      <td>211.470</td>\n",
              "    </tr>\n",
              "    <tr>\n",
              "      <th>2018-08-17</th>\n",
              "      <td>217.58</td>\n",
              "      <td>35034410.0000</td>\n",
              "      <td>213.440</td>\n",
              "      <td>217.9500</td>\n",
              "      <td>213.160</td>\n",
              "    </tr>\n",
              "    <tr>\n",
              "      <th>2018-08-20</th>\n",
              "      <td>215.46</td>\n",
              "      <td>30149410.0000</td>\n",
              "      <td>218.100</td>\n",
              "      <td>219.1800</td>\n",
              "      <td>215.110</td>\n",
              "    </tr>\n",
              "    <tr>\n",
              "      <th>2018-08-21</th>\n",
              "      <td>215.04</td>\n",
              "      <td>25682700.0000</td>\n",
              "      <td>216.800</td>\n",
              "      <td>217.1900</td>\n",
              "      <td>214.025</td>\n",
              "    </tr>\n",
              "    <tr>\n",
              "      <th>2018-08-22</th>\n",
              "      <td>215.05</td>\n",
              "      <td>18965930.0000</td>\n",
              "      <td>214.100</td>\n",
              "      <td>216.3600</td>\n",
              "      <td>213.840</td>\n",
              "    </tr>\n",
              "  </tbody>\n",
              "</table>\n",
              "</div>\n",
              "      <button class=\"colab-df-convert\" onclick=\"convertToInteractive('df-b6ddcace-8a21-4fae-8622-7ba825c5073f')\"\n",
              "              title=\"Convert this dataframe to an interactive table.\"\n",
              "              style=\"display:none;\">\n",
              "\n",
              "  <svg xmlns=\"http://www.w3.org/2000/svg\" height=\"24px\"viewBox=\"0 0 24 24\"\n",
              "       width=\"24px\">\n",
              "    <path d=\"M0 0h24v24H0V0z\" fill=\"none\"/>\n",
              "    <path d=\"M18.56 5.44l.94 2.06.94-2.06 2.06-.94-2.06-.94-.94-2.06-.94 2.06-2.06.94zm-11 1L8.5 8.5l.94-2.06 2.06-.94-2.06-.94L8.5 2.5l-.94 2.06-2.06.94zm10 10l.94 2.06.94-2.06 2.06-.94-2.06-.94-.94-2.06-.94 2.06-2.06.94z\"/><path d=\"M17.41 7.96l-1.37-1.37c-.4-.4-.92-.59-1.43-.59-.52 0-1.04.2-1.43.59L10.3 9.45l-7.72 7.72c-.78.78-.78 2.05 0 2.83L4 21.41c.39.39.9.59 1.41.59.51 0 1.02-.2 1.41-.59l7.78-7.78 2.81-2.81c.8-.78.8-2.07 0-2.86zM5.41 20L4 18.59l7.72-7.72 1.47 1.35L5.41 20z\"/>\n",
              "  </svg>\n",
              "      </button>\n",
              "\n",
              "\n",
              "\n",
              "    <div id=\"df-882b57df-21a5-41ab-ac51-89a7154b06ab\">\n",
              "      <button class=\"colab-df-quickchart\" onclick=\"quickchart('df-882b57df-21a5-41ab-ac51-89a7154b06ab')\"\n",
              "              title=\"Suggest charts.\"\n",
              "              style=\"display:none;\">\n",
              "\n",
              "<svg xmlns=\"http://www.w3.org/2000/svg\" height=\"24px\"viewBox=\"0 0 24 24\"\n",
              "     width=\"24px\">\n",
              "    <g>\n",
              "        <path d=\"M19 3H5c-1.1 0-2 .9-2 2v14c0 1.1.9 2 2 2h14c1.1 0 2-.9 2-2V5c0-1.1-.9-2-2-2zM9 17H7v-7h2v7zm4 0h-2V7h2v10zm4 0h-2v-4h2v4z\"/>\n",
              "    </g>\n",
              "</svg>\n",
              "      </button>\n",
              "    </div>\n",
              "\n",
              "<style>\n",
              "  .colab-df-quickchart {\n",
              "    background-color: #E8F0FE;\n",
              "    border: none;\n",
              "    border-radius: 50%;\n",
              "    cursor: pointer;\n",
              "    display: none;\n",
              "    fill: #1967D2;\n",
              "    height: 32px;\n",
              "    padding: 0 0 0 0;\n",
              "    width: 32px;\n",
              "  }\n",
              "\n",
              "  .colab-df-quickchart:hover {\n",
              "    background-color: #E2EBFA;\n",
              "    box-shadow: 0px 1px 2px rgba(60, 64, 67, 0.3), 0px 1px 3px 1px rgba(60, 64, 67, 0.15);\n",
              "    fill: #174EA6;\n",
              "  }\n",
              "\n",
              "  [theme=dark] .colab-df-quickchart {\n",
              "    background-color: #3B4455;\n",
              "    fill: #D2E3FC;\n",
              "  }\n",
              "\n",
              "  [theme=dark] .colab-df-quickchart:hover {\n",
              "    background-color: #434B5C;\n",
              "    box-shadow: 0px 1px 3px 1px rgba(0, 0, 0, 0.15);\n",
              "    filter: drop-shadow(0px 1px 2px rgba(0, 0, 0, 0.3));\n",
              "    fill: #FFFFFF;\n",
              "  }\n",
              "</style>\n",
              "\n",
              "    <script>\n",
              "      async function quickchart(key) {\n",
              "        const containerElement = document.querySelector('#' + key);\n",
              "        const charts = await google.colab.kernel.invokeFunction(\n",
              "            'suggestCharts', [key], {});\n",
              "      }\n",
              "    </script>\n",
              "\n",
              "      <script>\n",
              "\n",
              "function displayQuickchartButton(domScope) {\n",
              "  let quickchartButtonEl =\n",
              "    domScope.querySelector('#df-882b57df-21a5-41ab-ac51-89a7154b06ab button.colab-df-quickchart');\n",
              "  quickchartButtonEl.style.display =\n",
              "    google.colab.kernel.accessAllowed ? 'block' : 'none';\n",
              "}\n",
              "\n",
              "        displayQuickchartButton(document);\n",
              "      </script>\n",
              "      <style>\n",
              "    .colab-df-container {\n",
              "      display:flex;\n",
              "      flex-wrap:wrap;\n",
              "      gap: 12px;\n",
              "    }\n",
              "\n",
              "    .colab-df-convert {\n",
              "      background-color: #E8F0FE;\n",
              "      border: none;\n",
              "      border-radius: 50%;\n",
              "      cursor: pointer;\n",
              "      display: none;\n",
              "      fill: #1967D2;\n",
              "      height: 32px;\n",
              "      padding: 0 0 0 0;\n",
              "      width: 32px;\n",
              "    }\n",
              "\n",
              "    .colab-df-convert:hover {\n",
              "      background-color: #E2EBFA;\n",
              "      box-shadow: 0px 1px 2px rgba(60, 64, 67, 0.3), 0px 1px 3px 1px rgba(60, 64, 67, 0.15);\n",
              "      fill: #174EA6;\n",
              "    }\n",
              "\n",
              "    [theme=dark] .colab-df-convert {\n",
              "      background-color: #3B4455;\n",
              "      fill: #D2E3FC;\n",
              "    }\n",
              "\n",
              "    [theme=dark] .colab-df-convert:hover {\n",
              "      background-color: #434B5C;\n",
              "      box-shadow: 0px 1px 3px 1px rgba(0, 0, 0, 0.15);\n",
              "      filter: drop-shadow(0px 1px 2px rgba(0, 0, 0, 0.3));\n",
              "      fill: #FFFFFF;\n",
              "    }\n",
              "  </style>\n",
              "\n",
              "      <script>\n",
              "        const buttonEl =\n",
              "          document.querySelector('#df-b6ddcace-8a21-4fae-8622-7ba825c5073f button.colab-df-convert');\n",
              "        buttonEl.style.display =\n",
              "          google.colab.kernel.accessAllowed ? 'block' : 'none';\n",
              "\n",
              "        async function convertToInteractive(key) {\n",
              "          const element = document.querySelector('#df-b6ddcace-8a21-4fae-8622-7ba825c5073f');\n",
              "          const dataTable =\n",
              "            await google.colab.kernel.invokeFunction('convertToInteractive',\n",
              "                                                     [key], {});\n",
              "          if (!dataTable) return;\n",
              "\n",
              "          const docLinkHtml = 'Like what you see? Visit the ' +\n",
              "            '<a target=\"_blank\" href=https://colab.research.google.com/notebooks/data_table.ipynb>data table notebook</a>'\n",
              "            + ' to learn more about interactive tables.';\n",
              "          element.innerHTML = '';\n",
              "          dataTable['output_type'] = 'display_data';\n",
              "          await google.colab.output.renderOutput(dataTable, element);\n",
              "          const docLink = document.createElement('div');\n",
              "          docLink.innerHTML = docLinkHtml;\n",
              "          element.appendChild(docLink);\n",
              "        }\n",
              "      </script>\n",
              "    </div>\n",
              "  </div>\n"
            ]
          },
          "metadata": {},
          "execution_count": 29
        }
      ]
    },
    {
      "cell_type": "markdown",
      "source": [
        "## Step 2: use asfreq function in pandas and store result in new data frame\n",
        "\n",
        "this function is going to check if all the time values ( dates / hrs / mins / months ) are present\n",
        "\n",
        "if any time value is missing , then it creates a new row for that missing value and fills it with NaN"
      ],
      "metadata": {
        "id": "bYd0hKD1cYOR"
      }
    },
    {
      "cell_type": "code",
      "source": [
        "df_new = df.asfreq('B')"
      ],
      "metadata": {
        "id": "8RPO_BG-bCSZ"
      },
      "execution_count": 30,
      "outputs": []
    },
    {
      "cell_type": "code",
      "source": [
        "df.shape,df_new.shape"
      ],
      "metadata": {
        "colab": {
          "base_uri": "https://localhost:8080/"
        },
        "id": "qx596qaHc0tR",
        "outputId": "df745d70-a603-4b1d-d7c5-986bda05e2c9"
      },
      "execution_count": 31,
      "outputs": [
        {
          "output_type": "execute_result",
          "data": {
            "text/plain": [
              "((253, 5), (262, 5))"
            ]
          },
          "metadata": {},
          "execution_count": 31
        }
      ]
    },
    {
      "cell_type": "code",
      "source": [
        "df_new.isnull().sum()"
      ],
      "metadata": {
        "colab": {
          "base_uri": "https://localhost:8080/"
        },
        "id": "eHdXgFC7drsb",
        "outputId": "4b67053f-e7df-462c-b38d-b7b90c3f8a78"
      },
      "execution_count": 32,
      "outputs": [
        {
          "output_type": "execute_result",
          "data": {
            "text/plain": [
              "close     10\n",
              "volume    10\n",
              "open      10\n",
              "high      10\n",
              "low       10\n",
              "dtype: int64"
            ]
          },
          "metadata": {},
          "execution_count": 32
        }
      ]
    },
    {
      "cell_type": "code",
      "source": [
        "df_daily = df.asfreq('D')"
      ],
      "metadata": {
        "id": "7HvOrfsAc2eo"
      },
      "execution_count": 33,
      "outputs": []
    },
    {
      "cell_type": "code",
      "source": [
        "df_daily.shape"
      ],
      "metadata": {
        "colab": {
          "base_uri": "https://localhost:8080/"
        },
        "id": "svEKwDoadO4x",
        "outputId": "2f0934b5-8b0c-4f0f-fa99-83b7cf295d83"
      },
      "execution_count": 34,
      "outputs": [
        {
          "output_type": "execute_result",
          "data": {
            "text/plain": [
              "(367, 5)"
            ]
          },
          "metadata": {},
          "execution_count": 34
        }
      ]
    },
    {
      "cell_type": "markdown",
      "source": [
        "## Step 3 :: Fill the missing values ( Don't use median / mode / mean)\n",
        "\n",
        "- what to use to fill ??\n",
        "\n",
        "previous day (frontfill)  or next day value  (backfill)"
      ],
      "metadata": {
        "id": "Kuc2rUV8eM9q"
      }
    },
    {
      "cell_type": "code",
      "source": [
        "df_new.fillna(method='ffill', inplace=True) # fill missing with previous days values"
      ],
      "metadata": {
        "id": "4xX68EBae3mV"
      },
      "execution_count": 35,
      "outputs": []
    },
    {
      "cell_type": "code",
      "source": [
        "df_new.isnull().sum()"
      ],
      "metadata": {
        "colab": {
          "base_uri": "https://localhost:8080/"
        },
        "id": "n12j7FgifZhg",
        "outputId": "aeda105c-b485-467e-ae03-dafa4b321f13"
      },
      "execution_count": 36,
      "outputs": [
        {
          "output_type": "execute_result",
          "data": {
            "text/plain": [
              "close     0\n",
              "volume    0\n",
              "open      0\n",
              "high      0\n",
              "low       0\n",
              "dtype: int64"
            ]
          },
          "metadata": {},
          "execution_count": 36
        }
      ]
    },
    {
      "cell_type": "markdown",
      "source": [
        "# Decompose the time series\n",
        "\n",
        "\n",
        "Time series is made up of\n",
        "\n",
        "- Trend -> moving average\n",
        "\n",
        "average value of last few observations\n",
        "\n",
        "ex. what is trend of last week sales , whats trend of last month share market ,etc\n",
        "\n",
        "- Seasonality -> repeatition pattern\n",
        "\n",
        "ex. seasonal sales of rain coat, sales on festivals ( diwali), rainy season, etc\n",
        "\n",
        "- Residue / noise --> random value which cannot be modeled\n",
        "\n",
        "This will always induce error so TS model never has 0 error\n",
        "\n",
        "\n",
        "Two types of time series\n",
        "\n",
        "- Additive\n",
        "\n",
        "TS Value = Trend + Seasonality + noise\n",
        "\n",
        "- Multiplicative\n",
        "\n",
        "TS value = Trend * Seasonality * noise\n",
        "\n",
        "\n"
      ],
      "metadata": {
        "id": "ra7c3mangE0A"
      }
    },
    {
      "cell_type": "markdown",
      "source": [
        "## NOTE OF CAUTION :: ONLY use non missing value dates ... if any dates are missing in the data then following code will start giving ERROR"
      ],
      "metadata": {
        "id": "oX-fkJtJkXj5"
      }
    },
    {
      "cell_type": "code",
      "source": [
        "import matplotlib.pyplot as plt\n",
        "from statsmodels.tsa.seasonal import seasonal_decompose\n",
        "from dateutil.parser import parse\n",
        "\n",
        "# Multiplicative Decomposition\n",
        "result_mul = seasonal_decompose(df_new['close'], model='multiplicative', extrapolate_trend='freq')\n",
        "\n",
        "# Additive Decomposition\n",
        "result_add = seasonal_decompose(df_new['close'], model='additive', extrapolate_trend='freq')\n",
        "\n",
        "# Plot\n",
        "plt.rcParams.update({'figure.figsize': (5,5)})\n",
        "result_mul.plot().suptitle('Multiplicative Decompose', fontsize=22)\n",
        "result_add.plot().suptitle('Additive Decompose', fontsize=22)\n",
        "plt.show()"
      ],
      "metadata": {
        "colab": {
          "base_uri": "https://localhost:8080/",
          "height": 1000
        },
        "id": "L4qAXKDmfbpB",
        "outputId": "1720e797-0d48-4438-c60b-97ab0d603b49"
      },
      "execution_count": 37,
      "outputs": [
        {
          "output_type": "display_data",
          "data": {
            "text/plain": [
              "<Figure size 500x500 with 4 Axes>"
            ],
            "image/png": "[encoded data removed]"
          },
          "metadata": {}
        },
        {
          "output_type": "display_data",
          "data": {
            "text/plain": [
              "<Figure size 500x500 with 4 Axes>"
            ],
            "image/png": "[encoded data removed]"
          },
          "metadata": {}
        }
      ]
    },
    {
      "cell_type": "markdown",
      "source": [
        "Note :: Simple method to detect is multiplicative or additive model\n",
        "\n",
        "Compare the noise / residue of both models\n",
        "\n",
        "The model which has repeatitions in residue that is wrong model\n",
        "\n",
        "IN THIS CASE both models are working perfectly so choose any"
      ],
      "metadata": {
        "id": "jCoeMZwmjUhR"
      }
    },
    {
      "cell_type": "markdown",
      "source": [
        "# Apply regression for Time series Prediction"
      ],
      "metadata": {
        "id": "6vO7eghOkIjK"
      }
    },
    {
      "cell_type": "markdown",
      "source": [
        "## Create the features\n",
        "\n",
        " how many ? --> you can do trial and error\n",
        "\n",
        " here we will consider 5"
      ],
      "metadata": {
        "id": "6GjsqdqCktN5"
      }
    },
    {
      "cell_type": "code",
      "source": [
        "df_new.info()"
      ],
      "metadata": {
        "colab": {
          "base_uri": "https://localhost:8080/"
        },
        "id": "r9bMQ4w7kL7y",
        "outputId": "860307d5-3383-4957-bd30-61b4dcd8933b"
      },
      "execution_count": 38,
      "outputs": [
        {
          "output_type": "stream",
          "name": "stdout",
          "text": [
            "<class 'pandas.core.frame.DataFrame'>\n",
            "DatetimeIndex: 262 entries, 2018-08-09 to 2019-08-09\n",
            "Freq: B\n",
            "Data columns (total 5 columns):\n",
            " #   Column  Non-Null Count  Dtype  \n",
            "---  ------  --------------  -----  \n",
            " 0   close   262 non-null    float64\n",
            " 1   volume  262 non-null    object \n",
            " 2   open    262 non-null    float64\n",
            " 3   high    262 non-null    float64\n",
            " 4   low     262 non-null    float64\n",
            "dtypes: float64(4), object(1)\n",
            "memory usage: 12.3+ KB\n"
          ]
        }
      ]
    },
    {
      "cell_type": "code",
      "source": [
        "ts_data = df_new[['close']].copy()\n",
        "ts_data.shape"
      ],
      "metadata": {
        "colab": {
          "base_uri": "https://localhost:8080/"
        },
        "id": "0o5R0_ZXkwrZ",
        "outputId": "b2f90dbc-b299-493f-89f5-157eb4d1968a"
      },
      "execution_count": 39,
      "outputs": [
        {
          "output_type": "execute_result",
          "data": {
            "text/plain": [
              "(262, 1)"
            ]
          },
          "metadata": {},
          "execution_count": 39
        }
      ]
    },
    {
      "cell_type": "code",
      "source": [
        "ts_data['close_t_1'] = ts_data['close'].shift(1) # shift one value below\n",
        "ts_data['close_t_2'] = ts_data['close'].shift(2) # shift one value below\n",
        "ts_data['close_t_3'] = ts_data['close'].shift(3) # shift one value below\n",
        "ts_data['close_t_4'] = ts_data['close'].shift(4) # shift one value below\n",
        "ts_data['close_t_5'] = ts_data['close'].shift(5) # shift one value below"
      ],
      "metadata": {
        "id": "s-unNisWk5ba"
      },
      "execution_count": 40,
      "outputs": []
    },
    {
      "cell_type": "code",
      "source": [
        "ts_data.head(7)"
      ],
      "metadata": {
        "colab": {
          "base_uri": "https://localhost:8080/",
          "height": 300
        },
        "id": "wUfd-AxOlu05",
        "outputId": "53c6e500-19ca-446f-c1b4-b42a29c1a5cc"
      },
      "execution_count": 41,
      "outputs": [
        {
          "output_type": "execute_result",
          "data": {
            "text/plain": [
              "             close  close_t_1  close_t_2  close_t_3  close_t_4  close_t_5\n",
              "date                                                                     \n",
              "2018-08-09  208.88        NaN        NaN        NaN        NaN        NaN\n",
              "2018-08-10  207.53     208.88        NaN        NaN        NaN        NaN\n",
              "2018-08-13  208.87     207.53     208.88        NaN        NaN        NaN\n",
              "2018-08-14  209.75     208.87     207.53     208.88        NaN        NaN\n",
              "2018-08-15  210.24     209.75     208.87     207.53     208.88        NaN\n",
              "2018-08-16  213.32     210.24     209.75     208.87     207.53     208.88\n",
              "2018-08-17  217.58     213.32     210.24     209.75     208.87     207.53"
            ],
            "text/html": [
              "\n",
              "\n",
              "  <div id=\"df-77b08609-b3f5-4cfa-8038-03869f821942\">\n",
              "    <div class=\"colab-df-container\">\n",
              "      <div>\n",
              "<style scoped>\n",
              "    .dataframe tbody tr th:only-of-type {\n",
              "        vertical-align: middle;\n",
              "    }\n",
              "\n",
              "    .dataframe tbody tr th {\n",
              "        vertical-align: top;\n",
              "    }\n",
              "\n",
              "    .dataframe thead th {\n",
              "        text-align: right;\n",
              "    }\n",
              "</style>\n",
              "<table border=\"1\" class=\"dataframe\">\n",
              "  <thead>\n",
              "    <tr style=\"text-align: right;\">\n",
              "      <th></th>\n",
              "      <th>close</th>\n",
              "      <th>close_t_1</th>\n",
              "      <th>close_t_2</th>\n",
              "      <th>close_t_3</th>\n",
              "      <th>close_t_4</th>\n",
              "      <th>close_t_5</th>\n",
              "    </tr>\n",
              "    <tr>\n",
              "      <th>date</th>\n",
              "      <th></th>\n",
              "      <th></th>\n",
              "      <th></th>\n",
              "      <th></th>\n",
              "      <th></th>\n",
              "      <th></th>\n",
              "    </tr>\n",
              "  </thead>\n",
              "  <tbody>\n",
              "    <tr>\n",
              "      <th>2018-08-09</th>\n",
              "      <td>208.88</td>\n",
              "      <td>NaN</td>\n",
              "      <td>NaN</td>\n",
              "      <td>NaN</td>\n",
              "      <td>NaN</td>\n",
              "      <td>NaN</td>\n",
              "    </tr>\n",
              "    <tr>\n",
              "      <th>2018-08-10</th>\n",
              "      <td>207.53</td>\n",
              "      <td>208.88</td>\n",
              "      <td>NaN</td>\n",
              "      <td>NaN</td>\n",
              "      <td>NaN</td>\n",
              "      <td>NaN</td>\n",
              "    </tr>\n",
              "    <tr>\n",
              "      <th>2018-08-13</th>\n",
              "      <td>208.87</td>\n",
              "      <td>207.53</td>\n",
              "      <td>208.88</td>\n",
              "      <td>NaN</td>\n",
              "      <td>NaN</td>\n",
              "      <td>NaN</td>\n",
              "    </tr>\n",
              "    <tr>\n",
              "      <th>2018-08-14</th>\n",
              "      <td>209.75</td>\n",
              "      <td>208.87</td>\n",
              "      <td>207.53</td>\n",
              "      <td>208.88</td>\n",
              "      <td>NaN</td>\n",
              "      <td>NaN</td>\n",
              "    </tr>\n",
              "    <tr>\n",
              "      <th>2018-08-15</th>\n",
              "      <td>210.24</td>\n",
              "      <td>209.75</td>\n",
              "      <td>208.87</td>\n",
              "      <td>207.53</td>\n",
              "      <td>208.88</td>\n",
              "      <td>NaN</td>\n",
              "    </tr>\n",
              "    <tr>\n",
              "      <th>2018-08-16</th>\n",
              "      <td>213.32</td>\n",
              "      <td>210.24</td>\n",
              "      <td>209.75</td>\n",
              "      <td>208.87</td>\n",
              "      <td>207.53</td>\n",
              "      <td>208.88</td>\n",
              "    </tr>\n",
              "    <tr>\n",
              "      <th>2018-08-17</th>\n",
              "      <td>217.58</td>\n",
              "      <td>213.32</td>\n",
              "      <td>210.24</td>\n",
              "      <td>209.75</td>\n",
              "      <td>208.87</td>\n",
              "      <td>207.53</td>\n",
              "    </tr>\n",
              "  </tbody>\n",
              "</table>\n",
              "</div>\n",
              "      <button class=\"colab-df-convert\" onclick=\"convertToInteractive('df-77b08609-b3f5-4cfa-8038-03869f821942')\"\n",
              "              title=\"Convert this dataframe to an interactive table.\"\n",
              "              style=\"display:none;\">\n",
              "\n",
              "  <svg xmlns=\"http://www.w3.org/2000/svg\" height=\"24px\"viewBox=\"0 0 24 24\"\n",
              "       width=\"24px\">\n",
              "    <path d=\"M0 0h24v24H0V0z\" fill=\"none\"/>\n",
              "    <path d=\"M18.56 5.44l.94 2.06.94-2.06 2.06-.94-2.06-.94-.94-2.06-.94 2.06-2.06.94zm-11 1L8.5 8.5l.94-2.06 2.06-.94-2.06-.94L8.5 2.5l-.94 2.06-2.06.94zm10 10l.94 2.06.94-2.06 2.06-.94-2.06-.94-.94-2.06-.94 2.06-2.06.94z\"/><path d=\"M17.41 7.96l-1.37-1.37c-.4-.4-.92-.59-1.43-.59-.52 0-1.04.2-1.43.59L10.3 9.45l-7.72 7.72c-.78.78-.78 2.05 0 2.83L4 21.41c.39.39.9.59 1.41.59.51 0 1.02-.2 1.41-.59l7.78-7.78 2.81-2.81c.8-.78.8-2.07 0-2.86zM5.41 20L4 18.59l7.72-7.72 1.47 1.35L5.41 20z\"/>\n",
              "  </svg>\n",
              "      </button>\n",
              "\n",
              "\n",
              "\n",
              "    <div id=\"df-913432bc-c1c4-44ce-8b35-78549f081263\">\n",
              "      <button class=\"colab-df-quickchart\" onclick=\"quickchart('df-913432bc-c1c4-44ce-8b35-78549f081263')\"\n",
              "              title=\"Suggest charts.\"\n",
              "              style=\"display:none;\">\n",
              "\n",
              "<svg xmlns=\"http://www.w3.org/2000/svg\" height=\"24px\"viewBox=\"0 0 24 24\"\n",
              "     width=\"24px\">\n",
              "    <g>\n",
              "        <path d=\"M19 3H5c-1.1 0-2 .9-2 2v14c0 1.1.9 2 2 2h14c1.1 0 2-.9 2-2V5c0-1.1-.9-2-2-2zM9 17H7v-7h2v7zm4 0h-2V7h2v10zm4 0h-2v-4h2v4z\"/>\n",
              "    </g>\n",
              "</svg>\n",
              "      </button>\n",
              "    </div>\n",
              "\n",
              "<style>\n",
              "  .colab-df-quickchart {\n",
              "    background-color: #E8F0FE;\n",
              "    border: none;\n",
              "    border-radius: 50%;\n",
              "    cursor: pointer;\n",
              "    display: none;\n",
              "    fill: #1967D2;\n",
              "    height: 32px;\n",
              "    padding: 0 0 0 0;\n",
              "    width: 32px;\n",
              "  }\n",
              "\n",
              "  .colab-df-quickchart:hover {\n",
              "    background-color: #E2EBFA;\n",
              "    box-shadow: 0px 1px 2px rgba(60, 64, 67, 0.3), 0px 1px 3px 1px rgba(60, 64, 67, 0.15);\n",
              "    fill: #174EA6;\n",
              "  }\n",
              "\n",
              "  [theme=dark] .colab-df-quickchart {\n",
              "    background-color: #3B4455;\n",
              "    fill: #D2E3FC;\n",
              "  }\n",
              "\n",
              "  [theme=dark] .colab-df-quickchart:hover {\n",
              "    background-color: #434B5C;\n",
              "    box-shadow: 0px 1px 3px 1px rgba(0, 0, 0, 0.15);\n",
              "    filter: drop-shadow(0px 1px 2px rgba(0, 0, 0, 0.3));\n",
              "    fill: #FFFFFF;\n",
              "  }\n",
              "</style>\n",
              "\n",
              "    <script>\n",
              "      async function quickchart(key) {\n",
              "        const containerElement = document.querySelector('#' + key);\n",
              "        const charts = await google.colab.kernel.invokeFunction(\n",
              "            'suggestCharts', [key], {});\n",
              "      }\n",
              "    </script>\n",
              "\n",
              "      <script>\n",
              "\n",
              "function displayQuickchartButton(domScope) {\n",
              "  let quickchartButtonEl =\n",
              "    domScope.querySelector('#df-913432bc-c1c4-44ce-8b35-78549f081263 button.colab-df-quickchart');\n",
              "  quickchartButtonEl.style.display =\n",
              "    google.colab.kernel.accessAllowed ? 'block' : 'none';\n",
              "}\n",
              "\n",
              "        displayQuickchartButton(document);\n",
              "      </script>\n",
              "      <style>\n",
              "    .colab-df-container {\n",
              "      display:flex;\n",
              "      flex-wrap:wrap;\n",
              "      gap: 12px;\n",
              "    }\n",
              "\n",
              "    .colab-df-convert {\n",
              "      background-color: #E8F0FE;\n",
              "      border: none;\n",
              "      border-radius: 50%;\n",
              "      cursor: pointer;\n",
              "      display: none;\n",
              "      fill: #1967D2;\n",
              "      height: 32px;\n",
              "      padding: 0 0 0 0;\n",
              "      width: 32px;\n",
              "    }\n",
              "\n",
              "    .colab-df-convert:hover {\n",
              "      background-color: #E2EBFA;\n",
              "      box-shadow: 0px 1px 2px rgba(60, 64, 67, 0.3), 0px 1px 3px 1px rgba(60, 64, 67, 0.15);\n",
              "      fill: #174EA6;\n",
              "    }\n",
              "\n",
              "    [theme=dark] .colab-df-convert {\n",
              "      background-color: #3B4455;\n",
              "      fill: #D2E3FC;\n",
              "    }\n",
              "\n",
              "    [theme=dark] .colab-df-convert:hover {\n",
              "      background-color: #434B5C;\n",
              "      box-shadow: 0px 1px 3px 1px rgba(0, 0, 0, 0.15);\n",
              "      filter: drop-shadow(0px 1px 2px rgba(0, 0, 0, 0.3));\n",
              "      fill: #FFFFFF;\n",
              "    }\n",
              "  </style>\n",
              "\n",
              "      <script>\n",
              "        const buttonEl =\n",
              "          document.querySelector('#df-77b08609-b3f5-4cfa-8038-03869f821942 button.colab-df-convert');\n",
              "        buttonEl.style.display =\n",
              "          google.colab.kernel.accessAllowed ? 'block' : 'none';\n",
              "\n",
              "        async function convertToInteractive(key) {\n",
              "          const element = document.querySelector('#df-77b08609-b3f5-4cfa-8038-03869f821942');\n",
              "          const dataTable =\n",
              "            await google.colab.kernel.invokeFunction('convertToInteractive',\n",
              "                                                     [key], {});\n",
              "          if (!dataTable) return;\n",
              "\n",
              "          const docLinkHtml = 'Like what you see? Visit the ' +\n",
              "            '<a target=\"_blank\" href=https://colab.research.google.com/notebooks/data_table.ipynb>data table notebook</a>'\n",
              "            + ' to learn more about interactive tables.';\n",
              "          element.innerHTML = '';\n",
              "          dataTable['output_type'] = 'display_data';\n",
              "          await google.colab.output.renderOutput(dataTable, element);\n",
              "          const docLink = document.createElement('div');\n",
              "          docLink.innerHTML = docLinkHtml;\n",
              "          element.appendChild(docLink);\n",
              "        }\n",
              "      </script>\n",
              "    </div>\n",
              "  </div>\n"
            ]
          },
          "metadata": {},
          "execution_count": 41
        }
      ]
    },
    {
      "cell_type": "code",
      "source": [
        "ts_data.dropna(inplace=True)"
      ],
      "metadata": {
        "id": "hfW_yPxCmOGB"
      },
      "execution_count": 42,
      "outputs": []
    },
    {
      "cell_type": "code",
      "source": [
        "ts_data.head()"
      ],
      "metadata": {
        "colab": {
          "base_uri": "https://localhost:8080/",
          "height": 237
        },
        "id": "HAcRcoYGm3px",
        "outputId": "2f209f6d-a14c-4f67-e793-7d72a337a111"
      },
      "execution_count": 43,
      "outputs": [
        {
          "output_type": "execute_result",
          "data": {
            "text/plain": [
              "             close  close_t_1  close_t_2  close_t_3  close_t_4  close_t_5\n",
              "date                                                                     \n",
              "2018-08-16  213.32     210.24     209.75     208.87     207.53     208.88\n",
              "2018-08-17  217.58     213.32     210.24     209.75     208.87     207.53\n",
              "2018-08-20  215.46     217.58     213.32     210.24     209.75     208.87\n",
              "2018-08-21  215.04     215.46     217.58     213.32     210.24     209.75\n",
              "2018-08-22  215.05     215.04     215.46     217.58     213.32     210.24"
            ],
            "text/html": [
              "\n",
              "\n",
              "  <div id=\"df-0d8458eb-318d-464f-9b92-56d5a02345c8\">\n",
              "    <div class=\"colab-df-container\">\n",
              "      <div>\n",
              "<style scoped>\n",
              "    .dataframe tbody tr th:only-of-type {\n",
              "        vertical-align: middle;\n",
              "    }\n",
              "\n",
              "    .dataframe tbody tr th {\n",
              "        vertical-align: top;\n",
              "    }\n",
              "\n",
              "    .dataframe thead th {\n",
              "        text-align: right;\n",
              "    }\n",
              "</style>\n",
              "<table border=\"1\" class=\"dataframe\">\n",
              "  <thead>\n",
              "    <tr style=\"text-align: right;\">\n",
              "      <th></th>\n",
              "      <th>close</th>\n",
              "      <th>close_t_1</th>\n",
              "      <th>close_t_2</th>\n",
              "      <th>close_t_3</th>\n",
              "      <th>close_t_4</th>\n",
              "      <th>close_t_5</th>\n",
              "    </tr>\n",
              "    <tr>\n",
              "      <th>date</th>\n",
              "      <th></th>\n",
              "      <th></th>\n",
              "      <th></th>\n",
              "      <th></th>\n",
              "      <th></th>\n",
              "      <th></th>\n",
              "    </tr>\n",
              "  </thead>\n",
              "  <tbody>\n",
              "    <tr>\n",
              "      <th>2018-08-16</th>\n",
              "      <td>213.32</td>\n",
              "      <td>210.24</td>\n",
              "      <td>209.75</td>\n",
              "      <td>208.87</td>\n",
              "      <td>207.53</td>\n",
              "      <td>208.88</td>\n",
              "    </tr>\n",
              "    <tr>\n",
              "      <th>2018-08-17</th>\n",
              "      <td>217.58</td>\n",
              "      <td>213.32</td>\n",
              "      <td>210.24</td>\n",
              "      <td>209.75</td>\n",
              "      <td>208.87</td>\n",
              "      <td>207.53</td>\n",
              "    </tr>\n",
              "    <tr>\n",
              "      <th>2018-08-20</th>\n",
              "      <td>215.46</td>\n",
              "      <td>217.58</td>\n",
              "      <td>213.32</td>\n",
              "      <td>210.24</td>\n",
              "      <td>209.75</td>\n",
              "      <td>208.87</td>\n",
              "    </tr>\n",
              "    <tr>\n",
              "      <th>2018-08-21</th>\n",
              "      <td>215.04</td>\n",
              "      <td>215.46</td>\n",
              "      <td>217.58</td>\n",
              "      <td>213.32</td>\n",
              "      <td>210.24</td>\n",
              "      <td>209.75</td>\n",
              "    </tr>\n",
              "    <tr>\n",
              "      <th>2018-08-22</th>\n",
              "      <td>215.05</td>\n",
              "      <td>215.04</td>\n",
              "      <td>215.46</td>\n",
              "      <td>217.58</td>\n",
              "      <td>213.32</td>\n",
              "      <td>210.24</td>\n",
              "    </tr>\n",
              "  </tbody>\n",
              "</table>\n",
              "</div>\n",
              "      <button class=\"colab-df-convert\" onclick=\"convertToInteractive('df-0d8458eb-318d-464f-9b92-56d5a02345c8')\"\n",
              "              title=\"Convert this dataframe to an interactive table.\"\n",
              "              style=\"display:none;\">\n",
              "\n",
              "  <svg xmlns=\"http://www.w3.org/2000/svg\" height=\"24px\"viewBox=\"0 0 24 24\"\n",
              "       width=\"24px\">\n",
              "    <path d=\"M0 0h24v24H0V0z\" fill=\"none\"/>\n",
              "    <path d=\"M18.56 5.44l.94 2.06.94-2.06 2.06-.94-2.06-.94-.94-2.06-.94 2.06-2.06.94zm-11 1L8.5 8.5l.94-2.06 2.06-.94-2.06-.94L8.5 2.5l-.94 2.06-2.06.94zm10 10l.94 2.06.94-2.06 2.06-.94-2.06-.94-.94-2.06-.94 2.06-2.06.94z\"/><path d=\"M17.41 7.96l-1.37-1.37c-.4-.4-.92-.59-1.43-.59-.52 0-1.04.2-1.43.59L10.3 9.45l-7.72 7.72c-.78.78-.78 2.05 0 2.83L4 21.41c.39.39.9.59 1.41.59.51 0 1.02-.2 1.41-.59l7.78-7.78 2.81-2.81c.8-.78.8-2.07 0-2.86zM5.41 20L4 18.59l7.72-7.72 1.47 1.35L5.41 20z\"/>\n",
              "  </svg>\n",
              "      </button>\n",
              "\n",
              "\n",
              "\n",
              "    <div id=\"df-1eb44978-a56f-410c-971c-2b40994255f6\">\n",
              "      <button class=\"colab-df-quickchart\" onclick=\"quickchart('df-1eb44978-a56f-410c-971c-2b40994255f6')\"\n",
              "              title=\"Suggest charts.\"\n",
              "              style=\"display:none;\">\n",
              "\n",
              "<svg xmlns=\"http://www.w3.org/2000/svg\" height=\"24px\"viewBox=\"0 0 24 24\"\n",
              "     width=\"24px\">\n",
              "    <g>\n",
              "        <path d=\"M19 3H5c-1.1 0-2 .9-2 2v14c0 1.1.9 2 2 2h14c1.1 0 2-.9 2-2V5c0-1.1-.9-2-2-2zM9 17H7v-7h2v7zm4 0h-2V7h2v10zm4 0h-2v-4h2v4z\"/>\n",
              "    </g>\n",
              "</svg>\n",
              "      </button>\n",
              "    </div>\n",
              "\n",
              "<style>\n",
              "  .colab-df-quickchart {\n",
              "    background-color: #E8F0FE;\n",
              "    border: none;\n",
              "    border-radius: 50%;\n",
              "    cursor: pointer;\n",
              "    display: none;\n",
              "    fill: #1967D2;\n",
              "    height: 32px;\n",
              "    padding: 0 0 0 0;\n",
              "    width: 32px;\n",
              "  }\n",
              "\n",
              "  .colab-df-quickchart:hover {\n",
              "    background-color: #E2EBFA;\n",
              "    box-shadow: 0px 1px 2px rgba(60, 64, 67, 0.3), 0px 1px 3px 1px rgba(60, 64, 67, 0.15);\n",
              "    fill: #174EA6;\n",
              "  }\n",
              "\n",
              "  [theme=dark] .colab-df-quickchart {\n",
              "    background-color: #3B4455;\n",
              "    fill: #D2E3FC;\n",
              "  }\n",
              "\n",
              "  [theme=dark] .colab-df-quickchart:hover {\n",
              "    background-color: #434B5C;\n",
              "    box-shadow: 0px 1px 3px 1px rgba(0, 0, 0, 0.15);\n",
              "    filter: drop-shadow(0px 1px 2px rgba(0, 0, 0, 0.3));\n",
              "    fill: #FFFFFF;\n",
              "  }\n",
              "</style>\n",
              "\n",
              "    <script>\n",
              "      async function quickchart(key) {\n",
              "        const containerElement = document.querySelector('#' + key);\n",
              "        const charts = await google.colab.kernel.invokeFunction(\n",
              "            'suggestCharts', [key], {});\n",
              "      }\n",
              "    </script>\n",
              "\n",
              "      <script>\n",
              "\n",
              "function displayQuickchartButton(domScope) {\n",
              "  let quickchartButtonEl =\n",
              "    domScope.querySelector('#df-1eb44978-a56f-410c-971c-2b40994255f6 button.colab-df-quickchart');\n",
              "  quickchartButtonEl.style.display =\n",
              "    google.colab.kernel.accessAllowed ? 'block' : 'none';\n",
              "}\n",
              "\n",
              "        displayQuickchartButton(document);\n",
              "      </script>\n",
              "      <style>\n",
              "    .colab-df-container {\n",
              "      display:flex;\n",
              "      flex-wrap:wrap;\n",
              "      gap: 12px;\n",
              "    }\n",
              "\n",
              "    .colab-df-convert {\n",
              "      background-color: #E8F0FE;\n",
              "      border: none;\n",
              "      border-radius: 50%;\n",
              "      cursor: pointer;\n",
              "      display: none;\n",
              "      fill: #1967D2;\n",
              "      height: 32px;\n",
              "      padding: 0 0 0 0;\n",
              "      width: 32px;\n",
              "    }\n",
              "\n",
              "    .colab-df-convert:hover {\n",
              "      background-color: #E2EBFA;\n",
              "      box-shadow: 0px 1px 2px rgba(60, 64, 67, 0.3), 0px 1px 3px 1px rgba(60, 64, 67, 0.15);\n",
              "      fill: #174EA6;\n",
              "    }\n",
              "\n",
              "    [theme=dark] .colab-df-convert {\n",
              "      background-color: #3B4455;\n",
              "      fill: #D2E3FC;\n",
              "    }\n",
              "\n",
              "    [theme=dark] .colab-df-convert:hover {\n",
              "      background-color: #434B5C;\n",
              "      box-shadow: 0px 1px 3px 1px rgba(0, 0, 0, 0.15);\n",
              "      filter: drop-shadow(0px 1px 2px rgba(0, 0, 0, 0.3));\n",
              "      fill: #FFFFFF;\n",
              "    }\n",
              "  </style>\n",
              "\n",
              "      <script>\n",
              "        const buttonEl =\n",
              "          document.querySelector('#df-0d8458eb-318d-464f-9b92-56d5a02345c8 button.colab-df-convert');\n",
              "        buttonEl.style.display =\n",
              "          google.colab.kernel.accessAllowed ? 'block' : 'none';\n",
              "\n",
              "        async function convertToInteractive(key) {\n",
              "          const element = document.querySelector('#df-0d8458eb-318d-464f-9b92-56d5a02345c8');\n",
              "          const dataTable =\n",
              "            await google.colab.kernel.invokeFunction('convertToInteractive',\n",
              "                                                     [key], {});\n",
              "          if (!dataTable) return;\n",
              "\n",
              "          const docLinkHtml = 'Like what you see? Visit the ' +\n",
              "            '<a target=\"_blank\" href=https://colab.research.google.com/notebooks/data_table.ipynb>data table notebook</a>'\n",
              "            + ' to learn more about interactive tables.';\n",
              "          element.innerHTML = '';\n",
              "          dataTable['output_type'] = 'display_data';\n",
              "          await google.colab.output.renderOutput(dataTable, element);\n",
              "          const docLink = document.createElement('div');\n",
              "          docLink.innerHTML = docLinkHtml;\n",
              "          element.appendChild(docLink);\n",
              "        }\n",
              "      </script>\n",
              "    </div>\n",
              "  </div>\n"
            ]
          },
          "metadata": {},
          "execution_count": 43
        }
      ]
    },
    {
      "cell_type": "markdown",
      "source": [
        "# After creating features its like normal tabular data for regression problem"
      ],
      "metadata": {
        "id": "5ha6dSC4nsql"
      }
    },
    {
      "cell_type": "markdown",
      "source": [
        "## X & Y , train test split"
      ],
      "metadata": {
        "id": "wOqsTiMsnw5Z"
      }
    },
    {
      "cell_type": "code",
      "source": [
        "Y = ts_data['close']\n",
        "X = ts_data.drop('close',axis=1)"
      ],
      "metadata": {
        "id": "AQpUsOhxm7fh"
      },
      "execution_count": 44,
      "outputs": []
    },
    {
      "cell_type": "code",
      "source": [
        "X.shape, Y.shape"
      ],
      "metadata": {
        "colab": {
          "base_uri": "https://localhost:8080/"
        },
        "id": "pnyDo458n6JC",
        "outputId": "c64a7e4c-9c27-4e0b-88cd-a4be0d9726ce"
      },
      "execution_count": 45,
      "outputs": [
        {
          "output_type": "execute_result",
          "data": {
            "text/plain": [
              "((257, 5), (257,))"
            ]
          },
          "metadata": {},
          "execution_count": 45
        }
      ]
    },
    {
      "cell_type": "code",
      "source": [
        "from sklearn.model_selection import train_test_split\n",
        "X_train,X_test,Y_train,Y_test = train_test_split(X,Y, test_size=0.3, random_state=7)\n",
        "X_train.shape,X_test.shape,Y_train.shape,Y_test.shape"
      ],
      "metadata": {
        "colab": {
          "base_uri": "https://localhost:8080/"
        },
        "id": "eVGBptNpoAoB",
        "outputId": "7cce62bd-d49f-4d35-80b7-6743c58cf4ef"
      },
      "execution_count": 46,
      "outputs": [
        {
          "output_type": "execute_result",
          "data": {
            "text/plain": [
              "((179, 5), (78, 5), (179,), (78,))"
            ]
          },
          "metadata": {},
          "execution_count": 46
        }
      ]
    },
    {
      "cell_type": "markdown",
      "source": [
        "# Apply regression model"
      ],
      "metadata": {
        "id": "hgKs8zVh2tRy"
      }
    },
    {
      "cell_type": "code",
      "source": [
        "def eval_fun(Y_test,Y_pred):\n",
        "    from sklearn.metrics import r2_score,mean_squared_error,mean_absolute_error\n",
        "    # r2 = r2_score(Y_test,Y_pred)\n",
        "    mse = mean_squared_error(Y_test,Y_pred)\n",
        "    mae = mean_absolute_error(Y_test,Y_pred)\n",
        "    return mse, mae"
      ],
      "metadata": {
        "id": "raxSl_ZCo_CE"
      },
      "execution_count": 47,
      "outputs": []
    },
    {
      "cell_type": "code",
      "source": [
        "# create a RF regressor\n",
        "from sklearn.ensemble import RandomForestRegressor\n",
        "rf = RandomForestRegressor(n_estimators=50,max_depth=5, oob_score=True,random_state=7)\n",
        "rf.fit(X_train,Y_train)"
      ],
      "metadata": {
        "colab": {
          "base_uri": "https://localhost:8080/",
          "height": 91
        },
        "id": "RpyDm0QXpBFV",
        "outputId": "b1f1600a-cc6f-4d7b-958e-2b3b0f452a24"
      },
      "execution_count": 48,
      "outputs": [
        {
          "output_type": "execute_result",
          "data": {
            "text/plain": [
              "RandomForestRegressor(max_depth=5, n_estimators=50, oob_score=True,\n",
              "                      random_state=7)"
            ],
            "text/html": [
              "<style>#sk-container-id-1 {color: black;background-color: white;}#sk-container-id-1 pre{padding: 0;}#sk-container-id-1 div.sk-toggleable {background-color: white;}#sk-container-id-1 label.sk-toggleable__label {cursor: pointer;display: block;width: 100%;margin-bottom: 0;padding: 0.3em;box-sizing: border-box;text-align: center;}#sk-container-id-1 label.sk-toggleable__label-arrow:before {content: \"▸\";float: left;margin-right: 0.25em;color: #696969;}#sk-container-id-1 label.sk-toggleable__label-arrow:hover:before {color: black;}#sk-container-id-1 div.sk-estimator:hover label.sk-toggleable__label-arrow:before {color: black;}#sk-container-id-1 div.sk-toggleable__content {max-height: 0;max-width: 0;overflow: hidden;text-align: left;background-color: #f0f8ff;}#sk-container-id-1 div.sk-toggleable__content pre {margin: 0.2em;color: black;border-radius: 0.25em;background-color: #f0f8ff;}#sk-container-id-1 input.sk-toggleable__control:checked~div.sk-toggleable__content {max-height: 200px;max-width: 100%;overflow: auto;}#sk-container-id-1 input.sk-toggleable__control:checked~label.sk-toggleable__label-arrow:before {content: \"▾\";}#sk-container-id-1 div.sk-estimator input.sk-toggleable__control:checked~label.sk-toggleable__label {background-color: #d4ebff;}#sk-container-id-1 div.sk-label input.sk-toggleable__control:checked~label.sk-toggleable__label {background-color: #d4ebff;}#sk-container-id-1 input.sk-hidden--visually {border: 0;clip: rect(1px 1px 1px 1px);clip: rect(1px, 1px, 1px, 1px);height: 1px;margin: -1px;overflow: hidden;padding: 0;position: absolute;width: 1px;}#sk-container-id-1 div.sk-estimator {font-family: monospace;background-color: #f0f8ff;border: 1px dotted black;border-radius: 0.25em;box-sizing: border-box;margin-bottom: 0.5em;}#sk-container-id-1 div.sk-estimator:hover {background-color: #d4ebff;}#sk-container-id-1 div.sk-parallel-item::after {content: \"\";width: 100%;border-bottom: 1px solid gray;flex-grow: 1;}#sk-container-id-1 div.sk-label:hover label.sk-toggleable__label {background-color: #d4ebff;}#sk-container-id-1 div.sk-serial::before {content: \"\";position: absolute;border-left: 1px solid gray;box-sizing: border-box;top: 0;bottom: 0;left: 50%;z-index: 0;}#sk-container-id-1 div.sk-serial {display: flex;flex-direction: column;align-items: center;background-color: white;padding-right: 0.2em;padding-left: 0.2em;position: relative;}#sk-container-id-1 div.sk-item {position: relative;z-index: 1;}#sk-container-id-1 div.sk-parallel {display: flex;align-items: stretch;justify-content: center;background-color: white;position: relative;}#sk-container-id-1 div.sk-item::before, #sk-container-id-1 div.sk-parallel-item::before {content: \"\";position: absolute;border-left: 1px solid gray;box-sizing: border-box;top: 0;bottom: 0;left: 50%;z-index: -1;}#sk-container-id-1 div.sk-parallel-item {display: flex;flex-direction: column;z-index: 1;position: relative;background-color: white;}#sk-container-id-1 div.sk-parallel-item:first-child::after {align-self: flex-end;width: 50%;}#sk-container-id-1 div.sk-parallel-item:last-child::after {align-self: flex-start;width: 50%;}#sk-container-id-1 div.sk-parallel-item:only-child::after {width: 0;}#sk-container-id-1 div.sk-dashed-wrapped {border: 1px dashed gray;margin: 0 0.4em 0.5em 0.4em;box-sizing: border-box;padding-bottom: 0.4em;background-color: white;}#sk-container-id-1 div.sk-label label {font-family: monospace;font-weight: bold;display: inline-block;line-height: 1.2em;}#sk-container-id-1 div.sk-label-container {text-align: center;}#sk-container-id-1 div.sk-container {/* jupyter's `normalize.less` sets `[hidden] { display: none; }` but bootstrap.min.css set `[hidden] { display: none !important; }` so we also need the `!important` here to be able to override the default hidden behavior on the sphinx rendered scikit-learn.org. See: https://github.com/scikit-learn/scikit-learn/issues/21755 */display: inline-block !important;position: relative;}#sk-container-id-1 div.sk-text-repr-fallback {display: none;}</style><div id=\"sk-container-id-1\" class=\"sk-top-container\"><div class=\"sk-text-repr-fallback\"><pre>RandomForestRegressor(max_depth=5, n_estimators=50, oob_score=True,\n",
              "                      random_state=7)</pre><b>In a Jupyter environment, please rerun this cell to show the HTML representation or trust the notebook. <br />On GitHub, the HTML representation is unable to render, please try loading this page with nbviewer.org.</b></div><div class=\"sk-container\" hidden><div class=\"sk-item\"><div class=\"sk-estimator sk-toggleable\"><input class=\"sk-toggleable__control sk-hidden--visually\" id=\"sk-estimator-id-1\" type=\"checkbox\" checked><label for=\"sk-estimator-id-1\" class=\"sk-toggleable__label sk-toggleable__label-arrow\">RandomForestRegressor</label><div class=\"sk-toggleable__content\"><pre>RandomForestRegressor(max_depth=5, n_estimators=50, oob_score=True,\n",
              "                      random_state=7)</pre></div></div></div></div></div>"
            ]
          },
          "metadata": {},
          "execution_count": 48
        }
      ]
    },
    {
      "cell_type": "code",
      "source": [
        "Y_pred_rf = rf.predict(X_test)"
      ],
      "metadata": {
        "id": "QO_TG9vgpTyJ"
      },
      "execution_count": 49,
      "outputs": []
    },
    {
      "cell_type": "code",
      "source": [
        "mse, mae = eval_fun(Y_test,Y_pred_rf)\n",
        "print(\"mse = \", mse, \" mae =\", mae)"
      ],
      "metadata": {
        "colab": {
          "base_uri": "https://localhost:8080/"
        },
        "id": "QzGVw6_epRBK",
        "outputId": "6fafbc07-a65f-41ec-9d8f-5278c2e939af"
      },
      "execution_count": 50,
      "outputs": [
        {
          "output_type": "stream",
          "name": "stdout",
          "text": [
            "mse =  17.09644146642519  mae = 3.126545354949534\n"
          ]
        }
      ]
    },
    {
      "cell_type": "code",
      "source": [
        "from sklearn.ensemble import GradientBoostingRegressor\n",
        "gbr = GradientBoostingRegressor(max_depth= 5, n_estimators= 50, subsample= 0.8,random_state=7)\n",
        "gbr.fit(X_train,Y_train)"
      ],
      "metadata": {
        "colab": {
          "base_uri": "https://localhost:8080/",
          "height": 91
        },
        "id": "K5hPmbVSpKMu",
        "outputId": "9e0856d2-bd48-4110-db81-67664fa0b502"
      },
      "execution_count": 51,
      "outputs": [
        {
          "output_type": "execute_result",
          "data": {
            "text/plain": [
              "GradientBoostingRegressor(max_depth=5, n_estimators=50, random_state=7,\n",
              "                          subsample=0.8)"
            ],
            "text/html": [
              "<style>#sk-container-id-2 {color: black;background-color: white;}#sk-container-id-2 pre{padding: 0;}#sk-container-id-2 div.sk-toggleable {background-color: white;}#sk-container-id-2 label.sk-toggleable__label {cursor: pointer;display: block;width: 100%;margin-bottom: 0;padding: 0.3em;box-sizing: border-box;text-align: center;}#sk-container-id-2 label.sk-toggleable__label-arrow:before {content: \"▸\";float: left;margin-right: 0.25em;color: #696969;}#sk-container-id-2 label.sk-toggleable__label-arrow:hover:before {color: black;}#sk-container-id-2 div.sk-estimator:hover label.sk-toggleable__label-arrow:before {color: black;}#sk-container-id-2 div.sk-toggleable__content {max-height: 0;max-width: 0;overflow: hidden;text-align: left;background-color: #f0f8ff;}#sk-container-id-2 div.sk-toggleable__content pre {margin: 0.2em;color: black;border-radius: 0.25em;background-color: #f0f8ff;}#sk-container-id-2 input.sk-toggleable__control:checked~div.sk-toggleable__content {max-height: 200px;max-width: 100%;overflow: auto;}#sk-container-id-2 input.sk-toggleable__control:checked~label.sk-toggleable__label-arrow:before {content: \"▾\";}#sk-container-id-2 div.sk-estimator input.sk-toggleable__control:checked~label.sk-toggleable__label {background-color: #d4ebff;}#sk-container-id-2 div.sk-label input.sk-toggleable__control:checked~label.sk-toggleable__label {background-color: #d4ebff;}#sk-container-id-2 input.sk-hidden--visually {border: 0;clip: rect(1px 1px 1px 1px);clip: rect(1px, 1px, 1px, 1px);height: 1px;margin: -1px;overflow: hidden;padding: 0;position: absolute;width: 1px;}#sk-container-id-2 div.sk-estimator {font-family: monospace;background-color: #f0f8ff;border: 1px dotted black;border-radius: 0.25em;box-sizing: border-box;margin-bottom: 0.5em;}#sk-container-id-2 div.sk-estimator:hover {background-color: #d4ebff;}#sk-container-id-2 div.sk-parallel-item::after {content: \"\";width: 100%;border-bottom: 1px solid gray;flex-grow: 1;}#sk-container-id-2 div.sk-label:hover label.sk-toggleable__label {background-color: #d4ebff;}#sk-container-id-2 div.sk-serial::before {content: \"\";position: absolute;border-left: 1px solid gray;box-sizing: border-box;top: 0;bottom: 0;left: 50%;z-index: 0;}#sk-container-id-2 div.sk-serial {display: flex;flex-direction: column;align-items: center;background-color: white;padding-right: 0.2em;padding-left: 0.2em;position: relative;}#sk-container-id-2 div.sk-item {position: relative;z-index: 1;}#sk-container-id-2 div.sk-parallel {display: flex;align-items: stretch;justify-content: center;background-color: white;position: relative;}#sk-container-id-2 div.sk-item::before, #sk-container-id-2 div.sk-parallel-item::before {content: \"\";position: absolute;border-left: 1px solid gray;box-sizing: border-box;top: 0;bottom: 0;left: 50%;z-index: -1;}#sk-container-id-2 div.sk-parallel-item {display: flex;flex-direction: column;z-index: 1;position: relative;background-color: white;}#sk-container-id-2 div.sk-parallel-item:first-child::after {align-self: flex-end;width: 50%;}#sk-container-id-2 div.sk-parallel-item:last-child::after {align-self: flex-start;width: 50%;}#sk-container-id-2 div.sk-parallel-item:only-child::after {width: 0;}#sk-container-id-2 div.sk-dashed-wrapped {border: 1px dashed gray;margin: 0 0.4em 0.5em 0.4em;box-sizing: border-box;padding-bottom: 0.4em;background-color: white;}#sk-container-id-2 div.sk-label label {font-family: monospace;font-weight: bold;display: inline-block;line-height: 1.2em;}#sk-container-id-2 div.sk-label-container {text-align: center;}#sk-container-id-2 div.sk-container {/* jupyter's `normalize.less` sets `[hidden] { display: none; }` but bootstrap.min.css set `[hidden] { display: none !important; }` so we also need the `!important` here to be able to override the default hidden behavior on the sphinx rendered scikit-learn.org. See: https://github.com/scikit-learn/scikit-learn/issues/21755 */display: inline-block !important;position: relative;}#sk-container-id-2 div.sk-text-repr-fallback {display: none;}</style><div id=\"sk-container-id-2\" class=\"sk-top-container\"><div class=\"sk-text-repr-fallback\"><pre>GradientBoostingRegressor(max_depth=5, n_estimators=50, random_state=7,\n",
              "                          subsample=0.8)</pre><b>In a Jupyter environment, please rerun this cell to show the HTML representation or trust the notebook. <br />On GitHub, the HTML representation is unable to render, please try loading this page with nbviewer.org.</b></div><div class=\"sk-container\" hidden><div class=\"sk-item\"><div class=\"sk-estimator sk-toggleable\"><input class=\"sk-toggleable__control sk-hidden--visually\" id=\"sk-estimator-id-2\" type=\"checkbox\" checked><label for=\"sk-estimator-id-2\" class=\"sk-toggleable__label sk-toggleable__label-arrow\">GradientBoostingRegressor</label><div class=\"sk-toggleable__content\"><pre>GradientBoostingRegressor(max_depth=5, n_estimators=50, random_state=7,\n",
              "                          subsample=0.8)</pre></div></div></div></div></div>"
            ]
          },
          "metadata": {},
          "execution_count": 51
        }
      ]
    },
    {
      "cell_type": "code",
      "source": [
        "Y_pred_gbr = gbr.predict(X_test)"
      ],
      "metadata": {
        "id": "FoHVhJXHpQpq"
      },
      "execution_count": 52,
      "outputs": []
    },
    {
      "cell_type": "code",
      "source": [
        "mse, mae = eval_fun(Y_test,Y_pred_gbr)\n",
        "print( \"mse = \", mse, \" mae =\", mae)"
      ],
      "metadata": {
        "colab": {
          "base_uri": "https://localhost:8080/"
        },
        "id": "AQnbgfkhpbaB",
        "outputId": "1bab1fc8-7383-4cbd-b4b4-495006c7bf17"
      },
      "execution_count": 53,
      "outputs": [
        {
          "output_type": "stream",
          "name": "stdout",
          "text": [
            "mse =  19.313269145529073  mae = 3.3705146947468676\n"
          ]
        }
      ]
    },
    {
      "cell_type": "markdown",
      "source": [
        "# Plot the results"
      ],
      "metadata": {
        "id": "OlF0vXZipuwS"
      }
    },
    {
      "cell_type": "code",
      "source": [
        "res = pd.DataFrame([Y_test.values, Y_pred_rf, Y_pred_gbr]).T\n",
        "res.columns = ['Y_test', 'Y_pred_rf', 'Y_pred_gbr']\n",
        "res.shape"
      ],
      "metadata": {
        "colab": {
          "base_uri": "https://localhost:8080/"
        },
        "id": "zwyYo8AnpbwU",
        "outputId": "e7d2461b-b6b9-4115-fe09-ad2e64d7d5a5"
      },
      "execution_count": 54,
      "outputs": [
        {
          "output_type": "execute_result",
          "data": {
            "text/plain": [
              "(78, 3)"
            ]
          },
          "metadata": {},
          "execution_count": 54
        }
      ]
    },
    {
      "cell_type": "code",
      "source": [
        "res.plot()"
      ],
      "metadata": {
        "colab": {
          "base_uri": "https://localhost:8080/",
          "height": 462
        },
        "id": "9Ry33RQApwxb",
        "outputId": "12581896-61e1-43b3-806a-8747607e43cb"
      },
      "execution_count": 55,
      "outputs": [
        {
          "output_type": "execute_result",
          "data": {
            "text/plain": [
              "<Axes: >"
            ]
          },
          "metadata": {},
          "execution_count": 55
        },
        {
          "output_type": "display_data",
          "data": {
            "text/plain": [
              "<Figure size 500x500 with 1 Axes>"
            ],
            "image/png": "[encoded data removed]"
          },
          "metadata": {}
        }
      ]
    },
    {
      "cell_type": "markdown",
      "source": [
        "# LSTM\n",
        "\n",
        "## Imp implementation details for RNN / LSTM\n",
        "\n",
        "inputs are processed sequentially and not all together\n",
        "\n",
        "Ex. if there are 5 features X t-1, X t-2, x t-3, x t-4 , x t-5\n",
        "\n",
        "here , we don't give all 5 features at once\n",
        "\n",
        "first x t-1 goes then x t-2 .... one by one\n",
        "\n",
        "So, to achieve this LSTM input need to be in form of a queue / sequence and not as simple array\n",
        "\n",
        "ex. [1,2,3,4] --> this will not work\n",
        "\n",
        "[[1], [2], [3], [4]]  --> like this we can access one value at a time"
      ],
      "metadata": {
        "id": "QxxfjArmsuB6"
      }
    },
    {
      "cell_type": "code",
      "source": [
        "import tensorflow as tf\n",
        "from tensorflow import keras"
      ],
      "metadata": {
        "id": "rsX5ZCxDpyrb"
      },
      "execution_count": 56,
      "outputs": []
    },
    {
      "cell_type": "code",
      "source": [
        "X_train.shape,X_test.shape,Y_train.shape,Y_test.shape"
      ],
      "metadata": {
        "colab": {
          "base_uri": "https://localhost:8080/"
        },
        "id": "EMKCWOJk4ZY5",
        "outputId": "b4040d6d-ea27-45cc-f8fb-842daf7e2a06"
      },
      "execution_count": 57,
      "outputs": [
        {
          "output_type": "execute_result",
          "data": {
            "text/plain": [
              "((179, 5), (78, 5), (179,), (78,))"
            ]
          },
          "metadata": {},
          "execution_count": 57
        }
      ]
    },
    {
      "cell_type": "code",
      "source": [
        "X_train[:3].values"
      ],
      "metadata": {
        "colab": {
          "base_uri": "https://localhost:8080/"
        },
        "id": "11zhKN_Y4lbq",
        "outputId": "7de5a367-0049-4e65-bfec-3e7e2edb8e18"
      },
      "execution_count": 58,
      "outputs": [
        {
          "output_type": "execute_result",
          "data": {
            "text/plain": [
              "array([[178.58, 179.55, 180.94, 174.24, 174.62],\n",
              "       [192.74, 194.15, 194.19, 194.81, 192.58],\n",
              "       [166.52, 166.44, 165.25, 154.68, 156.3 ]])"
            ]
          },
          "metadata": {},
          "execution_count": 58
        }
      ]
    },
    {
      "cell_type": "code",
      "source": [
        "# reshape the training features and test features to suit input format of RNN / LSTM\n",
        "# here we add extra dim to X_train and X_test\n",
        "import numpy as np\n",
        "X_train = np.reshape(X_train.values, (X_train.shape[0],X_train.shape[1], 1))"
      ],
      "metadata": {
        "id": "lXZ9a2Bc4Zu7"
      },
      "execution_count": 59,
      "outputs": []
    },
    {
      "cell_type": "code",
      "source": [
        "X_train.shape"
      ],
      "metadata": {
        "colab": {
          "base_uri": "https://localhost:8080/"
        },
        "id": "r6Y0kADw42pi",
        "outputId": "f9b3cfaf-33d7-4904-bdae-34eed7171fd1"
      },
      "execution_count": 60,
      "outputs": [
        {
          "output_type": "execute_result",
          "data": {
            "text/plain": [
              "(179, 5, 1)"
            ]
          },
          "metadata": {},
          "execution_count": 60
        }
      ]
    },
    {
      "cell_type": "code",
      "source": [
        "X_train[:3]"
      ],
      "metadata": {
        "colab": {
          "base_uri": "https://localhost:8080/"
        },
        "id": "_XckCuZN5Cix",
        "outputId": "df2a48a8-13ce-46aa-a93e-31372fef783c"
      },
      "execution_count": 61,
      "outputs": [
        {
          "output_type": "execute_result",
          "data": {
            "text/plain": [
              "array([[[178.58],\n",
              "        [179.55],\n",
              "        [180.94],\n",
              "        [174.24],\n",
              "        [174.62]],\n",
              "\n",
              "       [[192.74],\n",
              "        [194.15],\n",
              "        [194.19],\n",
              "        [194.81],\n",
              "        [192.58]],\n",
              "\n",
              "       [[166.52],\n",
              "        [166.44],\n",
              "        [165.25],\n",
              "        [154.68],\n",
              "        [156.3 ]]])"
            ]
          },
          "metadata": {},
          "execution_count": 61
        }
      ]
    },
    {
      "cell_type": "markdown",
      "source": [
        "## LSTM with single neuron\n",
        "\n",
        "Lets check power of a single neuron of LSTM"
      ],
      "metadata": {
        "id": "A27O2yJG6Js6"
      }
    },
    {
      "cell_type": "code",
      "source": [
        "model = keras.Sequential()\n",
        "\n",
        "# Adding LSTM layers\n",
        "model.add(keras.layers.LSTM(units=1,return_sequences = False,\n",
        "                            input_shape= (X_train.shape[1],X_train.shape[2])))\n",
        "# Adding the output layer\n",
        "model.add( keras.layers.Dense(1, activation='linear'))\n",
        "\n",
        "# Compiling the LSTM\n",
        "model.compile(optimizer = 'adam', loss = 'mean_squared_error')"
      ],
      "metadata": {
        "id": "fXl0dyK45E1p"
      },
      "execution_count": 62,
      "outputs": []
    },
    {
      "cell_type": "code",
      "source": [
        "model.summary()"
      ],
      "metadata": {
        "colab": {
          "base_uri": "https://localhost:8080/"
        },
        "id": "2z01u8p1IPjz",
        "outputId": "0ba1fb80-696c-43d6-accc-440a2fe0deab"
      },
      "execution_count": 63,
      "outputs": [
        {
          "output_type": "stream",
          "name": "stdout",
          "text": [
            "Model: \"sequential\"\n",
            "_________________________________________________________________\n",
            " Layer (type)                Output Shape              Param #   \n",
            "=================================================================\n",
            " lstm (LSTM)                 (None, 1)                 12        \n",
            "                                                                 \n",
            " dense (Dense)               (None, 1)                 2         \n",
            "                                                                 \n",
            "=================================================================\n",
            "Total params: 14\n",
            "Trainable params: 14\n",
            "Non-trainable params: 0\n",
            "_________________________________________________________________\n"
          ]
        }
      ]
    },
    {
      "cell_type": "code",
      "source": [
        "history = model.fit(X_train, Y_train, validation_split=0.1,\n",
        "                    epochs = 100, batch_size = 5)"
      ],
      "metadata": {
        "colab": {
          "base_uri": "https://localhost:8080/"
        },
        "id": "gVyU8fhz6aMc",
        "outputId": "6e53a93a-3923-4647-fd3a-3c01536f4690"
      },
      "execution_count": null,
      "outputs": [
        {
          "output_type": "stream",
          "name": "stdout",
          "text": [
            "Epoch 1/100\n",
            "33/33 [==============================] - 11s 106ms/step - loss: 37704.2969 - val_loss: 35431.3828\n",
            "Epoch 2/100\n",
            "33/33 [==============================] - 0s 8ms/step - loss: 37691.5664 - val_loss: 35419.0430\n",
            "Epoch 3/100\n",
            "33/33 [==============================] - 0s 11ms/step - loss: 37678.8594 - val_loss: 35406.7227\n",
            "Epoch 4/100\n",
            "33/33 [==============================] - 0s 9ms/step - loss: 37666.1445 - val_loss: 35394.4180\n",
            "Epoch 5/100\n",
            "33/33 [==============================] - 0s 6ms/step - loss: 37653.4336 - val_loss: 35382.1484\n",
            "Epoch 6/100\n",
            "33/33 [==============================] - 0s 5ms/step - loss: 37640.7109 - val_loss: 35369.7891\n",
            "Epoch 7/100\n",
            "33/33 [==============================] - 0s 6ms/step - loss: 37627.9805 - val_loss: 35357.5352\n",
            "Epoch 8/100\n",
            "33/33 [==============================] - 0s 5ms/step - loss: 37615.3164 - val_loss: 35345.2188\n",
            "Epoch 9/100\n",
            "33/33 [==============================] - 0s 5ms/step - loss: 37602.6133 - val_loss: 35332.9453\n",
            "Epoch 10/100\n",
            "33/33 [==============================] - 0s 5ms/step - loss: 37589.8945 - val_loss: 35320.6055\n",
            "Epoch 11/100\n",
            "33/33 [==============================] - 0s 5ms/step - loss: 37577.1992 - val_loss: 35308.3359\n",
            "Epoch 12/100\n",
            "33/33 [==============================] - 0s 5ms/step - loss: 37564.5430 - val_loss: 35296.0664\n",
            "Epoch 13/100\n",
            "33/33 [==============================] - 0s 9ms/step - loss: 37551.8438 - val_loss: 35283.7500\n",
            "Epoch 14/100\n",
            "33/33 [==============================] - 0s 10ms/step - loss: 37539.1367 - val_loss: 35271.5039\n",
            "Epoch 15/100\n",
            "33/33 [==============================] - 0s 11ms/step - loss: 37526.4570 - val_loss: 35259.1953\n",
            "Epoch 16/100\n",
            "33/33 [==============================] - 0s 6ms/step - loss: 37513.7852 - val_loss: 35246.8906\n",
            "Epoch 17/100\n",
            "33/33 [==============================] - 0s 6ms/step - loss: 37501.1094 - val_loss: 35234.7656\n",
            "Epoch 18/100\n",
            "33/33 [==============================] - 0s 6ms/step - loss: 37488.4844 - val_loss: 35222.4531\n",
            "Epoch 19/100\n",
            "33/33 [==============================] - 0s 6ms/step - loss: 37475.8086 - val_loss: 35210.1641\n",
            "Epoch 20/100\n",
            "33/33 [==============================] - 0s 6ms/step - loss: 37463.1133 - val_loss: 35197.9102\n",
            "Epoch 21/100\n",
            "33/33 [==============================] - 0s 6ms/step - loss: 37450.4570 - val_loss: 35185.6328\n",
            "Epoch 22/100\n",
            "33/33 [==============================] - 0s 6ms/step - loss: 37437.7852 - val_loss: 35173.3203\n",
            "Epoch 23/100\n",
            "33/33 [==============================] - 0s 6ms/step - loss: 37425.1094 - val_loss: 35161.1094\n",
            "Epoch 24/100\n",
            "33/33 [==============================] - 0s 5ms/step - loss: 37412.4805 - val_loss: 35148.8281\n",
            "Epoch 25/100\n",
            "33/33 [==============================] - 0s 6ms/step - loss: 37399.8398 - val_loss: 35136.5977\n",
            "Epoch 26/100\n",
            "33/33 [==============================] - 0s 5ms/step - loss: 37387.2031 - val_loss: 35124.4102\n",
            "Epoch 27/100\n",
            "33/33 [==============================] - 0s 5ms/step - loss: 37374.5625 - val_loss: 35112.2031\n",
            "Epoch 28/100\n",
            "33/33 [==============================] - 0s 7ms/step - loss: 37361.9727 - val_loss: 35100.0234\n",
            "Epoch 29/100\n",
            "33/33 [==============================] - 0s 6ms/step - loss: 37349.3945 - val_loss: 35087.7695\n",
            "Epoch 30/100\n",
            "33/33 [==============================] - 0s 6ms/step - loss: 37336.7773 - val_loss: 35075.5469\n",
            "Epoch 31/100\n",
            "33/33 [==============================] - 0s 6ms/step - loss: 37324.1758 - val_loss: 35063.3555\n",
            "Epoch 32/100\n",
            "33/33 [==============================] - 0s 6ms/step - loss: 37311.5078 - val_loss: 35051.1758\n",
            "Epoch 33/100\n",
            "33/33 [==============================] - 0s 5ms/step - loss: 37298.8984 - val_loss: 35038.9180\n",
            "Epoch 34/100\n",
            "33/33 [==============================] - 0s 6ms/step - loss: 37286.2734 - val_loss: 35026.7188\n",
            "Epoch 35/100\n",
            "33/33 [==============================] - 0s 6ms/step - loss: 37273.6836 - val_loss: 35014.4961\n",
            "Epoch 36/100\n",
            "33/33 [==============================] - 0s 6ms/step - loss: 37261.0820 - val_loss: 35002.2383\n",
            "Epoch 37/100\n",
            "33/33 [==============================] - 0s 7ms/step - loss: 37248.4609 - val_loss: 34990.0898\n",
            "Epoch 38/100\n",
            "33/33 [==============================] - 0s 6ms/step - loss: 37235.8867 - val_loss: 34977.8945\n",
            "Epoch 39/100\n",
            "33/33 [==============================] - 0s 8ms/step - loss: 37223.2578 - val_loss: 34965.6562\n",
            "Epoch 40/100\n",
            "33/33 [==============================] - 0s 11ms/step - loss: 37210.6289 - val_loss: 34953.4727\n",
            "Epoch 41/100\n",
            "33/33 [==============================] - 0s 13ms/step - loss: 37198.0078 - val_loss: 34941.2070\n",
            "Epoch 42/100\n",
            "33/33 [==============================] - 0s 10ms/step - loss: 37185.3711 - val_loss: 34929.0820\n",
            "Epoch 43/100\n",
            "33/33 [==============================] - 0s 11ms/step - loss: 37172.8438 - val_loss: 34916.8750\n",
            "Epoch 44/100\n",
            "33/33 [==============================] - 1s 17ms/step - loss: 37160.2500 - val_loss: 34904.7227\n",
            "Epoch 45/100\n",
            "33/33 [==============================] - 1s 15ms/step - loss: 37147.6719 - val_loss: 34892.5156\n",
            "Epoch 46/100\n",
            "33/33 [==============================] - 1s 16ms/step - loss: 37135.0703 - val_loss: 34880.3281\n",
            "Epoch 47/100\n",
            "33/33 [==============================] - 1s 17ms/step - loss: 37122.4844 - val_loss: 34868.1719\n",
            "Epoch 48/100\n",
            "33/33 [==============================] - 0s 14ms/step - loss: 37109.9141 - val_loss: 34855.9453\n",
            "Epoch 49/100\n",
            "33/33 [==============================] - 1s 16ms/step - loss: 37097.3320 - val_loss: 34843.7969\n",
            "Epoch 50/100\n",
            "33/33 [==============================] - 0s 14ms/step - loss: 37084.7422 - val_loss: 34831.6211\n",
            "Epoch 51/100\n",
            "33/33 [==============================] - 0s 13ms/step - loss: 37072.1641 - val_loss: 34819.3906\n",
            "Epoch 52/100\n",
            "33/33 [==============================] - 0s 11ms/step - loss: 37059.5547 - val_loss: 34807.2344\n",
            "Epoch 53/100\n",
            "33/33 [==============================] - 0s 10ms/step - loss: 37046.9492 - val_loss: 34795.0469\n",
            "Epoch 54/100\n",
            "33/33 [==============================] - 0s 9ms/step - loss: 37034.3555 - val_loss: 34782.8594\n",
            "Epoch 55/100\n",
            "33/33 [==============================] - 0s 12ms/step - loss: 37021.7930 - val_loss: 34770.6602\n",
            "Epoch 56/100\n",
            "33/33 [==============================] - 0s 10ms/step - loss: 37009.2500 - val_loss: 34758.5352\n",
            "Epoch 57/100\n",
            "33/33 [==============================] - 0s 14ms/step - loss: 36996.7461 - val_loss: 34746.4297\n",
            "Epoch 58/100\n",
            "33/33 [==============================] - 0s 11ms/step - loss: 36984.2148 - val_loss: 34734.3555\n",
            "Epoch 59/100\n",
            "33/33 [==============================] - 0s 10ms/step - loss: 36971.7031 - val_loss: 34722.2305\n",
            "Epoch 60/100\n",
            "33/33 [==============================] - 0s 13ms/step - loss: 36959.1875 - val_loss: 34710.0898\n",
            "Epoch 61/100\n",
            "33/33 [==============================] - 1s 15ms/step - loss: 36946.6523 - val_loss: 34697.9727\n",
            "Epoch 62/100\n",
            "33/33 [==============================] - 0s 11ms/step - loss: 36934.1406 - val_loss: 34685.8867\n",
            "Epoch 63/100\n",
            "33/33 [==============================] - 0s 14ms/step - loss: 36921.6797 - val_loss: 34673.7852\n",
            "Epoch 64/100\n",
            "33/33 [==============================] - 0s 13ms/step - loss: 36909.1367 - val_loss: 34661.6055\n",
            "Epoch 65/100\n",
            "30/33 [==========================>...] - ETA: 0s - loss: 37170.1719"
          ]
        }
      ]
    },
    {
      "cell_type": "code",
      "source": [
        "# history = model.fit(X_train, Y_train, validation_split=0.3,epochs = 10, batch_size = 10)"
      ],
      "metadata": {
        "id": "MQdEP9Ha71fI"
      },
      "execution_count": null,
      "outputs": []
    },
    {
      "cell_type": "code",
      "source": [
        "import matplotlib.pyplot as plt\n",
        "plt.plot(history.history['loss'])\n",
        "plt.plot(history.history['val_loss'])"
      ],
      "metadata": {
        "id": "5G0kMuSH8NBi"
      },
      "execution_count": null,
      "outputs": []
    },
    {
      "cell_type": "markdown",
      "source": [
        "# Multi layer LSTM\n",
        "\n",
        "HL 1 --> 10 LSTM neurons\n",
        "\n",
        "HL 2 --> 5\n",
        "\n",
        "Output Layer --> dense layer 1 neuron activation => linear"
      ],
      "metadata": {
        "id": "bzWgPefG8qLB"
      }
    },
    {
      "cell_type": "code",
      "source": [
        "model = keras.Sequential()\n",
        "\n",
        "# Adding LSTM layers\n",
        "model.add(keras.layers.LSTM(units=10,return_sequences = True,\n",
        "                            input_shape= (X_train.shape[1],X_train.shape[2])))\n",
        "\n",
        "model.add(keras.layers.LSTM(units=5,return_sequences = False))\n",
        "# Adding the output layer\n",
        "model.add( keras.layers.Dense(1, activation='linear'))\n",
        "\n",
        "# Compiling the LSTM\n",
        "model.compile(optimizer = 'adam', loss = 'mean_squared_error')"
      ],
      "metadata": {
        "id": "e1jQ6kwS8NYS"
      },
      "execution_count": null,
      "outputs": []
    },
    {
      "cell_type": "code",
      "source": [
        "history = model.fit(X_train, Y_train, validation_split=0.3,epochs = 100, batch_size = 10)"
      ],
      "metadata": {
        "id": "UkHD7X6i-3I6"
      },
      "execution_count": null,
      "outputs": []
    },
    {
      "cell_type": "code",
      "source": [
        "import matplotlib.pyplot as plt\n",
        "plt.plot(history.history['loss'])\n",
        "plt.plot(history.history['val_loss'])"
      ],
      "metadata": {
        "id": "gxIkGgfW-9Ui"
      },
      "execution_count": null,
      "outputs": []
    },
    {
      "cell_type": "code",
      "source": [],
      "metadata": {
        "id": "1vDZdH81J92N"
      },
      "execution_count": null,
      "outputs": []
    }
  ]
}