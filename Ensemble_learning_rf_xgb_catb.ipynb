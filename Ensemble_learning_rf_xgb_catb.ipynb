{
  "nbformat": 4,
  "nbformat_minor": 0,
  "metadata": {
    "colab": {
      "provenance": []
    },
    "kernelspec": {
      "name": "python3",
      "display_name": "Python 3"
    },
    "language_info": {
      "name": "python"
    }
  },
  "cells": [
    {
      "cell_type": "code",
      "execution_count": null,
      "metadata": {
        "id": "x724RRotCchp"
      },
      "outputs": [],
      "source": [
        "import pandas as pd"
      ]
    },
    {
      "cell_type": "code",
      "source": [
        "df = pd.read_csv('HR_comma_sep.csv')"
      ],
      "metadata": {
        "id": "CzL7Wv0uChsq"
      },
      "execution_count": null,
      "outputs": []
    },
    {
      "cell_type": "code",
      "source": [
        "df.shape"
      ],
      "metadata": {
        "colab": {
          "base_uri": "https://localhost:8080/"
        },
        "id": "ACc4AY5rCv-O",
        "outputId": "3c731f59-ba91-4505-8cd0-d5ee111f4ca4"
      },
      "execution_count": null,
      "outputs": [
        {
          "output_type": "execute_result",
          "data": {
            "text/plain": [
              "(14999, 10)"
            ]
          },
          "metadata": {},
          "execution_count": 210
        }
      ]
    },
    {
      "cell_type": "code",
      "source": [
        "df.columns"
      ],
      "metadata": {
        "colab": {
          "base_uri": "https://localhost:8080/"
        },
        "id": "hEgM7UsCCxPA",
        "outputId": "6ef6c02e-5e16-46e3-b20f-7f9aab61ff18"
      },
      "execution_count": null,
      "outputs": [
        {
          "output_type": "execute_result",
          "data": {
            "text/plain": [
              "Index(['satisfaction_level', 'last_evaluation', 'number_project',\n",
              "       'average_montly_hours', 'time_spend_company', 'Work_accident', 'left',\n",
              "       'promotion_last_5years', 'Department', 'salary'],\n",
              "      dtype='object')"
            ]
          },
          "metadata": {},
          "execution_count": 211
        }
      ]
    },
    {
      "cell_type": "code",
      "source": [
        "df.dtypes"
      ],
      "metadata": {
        "colab": {
          "base_uri": "https://localhost:8080/"
        },
        "id": "I_XpDeCTCygT",
        "outputId": "af470171-0414-467f-c71b-ad5e309b460a"
      },
      "execution_count": null,
      "outputs": [
        {
          "output_type": "execute_result",
          "data": {
            "text/plain": [
              "satisfaction_level       float64\n",
              "last_evaluation          float64\n",
              "number_project             int64\n",
              "average_montly_hours       int64\n",
              "time_spend_company         int64\n",
              "Work_accident              int64\n",
              "left                       int64\n",
              "promotion_last_5years      int64\n",
              "Department                object\n",
              "salary                    object\n",
              "dtype: object"
            ]
          },
          "metadata": {},
          "execution_count": 212
        }
      ]
    },
    {
      "cell_type": "markdown",
      "source": [
        "# Target column -> Salary\n",
        "- Label encode salary column"
      ],
      "metadata": {
        "id": "D4PU79A6FB0X"
      }
    },
    {
      "cell_type": "code",
      "source": [
        "df['salary'].unique()"
      ],
      "metadata": {
        "colab": {
          "base_uri": "https://localhost:8080/"
        },
        "id": "7eD4_xs0FG25",
        "outputId": "becae89b-8ac5-459a-f49e-aff05de75543"
      },
      "execution_count": null,
      "outputs": [
        {
          "output_type": "execute_result",
          "data": {
            "text/plain": [
              "array(['low', 'medium', 'high'], dtype=object)"
            ]
          },
          "metadata": {},
          "execution_count": 213
        }
      ]
    },
    {
      "cell_type": "code",
      "source": [
        "df['Department'].unique()"
      ],
      "metadata": {
        "colab": {
          "base_uri": "https://localhost:8080/"
        },
        "id": "bU78MptDEHlR",
        "outputId": "546881a9-9986-4bdf-d5e4-e4aef19e879f"
      },
      "execution_count": null,
      "outputs": [
        {
          "output_type": "execute_result",
          "data": {
            "text/plain": [
              "array(['sales', 'accounting', 'hr', 'technical', 'support', 'management',\n",
              "       'IT', 'product_mng', 'marketing', 'RandD'], dtype=object)"
            ]
          },
          "metadata": {},
          "execution_count": 214
        }
      ]
    },
    {
      "cell_type": "code",
      "source": [
        "df.isna().sum()"
      ],
      "metadata": {
        "colab": {
          "base_uri": "https://localhost:8080/"
        },
        "id": "wuTAHVoIEBtV",
        "outputId": "25085d14-9b43-4c4a-9601-f2ab5d289848"
      },
      "execution_count": null,
      "outputs": [
        {
          "output_type": "execute_result",
          "data": {
            "text/plain": [
              "satisfaction_level       0\n",
              "last_evaluation          0\n",
              "number_project           0\n",
              "average_montly_hours     0\n",
              "time_spend_company       0\n",
              "Work_accident            0\n",
              "left                     0\n",
              "promotion_last_5years    0\n",
              "Department               0\n",
              "salary                   0\n",
              "dtype: int64"
            ]
          },
          "metadata": {},
          "execution_count": 215
        }
      ]
    },
    {
      "cell_type": "code",
      "source": [
        "label_map = {\n",
        "    \"salary\" : {'low':0,'medium':1,'high':2}\n",
        "}"
      ],
      "metadata": {
        "id": "9lYNDxmEFhiq"
      },
      "execution_count": null,
      "outputs": []
    },
    {
      "cell_type": "code",
      "source": [
        "df.replace(label_map,inplace=True)"
      ],
      "metadata": {
        "id": "J3N9Gn7nF_mr"
      },
      "execution_count": null,
      "outputs": []
    },
    {
      "cell_type": "code",
      "source": [
        "df.dtypes"
      ],
      "metadata": {
        "colab": {
          "base_uri": "https://localhost:8080/"
        },
        "id": "OA3mtoz8EYOG",
        "outputId": "bcf44c2b-694f-42ff-9023-5861e872163d"
      },
      "execution_count": null,
      "outputs": [
        {
          "output_type": "execute_result",
          "data": {
            "text/plain": [
              "satisfaction_level       float64\n",
              "last_evaluation          float64\n",
              "number_project             int64\n",
              "average_montly_hours       int64\n",
              "time_spend_company         int64\n",
              "Work_accident              int64\n",
              "left                       int64\n",
              "promotion_last_5years      int64\n",
              "Department                object\n",
              "salary                     int64\n",
              "dtype: object"
            ]
          },
          "metadata": {},
          "execution_count": 218
        }
      ]
    },
    {
      "cell_type": "code",
      "source": [
        "df_ohe = pd.get_dummies(df)"
      ],
      "metadata": {
        "id": "J280DLSpGKjL"
      },
      "execution_count": null,
      "outputs": []
    },
    {
      "cell_type": "code",
      "source": [
        "df_ohe.shape"
      ],
      "metadata": {
        "colab": {
          "base_uri": "https://localhost:8080/"
        },
        "id": "dXGc9bZhGgdE",
        "outputId": "b0a0fc3b-a48b-4392-8184-168e36e7594d"
      },
      "execution_count": null,
      "outputs": [
        {
          "output_type": "execute_result",
          "data": {
            "text/plain": [
              "(14999, 19)"
            ]
          },
          "metadata": {},
          "execution_count": 220
        }
      ]
    },
    {
      "cell_type": "code",
      "source": [
        "df_ohe.columns"
      ],
      "metadata": {
        "colab": {
          "base_uri": "https://localhost:8080/"
        },
        "id": "RAfsWcejGho_",
        "outputId": "2c98125d-e837-4468-f32f-58fc746d66c0"
      },
      "execution_count": null,
      "outputs": [
        {
          "output_type": "execute_result",
          "data": {
            "text/plain": [
              "Index(['satisfaction_level', 'last_evaluation', 'number_project',\n",
              "       'average_montly_hours', 'time_spend_company', 'Work_accident', 'left',\n",
              "       'promotion_last_5years', 'salary', 'Department_IT', 'Department_RandD',\n",
              "       'Department_accounting', 'Department_hr', 'Department_management',\n",
              "       'Department_marketing', 'Department_product_mng', 'Department_sales',\n",
              "       'Department_support', 'Department_technical'],\n",
              "      dtype='object')"
            ]
          },
          "metadata": {},
          "execution_count": 221
        }
      ]
    },
    {
      "cell_type": "markdown",
      "source": [
        "# X & Y split"
      ],
      "metadata": {
        "id": "zXVqE1qTGmF9"
      }
    },
    {
      "cell_type": "code",
      "source": [
        "X = df_ohe.drop('salary',axis=1)\n",
        "Y = df_ohe['salary']"
      ],
      "metadata": {
        "id": "8tjFqIqPGlLx"
      },
      "execution_count": null,
      "outputs": []
    },
    {
      "cell_type": "code",
      "source": [
        "X.shape,Y.shape"
      ],
      "metadata": {
        "colab": {
          "base_uri": "https://localhost:8080/"
        },
        "id": "b9hSf6dcGjNo",
        "outputId": "4ab9598b-8726-4f6b-a338-4c1f215168c8"
      },
      "execution_count": null,
      "outputs": [
        {
          "output_type": "execute_result",
          "data": {
            "text/plain": [
              "((14999, 18), (14999,))"
            ]
          },
          "metadata": {},
          "execution_count": 223
        }
      ]
    },
    {
      "cell_type": "markdown",
      "source": [
        "# Train - Test split\n"
      ],
      "metadata": {
        "id": "u_fs74NVHH-g"
      }
    },
    {
      "cell_type": "code",
      "source": [
        "from sklearn.model_selection import train_test_split"
      ],
      "metadata": {
        "id": "E4V0RKBvHF76"
      },
      "execution_count": null,
      "outputs": []
    },
    {
      "cell_type": "code",
      "source": [
        "X_train,X_test,y_train,y_test = train_test_split(X,Y,test_size=0.3,random_state=34,stratify=Y)"
      ],
      "metadata": {
        "id": "4zNBGAcnHRIu"
      },
      "execution_count": null,
      "outputs": []
    },
    {
      "cell_type": "code",
      "source": [
        "X_train.shape,X_test.shape,y_train.shape,y_test.shape"
      ],
      "metadata": {
        "colab": {
          "base_uri": "https://localhost:8080/"
        },
        "id": "dmh4SuA5HdoB",
        "outputId": "a7216b2d-6633-4055-948b-444a48800397"
      },
      "execution_count": null,
      "outputs": [
        {
          "output_type": "execute_result",
          "data": {
            "text/plain": [
              "((10499, 18), (4500, 18), (10499,), (4500,))"
            ]
          },
          "metadata": {},
          "execution_count": 226
        }
      ]
    },
    {
      "cell_type": "code",
      "source": [
        "X_train.describe()"
      ],
      "metadata": {
        "colab": {
          "base_uri": "https://localhost:8080/",
          "height": 364
        },
        "id": "ZyyncHXfHlVT",
        "outputId": "bd7d2553-e991-4080-8139-92465a88cbbc"
      },
      "execution_count": null,
      "outputs": [
        {
          "output_type": "execute_result",
          "data": {
            "text/plain": [
              "       satisfaction_level  last_evaluation  number_project  \\\n",
              "count        10499.000000     10499.000000    10499.000000   \n",
              "mean             0.613078         0.716288        3.804267   \n",
              "std              0.249904         0.170354        1.234728   \n",
              "min              0.090000         0.360000        2.000000   \n",
              "25%              0.440000         0.560000        3.000000   \n",
              "50%              0.650000         0.720000        4.000000   \n",
              "75%              0.820000         0.870000        5.000000   \n",
              "max              1.000000         1.000000        7.000000   \n",
              "\n",
              "       average_montly_hours  time_spend_company  Work_accident          left  \\\n",
              "count          10499.000000        10499.000000   10499.000000  10499.000000   \n",
              "mean             201.292599            3.496523       0.142585      0.237165   \n",
              "std               49.972005            1.461991       0.349666      0.425365   \n",
              "min               96.000000            2.000000       0.000000      0.000000   \n",
              "25%              156.000000            3.000000       0.000000      0.000000   \n",
              "50%              201.000000            3.000000       0.000000      0.000000   \n",
              "75%              245.000000            4.000000       0.000000      0.000000   \n",
              "max              310.000000           10.000000       1.000000      1.000000   \n",
              "\n",
              "       promotion_last_5years  Department_IT  Department_RandD  \\\n",
              "count           10499.000000   10499.000000      10499.000000   \n",
              "mean                0.020859       0.081341          0.055148   \n",
              "std                 0.142919       0.273371          0.228280   \n",
              "min                 0.000000       0.000000          0.000000   \n",
              "25%                 0.000000       0.000000          0.000000   \n",
              "50%                 0.000000       0.000000          0.000000   \n",
              "75%                 0.000000       0.000000          0.000000   \n",
              "max                 1.000000       1.000000          1.000000   \n",
              "\n",
              "       Department_accounting  Department_hr  Department_management  \\\n",
              "count           10499.000000   10499.000000           10499.000000   \n",
              "mean                0.050195       0.050481               0.042385   \n",
              "std                 0.218358       0.218946               0.201475   \n",
              "min                 0.000000       0.000000               0.000000   \n",
              "25%                 0.000000       0.000000               0.000000   \n",
              "50%                 0.000000       0.000000               0.000000   \n",
              "75%                 0.000000       0.000000               0.000000   \n",
              "max                 1.000000       1.000000               1.000000   \n",
              "\n",
              "       Department_marketing  Department_product_mng  Department_sales  \\\n",
              "count          10499.000000            10499.000000      10499.000000   \n",
              "mean               0.056196                0.061149          0.274026   \n",
              "std                0.230310                0.239614          0.446043   \n",
              "min                0.000000                0.000000          0.000000   \n",
              "25%                0.000000                0.000000          0.000000   \n",
              "50%                0.000000                0.000000          0.000000   \n",
              "75%                0.000000                0.000000          1.000000   \n",
              "max                1.000000                1.000000          1.000000   \n",
              "\n",
              "       Department_support  Department_technical  \n",
              "count        10499.000000          10499.000000  \n",
              "mean             0.145347              0.183732  \n",
              "std              0.352467              0.387284  \n",
              "min              0.000000              0.000000  \n",
              "25%              0.000000              0.000000  \n",
              "50%              0.000000              0.000000  \n",
              "75%              0.000000              0.000000  \n",
              "max              1.000000              1.000000  "
            ],
            "text/html": [
              "\n",
              "\n",
              "  <div id=\"df-db4abceb-af48-4411-a683-c58e24da11ac\">\n",
              "    <div class=\"colab-df-container\">\n",
              "      <div>\n",
              "<style scoped>\n",
              "    .dataframe tbody tr th:only-of-type {\n",
              "        vertical-align: middle;\n",
              "    }\n",
              "\n",
              "    .dataframe tbody tr th {\n",
              "        vertical-align: top;\n",
              "    }\n",
              "\n",
              "    .dataframe thead th {\n",
              "        text-align: right;\n",
              "    }\n",
              "</style>\n",
              "<table border=\"1\" class=\"dataframe\">\n",
              "  <thead>\n",
              "    <tr style=\"text-align: right;\">\n",
              "      <th></th>\n",
              "      <th>satisfaction_level</th>\n",
              "      <th>last_evaluation</th>\n",
              "      <th>number_project</th>\n",
              "      <th>average_montly_hours</th>\n",
              "      <th>time_spend_company</th>\n",
              "      <th>Work_accident</th>\n",
              "      <th>left</th>\n",
              "      <th>promotion_last_5years</th>\n",
              "      <th>Department_IT</th>\n",
              "      <th>Department_RandD</th>\n",
              "      <th>Department_accounting</th>\n",
              "      <th>Department_hr</th>\n",
              "      <th>Department_management</th>\n",
              "      <th>Department_marketing</th>\n",
              "      <th>Department_product_mng</th>\n",
              "      <th>Department_sales</th>\n",
              "      <th>Department_support</th>\n",
              "      <th>Department_technical</th>\n",
              "    </tr>\n",
              "  </thead>\n",
              "  <tbody>\n",
              "    <tr>\n",
              "      <th>count</th>\n",
              "      <td>10499.000000</td>\n",
              "      <td>10499.000000</td>\n",
              "      <td>10499.000000</td>\n",
              "      <td>10499.000000</td>\n",
              "      <td>10499.000000</td>\n",
              "      <td>10499.000000</td>\n",
              "      <td>10499.000000</td>\n",
              "      <td>10499.000000</td>\n",
              "      <td>10499.000000</td>\n",
              "      <td>10499.000000</td>\n",
              "      <td>10499.000000</td>\n",
              "      <td>10499.000000</td>\n",
              "      <td>10499.000000</td>\n",
              "      <td>10499.000000</td>\n",
              "      <td>10499.000000</td>\n",
              "      <td>10499.000000</td>\n",
              "      <td>10499.000000</td>\n",
              "      <td>10499.000000</td>\n",
              "    </tr>\n",
              "    <tr>\n",
              "      <th>mean</th>\n",
              "      <td>0.613078</td>\n",
              "      <td>0.716288</td>\n",
              "      <td>3.804267</td>\n",
              "      <td>201.292599</td>\n",
              "      <td>3.496523</td>\n",
              "      <td>0.142585</td>\n",
              "      <td>0.237165</td>\n",
              "      <td>0.020859</td>\n",
              "      <td>0.081341</td>\n",
              "      <td>0.055148</td>\n",
              "      <td>0.050195</td>\n",
              "      <td>0.050481</td>\n",
              "      <td>0.042385</td>\n",
              "      <td>0.056196</td>\n",
              "      <td>0.061149</td>\n",
              "      <td>0.274026</td>\n",
              "      <td>0.145347</td>\n",
              "      <td>0.183732</td>\n",
              "    </tr>\n",
              "    <tr>\n",
              "      <th>std</th>\n",
              "      <td>0.249904</td>\n",
              "      <td>0.170354</td>\n",
              "      <td>1.234728</td>\n",
              "      <td>49.972005</td>\n",
              "      <td>1.461991</td>\n",
              "      <td>0.349666</td>\n",
              "      <td>0.425365</td>\n",
              "      <td>0.142919</td>\n",
              "      <td>0.273371</td>\n",
              "      <td>0.228280</td>\n",
              "      <td>0.218358</td>\n",
              "      <td>0.218946</td>\n",
              "      <td>0.201475</td>\n",
              "      <td>0.230310</td>\n",
              "      <td>0.239614</td>\n",
              "      <td>0.446043</td>\n",
              "      <td>0.352467</td>\n",
              "      <td>0.387284</td>\n",
              "    </tr>\n",
              "    <tr>\n",
              "      <th>min</th>\n",
              "      <td>0.090000</td>\n",
              "      <td>0.360000</td>\n",
              "      <td>2.000000</td>\n",
              "      <td>96.000000</td>\n",
              "      <td>2.000000</td>\n",
              "      <td>0.000000</td>\n",
              "      <td>0.000000</td>\n",
              "      <td>0.000000</td>\n",
              "      <td>0.000000</td>\n",
              "      <td>0.000000</td>\n",
              "      <td>0.000000</td>\n",
              "      <td>0.000000</td>\n",
              "      <td>0.000000</td>\n",
              "      <td>0.000000</td>\n",
              "      <td>0.000000</td>\n",
              "      <td>0.000000</td>\n",
              "      <td>0.000000</td>\n",
              "      <td>0.000000</td>\n",
              "    </tr>\n",
              "    <tr>\n",
              "      <th>25%</th>\n",
              "      <td>0.440000</td>\n",
              "      <td>0.560000</td>\n",
              "      <td>3.000000</td>\n",
              "      <td>156.000000</td>\n",
              "      <td>3.000000</td>\n",
              "      <td>0.000000</td>\n",
              "      <td>0.000000</td>\n",
              "      <td>0.000000</td>\n",
              "      <td>0.000000</td>\n",
              "      <td>0.000000</td>\n",
              "      <td>0.000000</td>\n",
              "      <td>0.000000</td>\n",
              "      <td>0.000000</td>\n",
              "      <td>0.000000</td>\n",
              "      <td>0.000000</td>\n",
              "      <td>0.000000</td>\n",
              "      <td>0.000000</td>\n",
              "      <td>0.000000</td>\n",
              "    </tr>\n",
              "    <tr>\n",
              "      <th>50%</th>\n",
              "      <td>0.650000</td>\n",
              "      <td>0.720000</td>\n",
              "      <td>4.000000</td>\n",
              "      <td>201.000000</td>\n",
              "      <td>3.000000</td>\n",
              "      <td>0.000000</td>\n",
              "      <td>0.000000</td>\n",
              "      <td>0.000000</td>\n",
              "      <td>0.000000</td>\n",
              "      <td>0.000000</td>\n",
              "      <td>0.000000</td>\n",
              "      <td>0.000000</td>\n",
              "      <td>0.000000</td>\n",
              "      <td>0.000000</td>\n",
              "      <td>0.000000</td>\n",
              "      <td>0.000000</td>\n",
              "      <td>0.000000</td>\n",
              "      <td>0.000000</td>\n",
              "    </tr>\n",
              "    <tr>\n",
              "      <th>75%</th>\n",
              "      <td>0.820000</td>\n",
              "      <td>0.870000</td>\n",
              "      <td>5.000000</td>\n",
              "      <td>245.000000</td>\n",
              "      <td>4.000000</td>\n",
              "      <td>0.000000</td>\n",
              "      <td>0.000000</td>\n",
              "      <td>0.000000</td>\n",
              "      <td>0.000000</td>\n",
              "      <td>0.000000</td>\n",
              "      <td>0.000000</td>\n",
              "      <td>0.000000</td>\n",
              "      <td>0.000000</td>\n",
              "      <td>0.000000</td>\n",
              "      <td>0.000000</td>\n",
              "      <td>1.000000</td>\n",
              "      <td>0.000000</td>\n",
              "      <td>0.000000</td>\n",
              "    </tr>\n",
              "    <tr>\n",
              "      <th>max</th>\n",
              "      <td>1.000000</td>\n",
              "      <td>1.000000</td>\n",
              "      <td>7.000000</td>\n",
              "      <td>310.000000</td>\n",
              "      <td>10.000000</td>\n",
              "      <td>1.000000</td>\n",
              "      <td>1.000000</td>\n",
              "      <td>1.000000</td>\n",
              "      <td>1.000000</td>\n",
              "      <td>1.000000</td>\n",
              "      <td>1.000000</td>\n",
              "      <td>1.000000</td>\n",
              "      <td>1.000000</td>\n",
              "      <td>1.000000</td>\n",
              "      <td>1.000000</td>\n",
              "      <td>1.000000</td>\n",
              "      <td>1.000000</td>\n",
              "      <td>1.000000</td>\n",
              "    </tr>\n",
              "  </tbody>\n",
              "</table>\n",
              "</div>\n",
              "      <button class=\"colab-df-convert\" onclick=\"convertToInteractive('df-db4abceb-af48-4411-a683-c58e24da11ac')\"\n",
              "              title=\"Convert this dataframe to an interactive table.\"\n",
              "              style=\"display:none;\">\n",
              "\n",
              "  <svg xmlns=\"http://www.w3.org/2000/svg\" height=\"24px\"viewBox=\"0 0 24 24\"\n",
              "       width=\"24px\">\n",
              "    <path d=\"M0 0h24v24H0V0z\" fill=\"none\"/>\n",
              "    <path d=\"M18.56 5.44l.94 2.06.94-2.06 2.06-.94-2.06-.94-.94-2.06-.94 2.06-2.06.94zm-11 1L8.5 8.5l.94-2.06 2.06-.94-2.06-.94L8.5 2.5l-.94 2.06-2.06.94zm10 10l.94 2.06.94-2.06 2.06-.94-2.06-.94-.94-2.06-.94 2.06-2.06.94z\"/><path d=\"M17.41 7.96l-1.37-1.37c-.4-.4-.92-.59-1.43-.59-.52 0-1.04.2-1.43.59L10.3 9.45l-7.72 7.72c-.78.78-.78 2.05 0 2.83L4 21.41c.39.39.9.59 1.41.59.51 0 1.02-.2 1.41-.59l7.78-7.78 2.81-2.81c.8-.78.8-2.07 0-2.86zM5.41 20L4 18.59l7.72-7.72 1.47 1.35L5.41 20z\"/>\n",
              "  </svg>\n",
              "      </button>\n",
              "\n",
              "\n",
              "\n",
              "    <div id=\"df-14c00f23-b3de-44f2-af1a-a31d17662122\">\n",
              "      <button class=\"colab-df-quickchart\" onclick=\"quickchart('df-14c00f23-b3de-44f2-af1a-a31d17662122')\"\n",
              "              title=\"Suggest charts.\"\n",
              "              style=\"display:none;\">\n",
              "\n",
              "<svg xmlns=\"http://www.w3.org/2000/svg\" height=\"24px\"viewBox=\"0 0 24 24\"\n",
              "     width=\"24px\">\n",
              "    <g>\n",
              "        <path d=\"M19 3H5c-1.1 0-2 .9-2 2v14c0 1.1.9 2 2 2h14c1.1 0 2-.9 2-2V5c0-1.1-.9-2-2-2zM9 17H7v-7h2v7zm4 0h-2V7h2v10zm4 0h-2v-4h2v4z\"/>\n",
              "    </g>\n",
              "</svg>\n",
              "      </button>\n",
              "    </div>\n",
              "\n",
              "<style>\n",
              "  .colab-df-quickchart {\n",
              "    background-color: #E8F0FE;\n",
              "    border: none;\n",
              "    border-radius: 50%;\n",
              "    cursor: pointer;\n",
              "    display: none;\n",
              "    fill: #1967D2;\n",
              "    height: 32px;\n",
              "    padding: 0 0 0 0;\n",
              "    width: 32px;\n",
              "  }\n",
              "\n",
              "  .colab-df-quickchart:hover {\n",
              "    background-color: #E2EBFA;\n",
              "    box-shadow: 0px 1px 2px rgba(60, 64, 67, 0.3), 0px 1px 3px 1px rgba(60, 64, 67, 0.15);\n",
              "    fill: #174EA6;\n",
              "  }\n",
              "\n",
              "  [theme=dark] .colab-df-quickchart {\n",
              "    background-color: #3B4455;\n",
              "    fill: #D2E3FC;\n",
              "  }\n",
              "\n",
              "  [theme=dark] .colab-df-quickchart:hover {\n",
              "    background-color: #434B5C;\n",
              "    box-shadow: 0px 1px 3px 1px rgba(0, 0, 0, 0.15);\n",
              "    filter: drop-shadow(0px 1px 2px rgba(0, 0, 0, 0.3));\n",
              "    fill: #FFFFFF;\n",
              "  }\n",
              "</style>\n",
              "\n",
              "    <script>\n",
              "      async function quickchart(key) {\n",
              "        const containerElement = document.querySelector('#' + key);\n",
              "        const charts = await google.colab.kernel.invokeFunction(\n",
              "            'suggestCharts', [key], {});\n",
              "      }\n",
              "    </script>\n",
              "\n",
              "      <script>\n",
              "\n",
              "function displayQuickchartButton(domScope) {\n",
              "  let quickchartButtonEl =\n",
              "    domScope.querySelector('#df-14c00f23-b3de-44f2-af1a-a31d17662122 button.colab-df-quickchart');\n",
              "  quickchartButtonEl.style.display =\n",
              "    google.colab.kernel.accessAllowed ? 'block' : 'none';\n",
              "}\n",
              "\n",
              "        displayQuickchartButton(document);\n",
              "      </script>\n",
              "      <style>\n",
              "    .colab-df-container {\n",
              "      display:flex;\n",
              "      flex-wrap:wrap;\n",
              "      gap: 12px;\n",
              "    }\n",
              "\n",
              "    .colab-df-convert {\n",
              "      background-color: #E8F0FE;\n",
              "      border: none;\n",
              "      border-radius: 50%;\n",
              "      cursor: pointer;\n",
              "      display: none;\n",
              "      fill: #1967D2;\n",
              "      height: 32px;\n",
              "      padding: 0 0 0 0;\n",
              "      width: 32px;\n",
              "    }\n",
              "\n",
              "    .colab-df-convert:hover {\n",
              "      background-color: #E2EBFA;\n",
              "      box-shadow: 0px 1px 2px rgba(60, 64, 67, 0.3), 0px 1px 3px 1px rgba(60, 64, 67, 0.15);\n",
              "      fill: #174EA6;\n",
              "    }\n",
              "\n",
              "    [theme=dark] .colab-df-convert {\n",
              "      background-color: #3B4455;\n",
              "      fill: #D2E3FC;\n",
              "    }\n",
              "\n",
              "    [theme=dark] .colab-df-convert:hover {\n",
              "      background-color: #434B5C;\n",
              "      box-shadow: 0px 1px 3px 1px rgba(0, 0, 0, 0.15);\n",
              "      filter: drop-shadow(0px 1px 2px rgba(0, 0, 0, 0.3));\n",
              "      fill: #FFFFFF;\n",
              "    }\n",
              "  </style>\n",
              "\n",
              "      <script>\n",
              "        const buttonEl =\n",
              "          document.querySelector('#df-db4abceb-af48-4411-a683-c58e24da11ac button.colab-df-convert');\n",
              "        buttonEl.style.display =\n",
              "          google.colab.kernel.accessAllowed ? 'block' : 'none';\n",
              "\n",
              "        async function convertToInteractive(key) {\n",
              "          const element = document.querySelector('#df-db4abceb-af48-4411-a683-c58e24da11ac');\n",
              "          const dataTable =\n",
              "            await google.colab.kernel.invokeFunction('convertToInteractive',\n",
              "                                                     [key], {});\n",
              "          if (!dataTable) return;\n",
              "\n",
              "          const docLinkHtml = 'Like what you see? Visit the ' +\n",
              "            '<a target=\"_blank\" href=https://colab.research.google.com/notebooks/data_table.ipynb>data table notebook</a>'\n",
              "            + ' to learn more about interactive tables.';\n",
              "          element.innerHTML = '';\n",
              "          dataTable['output_type'] = 'display_data';\n",
              "          await google.colab.output.renderOutput(dataTable, element);\n",
              "          const docLink = document.createElement('div');\n",
              "          docLink.innerHTML = docLinkHtml;\n",
              "          element.appendChild(docLink);\n",
              "        }\n",
              "      </script>\n",
              "    </div>\n",
              "  </div>\n"
            ]
          },
          "metadata": {},
          "execution_count": 227
        }
      ]
    },
    {
      "cell_type": "markdown",
      "source": [
        "# Apply random forest"
      ],
      "metadata": {
        "id": "KzCigZvhIYf9"
      }
    },
    {
      "cell_type": "code",
      "source": [
        "# ?\n",
        "y_train.value_counts(normalize = True)"
      ],
      "metadata": {
        "colab": {
          "base_uri": "https://localhost:8080/"
        },
        "id": "j4OQUJIFJPQK",
        "outputId": "8b763f53-edef-470b-b2c3-b0f877aa1134"
      },
      "execution_count": null,
      "outputs": [
        {
          "output_type": "execute_result",
          "data": {
            "text/plain": [
              "0    0.487761\n",
              "1    0.429755\n",
              "2    0.082484\n",
              "Name: salary, dtype: float64"
            ]
          },
          "metadata": {},
          "execution_count": 228
        }
      ]
    },
    {
      "cell_type": "code",
      "source": [
        "from sklearn.ensemble import RandomForestClassifier\n",
        "# using RF classifier bcz target variable  is categorical"
      ],
      "metadata": {
        "id": "_AyxrcgjIHz6"
      },
      "execution_count": null,
      "outputs": []
    },
    {
      "cell_type": "code",
      "source": [
        "rf = RandomForestClassifier(n_estimators=200,\n",
        "                            oob_score=True,\n",
        "                            class_weight='balanced',\n",
        "                            random_state=34)"
      ],
      "metadata": {
        "id": "jSU1KGoCIX6p"
      },
      "execution_count": null,
      "outputs": []
    },
    {
      "cell_type": "code",
      "source": [
        "# training the model\n",
        "rf.fit(X_train,y_train)"
      ],
      "metadata": {
        "colab": {
          "base_uri": "https://localhost:8080/",
          "height": 92
        },
        "id": "-cS-0mmZI6yY",
        "outputId": "e09cfe49-9f1d-4620-d711-6e490ee7dac8"
      },
      "execution_count": null,
      "outputs": [
        {
          "output_type": "execute_result",
          "data": {
            "text/plain": [
              "RandomForestClassifier(class_weight='balanced', n_estimators=200,\n",
              "                       oob_score=True, random_state=34)"
            ],
            "text/html": [
              "<style>#sk-container-id-6 {color: black;background-color: white;}#sk-container-id-6 pre{padding: 0;}#sk-container-id-6 div.sk-toggleable {background-color: white;}#sk-container-id-6 label.sk-toggleable__label {cursor: pointer;display: block;width: 100%;margin-bottom: 0;padding: 0.3em;box-sizing: border-box;text-align: center;}#sk-container-id-6 label.sk-toggleable__label-arrow:before {content: \"▸\";float: left;margin-right: 0.25em;color: #696969;}#sk-container-id-6 label.sk-toggleable__label-arrow:hover:before {color: black;}#sk-container-id-6 div.sk-estimator:hover label.sk-toggleable__label-arrow:before {color: black;}#sk-container-id-6 div.sk-toggleable__content {max-height: 0;max-width: 0;overflow: hidden;text-align: left;background-color: #f0f8ff;}#sk-container-id-6 div.sk-toggleable__content pre {margin: 0.2em;color: black;border-radius: 0.25em;background-color: #f0f8ff;}#sk-container-id-6 input.sk-toggleable__control:checked~div.sk-toggleable__content {max-height: 200px;max-width: 100%;overflow: auto;}#sk-container-id-6 input.sk-toggleable__control:checked~label.sk-toggleable__label-arrow:before {content: \"▾\";}#sk-container-id-6 div.sk-estimator input.sk-toggleable__control:checked~label.sk-toggleable__label {background-color: #d4ebff;}#sk-container-id-6 div.sk-label input.sk-toggleable__control:checked~label.sk-toggleable__label {background-color: #d4ebff;}#sk-container-id-6 input.sk-hidden--visually {border: 0;clip: rect(1px 1px 1px 1px);clip: rect(1px, 1px, 1px, 1px);height: 1px;margin: -1px;overflow: hidden;padding: 0;position: absolute;width: 1px;}#sk-container-id-6 div.sk-estimator {font-family: monospace;background-color: #f0f8ff;border: 1px dotted black;border-radius: 0.25em;box-sizing: border-box;margin-bottom: 0.5em;}#sk-container-id-6 div.sk-estimator:hover {background-color: #d4ebff;}#sk-container-id-6 div.sk-parallel-item::after {content: \"\";width: 100%;border-bottom: 1px solid gray;flex-grow: 1;}#sk-container-id-6 div.sk-label:hover label.sk-toggleable__label {background-color: #d4ebff;}#sk-container-id-6 div.sk-serial::before {content: \"\";position: absolute;border-left: 1px solid gray;box-sizing: border-box;top: 0;bottom: 0;left: 50%;z-index: 0;}#sk-container-id-6 div.sk-serial {display: flex;flex-direction: column;align-items: center;background-color: white;padding-right: 0.2em;padding-left: 0.2em;position: relative;}#sk-container-id-6 div.sk-item {position: relative;z-index: 1;}#sk-container-id-6 div.sk-parallel {display: flex;align-items: stretch;justify-content: center;background-color: white;position: relative;}#sk-container-id-6 div.sk-item::before, #sk-container-id-6 div.sk-parallel-item::before {content: \"\";position: absolute;border-left: 1px solid gray;box-sizing: border-box;top: 0;bottom: 0;left: 50%;z-index: -1;}#sk-container-id-6 div.sk-parallel-item {display: flex;flex-direction: column;z-index: 1;position: relative;background-color: white;}#sk-container-id-6 div.sk-parallel-item:first-child::after {align-self: flex-end;width: 50%;}#sk-container-id-6 div.sk-parallel-item:last-child::after {align-self: flex-start;width: 50%;}#sk-container-id-6 div.sk-parallel-item:only-child::after {width: 0;}#sk-container-id-6 div.sk-dashed-wrapped {border: 1px dashed gray;margin: 0 0.4em 0.5em 0.4em;box-sizing: border-box;padding-bottom: 0.4em;background-color: white;}#sk-container-id-6 div.sk-label label {font-family: monospace;font-weight: bold;display: inline-block;line-height: 1.2em;}#sk-container-id-6 div.sk-label-container {text-align: center;}#sk-container-id-6 div.sk-container {/* jupyter's `normalize.less` sets `[hidden] { display: none; }` but bootstrap.min.css set `[hidden] { display: none !important; }` so we also need the `!important` here to be able to override the default hidden behavior on the sphinx rendered scikit-learn.org. See: https://github.com/scikit-learn/scikit-learn/issues/21755 */display: inline-block !important;position: relative;}#sk-container-id-6 div.sk-text-repr-fallback {display: none;}</style><div id=\"sk-container-id-6\" class=\"sk-top-container\"><div class=\"sk-text-repr-fallback\"><pre>RandomForestClassifier(class_weight=&#x27;balanced&#x27;, n_estimators=200,\n",
              "                       oob_score=True, random_state=34)</pre><b>In a Jupyter environment, please rerun this cell to show the HTML representation or trust the notebook. <br />On GitHub, the HTML representation is unable to render, please try loading this page with nbviewer.org.</b></div><div class=\"sk-container\" hidden><div class=\"sk-item\"><div class=\"sk-estimator sk-toggleable\"><input class=\"sk-toggleable__control sk-hidden--visually\" id=\"sk-estimator-id-6\" type=\"checkbox\" checked><label for=\"sk-estimator-id-6\" class=\"sk-toggleable__label sk-toggleable__label-arrow\">RandomForestClassifier</label><div class=\"sk-toggleable__content\"><pre>RandomForestClassifier(class_weight=&#x27;balanced&#x27;, n_estimators=200,\n",
              "                       oob_score=True, random_state=34)</pre></div></div></div></div></div>"
            ]
          },
          "metadata": {},
          "execution_count": 231
        }
      ]
    },
    {
      "cell_type": "code",
      "source": [
        "y_pred = rf.predict(X_test)"
      ],
      "metadata": {
        "id": "hAfKtU3tJFmT"
      },
      "execution_count": null,
      "outputs": []
    },
    {
      "cell_type": "code",
      "source": [
        "from sklearn.metrics import classification_report"
      ],
      "metadata": {
        "id": "blzEWMQ_JeBg"
      },
      "execution_count": null,
      "outputs": []
    },
    {
      "cell_type": "code",
      "source": [
        "print(classification_report(y_test,y_pred))\n",
        "# compares testing and predicted values\n"
      ],
      "metadata": {
        "colab": {
          "base_uri": "https://localhost:8080/"
        },
        "id": "ZNUbb6wZJ5IF",
        "outputId": "0661f6cb-00c7-4ef3-8bd6-69ab3ac0b71a"
      },
      "execution_count": null,
      "outputs": [
        {
          "output_type": "stream",
          "name": "stdout",
          "text": [
            "              precision    recall  f1-score   support\n",
            "\n",
            "           0       0.62      0.71      0.66      2195\n",
            "           1       0.60      0.57      0.59      1934\n",
            "           2       0.76      0.33      0.46       371\n",
            "\n",
            "    accuracy                           0.62      4500\n",
            "   macro avg       0.66      0.53      0.57      4500\n",
            "weighted avg       0.62      0.62      0.61      4500\n",
            "\n"
          ]
        }
      ]
    },
    {
      "cell_type": "code",
      "source": [
        "from xgboost import XGBClassifier"
      ],
      "metadata": {
        "id": "b03hHrCzJ87F"
      },
      "execution_count": null,
      "outputs": []
    },
    {
      "cell_type": "code",
      "source": [
        "xgb = XGBClassifier(n_estimators=200,random_state=34)"
      ],
      "metadata": {
        "id": "dzmsVK7YP0Vx"
      },
      "execution_count": null,
      "outputs": []
    },
    {
      "cell_type": "code",
      "source": [
        "xgb.fit(X_train,y_train)"
      ],
      "metadata": {
        "colab": {
          "base_uri": "https://localhost:8080/",
          "height": 248
        },
        "id": "irPAsim1Q8mM",
        "outputId": "2b374cb5-88f3-4613-cd5f-8d9f8f95c4b8"
      },
      "execution_count": null,
      "outputs": [
        {
          "output_type": "execute_result",
          "data": {
            "text/plain": [
              "XGBClassifier(base_score=None, booster=None, callbacks=None,\n",
              "              colsample_bylevel=None, colsample_bynode=None,\n",
              "              colsample_bytree=None, early_stopping_rounds=None,\n",
              "              enable_categorical=False, eval_metric=None, feature_types=None,\n",
              "              gamma=None, gpu_id=None, grow_policy=None, importance_type=None,\n",
              "              interaction_constraints=None, learning_rate=None, max_bin=None,\n",
              "              max_cat_threshold=None, max_cat_to_onehot=None,\n",
              "              max_delta_step=None, max_depth=None, max_leaves=None,\n",
              "              min_child_weight=None, missing=nan, monotone_constraints=None,\n",
              "              n_estimators=200, n_jobs=None, num_parallel_tree=None,\n",
              "              objective='multi:softprob', predictor=None, ...)"
            ],
            "text/html": [
              "<style>#sk-container-id-7 {color: black;background-color: white;}#sk-container-id-7 pre{padding: 0;}#sk-container-id-7 div.sk-toggleable {background-color: white;}#sk-container-id-7 label.sk-toggleable__label {cursor: pointer;display: block;width: 100%;margin-bottom: 0;padding: 0.3em;box-sizing: border-box;text-align: center;}#sk-container-id-7 label.sk-toggleable__label-arrow:before {content: \"▸\";float: left;margin-right: 0.25em;color: #696969;}#sk-container-id-7 label.sk-toggleable__label-arrow:hover:before {color: black;}#sk-container-id-7 div.sk-estimator:hover label.sk-toggleable__label-arrow:before {color: black;}#sk-container-id-7 div.sk-toggleable__content {max-height: 0;max-width: 0;overflow: hidden;text-align: left;background-color: #f0f8ff;}#sk-container-id-7 div.sk-toggleable__content pre {margin: 0.2em;color: black;border-radius: 0.25em;background-color: #f0f8ff;}#sk-container-id-7 input.sk-toggleable__control:checked~div.sk-toggleable__content {max-height: 200px;max-width: 100%;overflow: auto;}#sk-container-id-7 input.sk-toggleable__control:checked~label.sk-toggleable__label-arrow:before {content: \"▾\";}#sk-container-id-7 div.sk-estimator input.sk-toggleable__control:checked~label.sk-toggleable__label {background-color: #d4ebff;}#sk-container-id-7 div.sk-label input.sk-toggleable__control:checked~label.sk-toggleable__label {background-color: #d4ebff;}#sk-container-id-7 input.sk-hidden--visually {border: 0;clip: rect(1px 1px 1px 1px);clip: rect(1px, 1px, 1px, 1px);height: 1px;margin: -1px;overflow: hidden;padding: 0;position: absolute;width: 1px;}#sk-container-id-7 div.sk-estimator {font-family: monospace;background-color: #f0f8ff;border: 1px dotted black;border-radius: 0.25em;box-sizing: border-box;margin-bottom: 0.5em;}#sk-container-id-7 div.sk-estimator:hover {background-color: #d4ebff;}#sk-container-id-7 div.sk-parallel-item::after {content: \"\";width: 100%;border-bottom: 1px solid gray;flex-grow: 1;}#sk-container-id-7 div.sk-label:hover label.sk-toggleable__label {background-color: #d4ebff;}#sk-container-id-7 div.sk-serial::before {content: \"\";position: absolute;border-left: 1px solid gray;box-sizing: border-box;top: 0;bottom: 0;left: 50%;z-index: 0;}#sk-container-id-7 div.sk-serial {display: flex;flex-direction: column;align-items: center;background-color: white;padding-right: 0.2em;padding-left: 0.2em;position: relative;}#sk-container-id-7 div.sk-item {position: relative;z-index: 1;}#sk-container-id-7 div.sk-parallel {display: flex;align-items: stretch;justify-content: center;background-color: white;position: relative;}#sk-container-id-7 div.sk-item::before, #sk-container-id-7 div.sk-parallel-item::before {content: \"\";position: absolute;border-left: 1px solid gray;box-sizing: border-box;top: 0;bottom: 0;left: 50%;z-index: -1;}#sk-container-id-7 div.sk-parallel-item {display: flex;flex-direction: column;z-index: 1;position: relative;background-color: white;}#sk-container-id-7 div.sk-parallel-item:first-child::after {align-self: flex-end;width: 50%;}#sk-container-id-7 div.sk-parallel-item:last-child::after {align-self: flex-start;width: 50%;}#sk-container-id-7 div.sk-parallel-item:only-child::after {width: 0;}#sk-container-id-7 div.sk-dashed-wrapped {border: 1px dashed gray;margin: 0 0.4em 0.5em 0.4em;box-sizing: border-box;padding-bottom: 0.4em;background-color: white;}#sk-container-id-7 div.sk-label label {font-family: monospace;font-weight: bold;display: inline-block;line-height: 1.2em;}#sk-container-id-7 div.sk-label-container {text-align: center;}#sk-container-id-7 div.sk-container {/* jupyter's `normalize.less` sets `[hidden] { display: none; }` but bootstrap.min.css set `[hidden] { display: none !important; }` so we also need the `!important` here to be able to override the default hidden behavior on the sphinx rendered scikit-learn.org. See: https://github.com/scikit-learn/scikit-learn/issues/21755 */display: inline-block !important;position: relative;}#sk-container-id-7 div.sk-text-repr-fallback {display: none;}</style><div id=\"sk-container-id-7\" class=\"sk-top-container\"><div class=\"sk-text-repr-fallback\"><pre>XGBClassifier(base_score=None, booster=None, callbacks=None,\n",
              "              colsample_bylevel=None, colsample_bynode=None,\n",
              "              colsample_bytree=None, early_stopping_rounds=None,\n",
              "              enable_categorical=False, eval_metric=None, feature_types=None,\n",
              "              gamma=None, gpu_id=None, grow_policy=None, importance_type=None,\n",
              "              interaction_constraints=None, learning_rate=None, max_bin=None,\n",
              "              max_cat_threshold=None, max_cat_to_onehot=None,\n",
              "              max_delta_step=None, max_depth=None, max_leaves=None,\n",
              "              min_child_weight=None, missing=nan, monotone_constraints=None,\n",
              "              n_estimators=200, n_jobs=None, num_parallel_tree=None,\n",
              "              objective=&#x27;multi:softprob&#x27;, predictor=None, ...)</pre><b>In a Jupyter environment, please rerun this cell to show the HTML representation or trust the notebook. <br />On GitHub, the HTML representation is unable to render, please try loading this page with nbviewer.org.</b></div><div class=\"sk-container\" hidden><div class=\"sk-item\"><div class=\"sk-estimator sk-toggleable\"><input class=\"sk-toggleable__control sk-hidden--visually\" id=\"sk-estimator-id-7\" type=\"checkbox\" checked><label for=\"sk-estimator-id-7\" class=\"sk-toggleable__label sk-toggleable__label-arrow\">XGBClassifier</label><div class=\"sk-toggleable__content\"><pre>XGBClassifier(base_score=None, booster=None, callbacks=None,\n",
              "              colsample_bylevel=None, colsample_bynode=None,\n",
              "              colsample_bytree=None, early_stopping_rounds=None,\n",
              "              enable_categorical=False, eval_metric=None, feature_types=None,\n",
              "              gamma=None, gpu_id=None, grow_policy=None, importance_type=None,\n",
              "              interaction_constraints=None, learning_rate=None, max_bin=None,\n",
              "              max_cat_threshold=None, max_cat_to_onehot=None,\n",
              "              max_delta_step=None, max_depth=None, max_leaves=None,\n",
              "              min_child_weight=None, missing=nan, monotone_constraints=None,\n",
              "              n_estimators=200, n_jobs=None, num_parallel_tree=None,\n",
              "              objective=&#x27;multi:softprob&#x27;, predictor=None, ...)</pre></div></div></div></div></div>"
            ]
          },
          "metadata": {},
          "execution_count": 237
        }
      ]
    },
    {
      "cell_type": "code",
      "source": [
        "y_pred = xgb.predict(X_test)"
      ],
      "metadata": {
        "id": "poHk-WiXQz27"
      },
      "execution_count": null,
      "outputs": []
    },
    {
      "cell_type": "code",
      "source": [
        "print(classification_report(y_test,y_pred))"
      ],
      "metadata": {
        "colab": {
          "base_uri": "https://localhost:8080/"
        },
        "id": "_M5AN12hROLL",
        "outputId": "b9f7e3a6-c628-4f1b-a4d8-955f08ace685"
      },
      "execution_count": null,
      "outputs": [
        {
          "output_type": "stream",
          "name": "stdout",
          "text": [
            "              precision    recall  f1-score   support\n",
            "\n",
            "           0       0.61      0.67      0.64      2195\n",
            "           1       0.57      0.57      0.57      1934\n",
            "           2       0.63      0.26      0.37       371\n",
            "\n",
            "    accuracy                           0.59      4500\n",
            "   macro avg       0.60      0.50      0.53      4500\n",
            "weighted avg       0.60      0.59      0.59      4500\n",
            "\n"
          ]
        }
      ]
    },
    {
      "cell_type": "code",
      "source": [
        "!pip install catboost"
      ],
      "metadata": {
        "colab": {
          "base_uri": "https://localhost:8080/"
        },
        "id": "kroalXDARUZP",
        "outputId": "771e6a90-5f21-4997-983f-c7537f6a37f2"
      },
      "execution_count": null,
      "outputs": [
        {
          "output_type": "stream",
          "name": "stdout",
          "text": [
            "Requirement already satisfied: catboost in /usr/local/lib/python3.10/dist-packages (1.2)\n",
            "Requirement already satisfied: graphviz in /usr/local/lib/python3.10/dist-packages (from catboost) (0.20.1)\n",
            "Requirement already satisfied: matplotlib in /usr/local/lib/python3.10/dist-packages (from catboost) (3.7.1)\n",
            "Requirement already satisfied: numpy>=1.16.0 in /usr/local/lib/python3.10/dist-packages (from catboost) (1.22.4)\n",
            "Requirement already satisfied: pandas>=0.24 in /usr/local/lib/python3.10/dist-packages (from catboost) (1.5.3)\n",
            "Requirement already satisfied: scipy in /usr/local/lib/python3.10/dist-packages (from catboost) (1.10.1)\n",
            "Requirement already satisfied: plotly in /usr/local/lib/python3.10/dist-packages (from catboost) (5.13.1)\n",
            "Requirement already satisfied: six in /usr/local/lib/python3.10/dist-packages (from catboost) (1.16.0)\n",
            "Requirement already satisfied: python-dateutil>=2.8.1 in /usr/local/lib/python3.10/dist-packages (from pandas>=0.24->catboost) (2.8.2)\n",
            "Requirement already satisfied: pytz>=2020.1 in /usr/local/lib/python3.10/dist-packages (from pandas>=0.24->catboost) (2022.7.1)\n",
            "Requirement already satisfied: contourpy>=1.0.1 in /usr/local/lib/python3.10/dist-packages (from matplotlib->catboost) (1.1.0)\n",
            "Requirement already satisfied: cycler>=0.10 in /usr/local/lib/python3.10/dist-packages (from matplotlib->catboost) (0.11.0)\n",
            "Requirement already satisfied: fonttools>=4.22.0 in /usr/local/lib/python3.10/dist-packages (from matplotlib->catboost) (4.41.0)\n",
            "Requirement already satisfied: kiwisolver>=1.0.1 in /usr/local/lib/python3.10/dist-packages (from matplotlib->catboost) (1.4.4)\n",
            "Requirement already satisfied: packaging>=20.0 in /usr/local/lib/python3.10/dist-packages (from matplotlib->catboost) (23.1)\n",
            "Requirement already satisfied: pillow>=6.2.0 in /usr/local/lib/python3.10/dist-packages (from matplotlib->catboost) (8.4.0)\n",
            "Requirement already satisfied: pyparsing>=2.3.1 in /usr/local/lib/python3.10/dist-packages (from matplotlib->catboost) (3.1.0)\n",
            "Requirement already satisfied: tenacity>=6.2.0 in /usr/local/lib/python3.10/dist-packages (from plotly->catboost) (8.2.2)\n"
          ]
        }
      ]
    },
    {
      "cell_type": "code",
      "source": [
        "import catboost"
      ],
      "metadata": {
        "id": "gjL-q8AiRrl9"
      },
      "execution_count": null,
      "outputs": []
    },
    {
      "cell_type": "code",
      "source": [
        "from catboost import CatBoostClassifier"
      ],
      "metadata": {
        "id": "TrUSi9kzRvyC"
      },
      "execution_count": null,
      "outputs": []
    },
    {
      "cell_type": "code",
      "source": [
        "cb = CatBoostClassifier(iterations=200,\n",
        "                        random_seed=34)\n",
        "                        #class_weights='balanced')"
      ],
      "metadata": {
        "id": "4NDY3QmBR5Us"
      },
      "execution_count": null,
      "outputs": []
    },
    {
      "cell_type": "code",
      "source": [
        "cb.fit(X_train,y_train)"
      ],
      "metadata": {
        "colab": {
          "base_uri": "https://localhost:8080/"
        },
        "id": "SH71AUcATEqu",
        "outputId": "854d064e-d8b8-4039-9ce0-2a924644392b"
      },
      "execution_count": null,
      "outputs": [
        {
          "output_type": "stream",
          "name": "stdout",
          "text": [
            "Learning rate set to 0.347561\n",
            "0:\tlearn: 1.0036557\ttotal: 5.72ms\tremaining: 1.14s\n",
            "1:\tlearn: 0.9539722\ttotal: 9.25ms\tremaining: 916ms\n",
            "2:\tlearn: 0.9217084\ttotal: 14.5ms\tremaining: 953ms\n",
            "3:\tlearn: 0.9054096\ttotal: 23.5ms\tremaining: 1.15s\n",
            "4:\tlearn: 0.8933176\ttotal: 29.9ms\tremaining: 1.16s\n",
            "5:\tlearn: 0.8853531\ttotal: 35.7ms\tremaining: 1.15s\n",
            "6:\tlearn: 0.8801713\ttotal: 40.6ms\tremaining: 1.12s\n",
            "7:\tlearn: 0.8766862\ttotal: 45.8ms\tremaining: 1.1s\n",
            "8:\tlearn: 0.8749274\ttotal: 51.2ms\tremaining: 1.09s\n",
            "9:\tlearn: 0.8728102\ttotal: 56.6ms\tremaining: 1.08s\n",
            "10:\tlearn: 0.8714153\ttotal: 61.9ms\tremaining: 1.06s\n",
            "11:\tlearn: 0.8694469\ttotal: 69.9ms\tremaining: 1.09s\n",
            "12:\tlearn: 0.8678239\ttotal: 75.8ms\tremaining: 1.09s\n",
            "13:\tlearn: 0.8677965\ttotal: 79.6ms\tremaining: 1.06s\n",
            "14:\tlearn: 0.8660872\ttotal: 85.3ms\tremaining: 1.05s\n",
            "15:\tlearn: 0.8632901\ttotal: 91ms\tremaining: 1.05s\n",
            "16:\tlearn: 0.8610091\ttotal: 96.7ms\tremaining: 1.04s\n",
            "17:\tlearn: 0.8600526\ttotal: 102ms\tremaining: 1.03s\n",
            "18:\tlearn: 0.8582094\ttotal: 107ms\tremaining: 1.02s\n",
            "19:\tlearn: 0.8567877\ttotal: 113ms\tremaining: 1.02s\n",
            "20:\tlearn: 0.8545632\ttotal: 119ms\tremaining: 1.01s\n",
            "21:\tlearn: 0.8537083\ttotal: 125ms\tremaining: 1.01s\n",
            "22:\tlearn: 0.8531753\ttotal: 130ms\tremaining: 1s\n",
            "23:\tlearn: 0.8517616\ttotal: 136ms\tremaining: 996ms\n",
            "24:\tlearn: 0.8505217\ttotal: 142ms\tremaining: 994ms\n",
            "25:\tlearn: 0.8494932\ttotal: 148ms\tremaining: 988ms\n",
            "26:\tlearn: 0.8482765\ttotal: 153ms\tremaining: 983ms\n",
            "27:\tlearn: 0.8469198\ttotal: 159ms\tremaining: 977ms\n",
            "28:\tlearn: 0.8459990\ttotal: 164ms\tremaining: 968ms\n",
            "29:\tlearn: 0.8445247\ttotal: 170ms\tremaining: 963ms\n",
            "30:\tlearn: 0.8432450\ttotal: 175ms\tremaining: 957ms\n",
            "31:\tlearn: 0.8404057\ttotal: 181ms\tremaining: 950ms\n",
            "32:\tlearn: 0.8388890\ttotal: 191ms\tremaining: 965ms\n",
            "33:\tlearn: 0.8375695\ttotal: 202ms\tremaining: 989ms\n",
            "34:\tlearn: 0.8359670\ttotal: 208ms\tremaining: 980ms\n",
            "35:\tlearn: 0.8345979\ttotal: 213ms\tremaining: 970ms\n",
            "36:\tlearn: 0.8332636\ttotal: 218ms\tremaining: 962ms\n",
            "37:\tlearn: 0.8313625\ttotal: 224ms\tremaining: 955ms\n",
            "38:\tlearn: 0.8302242\ttotal: 229ms\tremaining: 946ms\n",
            "39:\tlearn: 0.8287970\ttotal: 235ms\tremaining: 939ms\n",
            "40:\tlearn: 0.8269453\ttotal: 240ms\tremaining: 932ms\n",
            "41:\tlearn: 0.8257962\ttotal: 245ms\tremaining: 923ms\n",
            "42:\tlearn: 0.8246252\ttotal: 252ms\tremaining: 921ms\n",
            "43:\tlearn: 0.8228547\ttotal: 259ms\tremaining: 920ms\n",
            "44:\tlearn: 0.8213513\ttotal: 265ms\tremaining: 914ms\n",
            "45:\tlearn: 0.8198145\ttotal: 271ms\tremaining: 907ms\n",
            "46:\tlearn: 0.8183706\ttotal: 276ms\tremaining: 900ms\n",
            "47:\tlearn: 0.8159918\ttotal: 282ms\tremaining: 893ms\n",
            "48:\tlearn: 0.8147288\ttotal: 287ms\tremaining: 885ms\n",
            "49:\tlearn: 0.8130951\ttotal: 295ms\tremaining: 886ms\n",
            "50:\tlearn: 0.8122444\ttotal: 308ms\tremaining: 900ms\n",
            "51:\tlearn: 0.8109288\ttotal: 313ms\tremaining: 892ms\n",
            "52:\tlearn: 0.8095216\ttotal: 319ms\tremaining: 884ms\n",
            "53:\tlearn: 0.8083691\ttotal: 324ms\tremaining: 877ms\n",
            "54:\tlearn: 0.8067764\ttotal: 330ms\tremaining: 869ms\n",
            "55:\tlearn: 0.8055374\ttotal: 335ms\tremaining: 861ms\n",
            "56:\tlearn: 0.8041759\ttotal: 340ms\tremaining: 854ms\n",
            "57:\tlearn: 0.8031687\ttotal: 346ms\tremaining: 846ms\n",
            "58:\tlearn: 0.8018041\ttotal: 351ms\tremaining: 840ms\n",
            "59:\tlearn: 0.8005904\ttotal: 357ms\tremaining: 832ms\n",
            "60:\tlearn: 0.7992092\ttotal: 362ms\tremaining: 824ms\n",
            "61:\tlearn: 0.7981033\ttotal: 367ms\tremaining: 816ms\n",
            "62:\tlearn: 0.7963146\ttotal: 372ms\tremaining: 810ms\n",
            "63:\tlearn: 0.7950732\ttotal: 378ms\tremaining: 802ms\n",
            "64:\tlearn: 0.7944202\ttotal: 383ms\tremaining: 796ms\n",
            "65:\tlearn: 0.7931085\ttotal: 389ms\tremaining: 789ms\n",
            "66:\tlearn: 0.7921341\ttotal: 398ms\tremaining: 790ms\n",
            "67:\tlearn: 0.7907764\ttotal: 407ms\tremaining: 791ms\n",
            "68:\tlearn: 0.7892847\ttotal: 413ms\tremaining: 784ms\n",
            "69:\tlearn: 0.7880792\ttotal: 418ms\tremaining: 777ms\n",
            "70:\tlearn: 0.7871625\ttotal: 424ms\tremaining: 770ms\n",
            "71:\tlearn: 0.7860486\ttotal: 429ms\tremaining: 763ms\n",
            "72:\tlearn: 0.7854076\ttotal: 434ms\tremaining: 755ms\n",
            "73:\tlearn: 0.7843651\ttotal: 440ms\tremaining: 749ms\n",
            "74:\tlearn: 0.7830752\ttotal: 445ms\tremaining: 742ms\n",
            "75:\tlearn: 0.7821655\ttotal: 450ms\tremaining: 734ms\n",
            "76:\tlearn: 0.7802303\ttotal: 456ms\tremaining: 728ms\n",
            "77:\tlearn: 0.7790090\ttotal: 461ms\tremaining: 721ms\n",
            "78:\tlearn: 0.7777969\ttotal: 467ms\tremaining: 715ms\n",
            "79:\tlearn: 0.7768206\ttotal: 472ms\tremaining: 708ms\n",
            "80:\tlearn: 0.7761525\ttotal: 477ms\tremaining: 701ms\n",
            "81:\tlearn: 0.7748238\ttotal: 483ms\tremaining: 694ms\n",
            "82:\tlearn: 0.7742539\ttotal: 488ms\tremaining: 687ms\n",
            "83:\tlearn: 0.7726954\ttotal: 493ms\tremaining: 681ms\n",
            "84:\tlearn: 0.7720804\ttotal: 499ms\tremaining: 675ms\n",
            "85:\tlearn: 0.7710491\ttotal: 505ms\tremaining: 669ms\n",
            "86:\tlearn: 0.7699874\ttotal: 511ms\tremaining: 663ms\n",
            "87:\tlearn: 0.7685998\ttotal: 517ms\tremaining: 657ms\n",
            "88:\tlearn: 0.7679057\ttotal: 523ms\tremaining: 652ms\n",
            "89:\tlearn: 0.7673578\ttotal: 528ms\tremaining: 645ms\n",
            "90:\tlearn: 0.7661150\ttotal: 534ms\tremaining: 639ms\n",
            "91:\tlearn: 0.7651348\ttotal: 539ms\tremaining: 633ms\n",
            "92:\tlearn: 0.7642223\ttotal: 544ms\tremaining: 626ms\n",
            "93:\tlearn: 0.7636102\ttotal: 550ms\tremaining: 620ms\n",
            "94:\tlearn: 0.7627103\ttotal: 555ms\tremaining: 613ms\n",
            "95:\tlearn: 0.7612664\ttotal: 560ms\tremaining: 607ms\n",
            "96:\tlearn: 0.7599517\ttotal: 565ms\tremaining: 600ms\n",
            "97:\tlearn: 0.7586522\ttotal: 571ms\tremaining: 594ms\n",
            "98:\tlearn: 0.7576334\ttotal: 577ms\tremaining: 588ms\n",
            "99:\tlearn: 0.7564020\ttotal: 582ms\tremaining: 582ms\n",
            "100:\tlearn: 0.7547290\ttotal: 587ms\tremaining: 576ms\n",
            "101:\tlearn: 0.7542335\ttotal: 597ms\tremaining: 574ms\n",
            "102:\tlearn: 0.7531490\ttotal: 606ms\tremaining: 571ms\n",
            "103:\tlearn: 0.7520195\ttotal: 611ms\tremaining: 564ms\n",
            "104:\tlearn: 0.7510908\ttotal: 617ms\tremaining: 558ms\n",
            "105:\tlearn: 0.7501603\ttotal: 622ms\tremaining: 552ms\n",
            "106:\tlearn: 0.7494532\ttotal: 628ms\tremaining: 546ms\n",
            "107:\tlearn: 0.7486758\ttotal: 633ms\tremaining: 539ms\n",
            "108:\tlearn: 0.7476648\ttotal: 638ms\tremaining: 533ms\n",
            "109:\tlearn: 0.7470769\ttotal: 644ms\tremaining: 527ms\n",
            "110:\tlearn: 0.7464868\ttotal: 650ms\tremaining: 521ms\n",
            "111:\tlearn: 0.7453120\ttotal: 655ms\tremaining: 515ms\n",
            "112:\tlearn: 0.7441639\ttotal: 661ms\tremaining: 509ms\n",
            "113:\tlearn: 0.7429227\ttotal: 667ms\tremaining: 503ms\n",
            "114:\tlearn: 0.7419978\ttotal: 672ms\tremaining: 497ms\n",
            "115:\tlearn: 0.7408818\ttotal: 677ms\tremaining: 490ms\n",
            "116:\tlearn: 0.7401211\ttotal: 683ms\tremaining: 484ms\n",
            "117:\tlearn: 0.7393226\ttotal: 688ms\tremaining: 478ms\n",
            "118:\tlearn: 0.7388205\ttotal: 693ms\tremaining: 472ms\n",
            "119:\tlearn: 0.7376638\ttotal: 698ms\tremaining: 466ms\n",
            "120:\tlearn: 0.7370805\ttotal: 704ms\tremaining: 459ms\n",
            "121:\tlearn: 0.7360683\ttotal: 709ms\tremaining: 453ms\n",
            "122:\tlearn: 0.7353902\ttotal: 719ms\tremaining: 450ms\n",
            "123:\tlearn: 0.7343958\ttotal: 727ms\tremaining: 446ms\n",
            "124:\tlearn: 0.7336064\ttotal: 733ms\tremaining: 440ms\n",
            "125:\tlearn: 0.7330910\ttotal: 739ms\tremaining: 434ms\n",
            "126:\tlearn: 0.7324241\ttotal: 745ms\tremaining: 428ms\n",
            "127:\tlearn: 0.7319077\ttotal: 750ms\tremaining: 422ms\n",
            "128:\tlearn: 0.7311720\ttotal: 755ms\tremaining: 416ms\n",
            "129:\tlearn: 0.7301530\ttotal: 760ms\tremaining: 409ms\n",
            "130:\tlearn: 0.7295353\ttotal: 766ms\tremaining: 403ms\n",
            "131:\tlearn: 0.7288526\ttotal: 771ms\tremaining: 397ms\n",
            "132:\tlearn: 0.7277845\ttotal: 777ms\tremaining: 391ms\n",
            "133:\tlearn: 0.7264840\ttotal: 782ms\tremaining: 385ms\n",
            "134:\tlearn: 0.7259347\ttotal: 788ms\tremaining: 379ms\n",
            "135:\tlearn: 0.7249312\ttotal: 798ms\tremaining: 376ms\n",
            "136:\tlearn: 0.7243785\ttotal: 804ms\tremaining: 370ms\n",
            "137:\tlearn: 0.7232087\ttotal: 810ms\tremaining: 364ms\n",
            "138:\tlearn: 0.7221093\ttotal: 815ms\tremaining: 358ms\n",
            "139:\tlearn: 0.7210475\ttotal: 820ms\tremaining: 352ms\n",
            "140:\tlearn: 0.7206052\ttotal: 826ms\tremaining: 346ms\n",
            "141:\tlearn: 0.7198340\ttotal: 831ms\tremaining: 339ms\n",
            "142:\tlearn: 0.7187958\ttotal: 838ms\tremaining: 334ms\n",
            "143:\tlearn: 0.7178256\ttotal: 843ms\tremaining: 328ms\n",
            "144:\tlearn: 0.7170162\ttotal: 848ms\tremaining: 322ms\n",
            "145:\tlearn: 0.7162021\ttotal: 854ms\tremaining: 316ms\n",
            "146:\tlearn: 0.7156428\ttotal: 859ms\tremaining: 310ms\n",
            "147:\tlearn: 0.7149171\ttotal: 864ms\tremaining: 303ms\n",
            "148:\tlearn: 0.7139214\ttotal: 869ms\tremaining: 297ms\n",
            "149:\tlearn: 0.7132401\ttotal: 874ms\tremaining: 291ms\n",
            "150:\tlearn: 0.7123110\ttotal: 883ms\tremaining: 286ms\n",
            "151:\tlearn: 0.7115653\ttotal: 888ms\tremaining: 280ms\n",
            "152:\tlearn: 0.7105320\ttotal: 893ms\tremaining: 274ms\n",
            "153:\tlearn: 0.7095035\ttotal: 900ms\tremaining: 269ms\n",
            "154:\tlearn: 0.7086650\ttotal: 905ms\tremaining: 263ms\n",
            "155:\tlearn: 0.7078822\ttotal: 917ms\tremaining: 259ms\n",
            "156:\tlearn: 0.7073080\ttotal: 929ms\tremaining: 254ms\n",
            "157:\tlearn: 0.7067819\ttotal: 934ms\tremaining: 248ms\n",
            "158:\tlearn: 0.7058850\ttotal: 940ms\tremaining: 242ms\n",
            "159:\tlearn: 0.7054531\ttotal: 945ms\tremaining: 236ms\n",
            "160:\tlearn: 0.7047075\ttotal: 951ms\tremaining: 230ms\n",
            "161:\tlearn: 0.7042077\ttotal: 956ms\tremaining: 224ms\n",
            "162:\tlearn: 0.7036594\ttotal: 962ms\tremaining: 218ms\n",
            "163:\tlearn: 0.7027262\ttotal: 967ms\tremaining: 212ms\n",
            "164:\tlearn: 0.7020456\ttotal: 973ms\tremaining: 206ms\n",
            "165:\tlearn: 0.7010663\ttotal: 991ms\tremaining: 203ms\n",
            "166:\tlearn: 0.7003174\ttotal: 1s\tremaining: 198ms\n",
            "167:\tlearn: 0.6994490\ttotal: 1.01s\tremaining: 192ms\n",
            "168:\tlearn: 0.6985187\ttotal: 1.02s\tremaining: 186ms\n",
            "169:\tlearn: 0.6976050\ttotal: 1.02s\tremaining: 180ms\n",
            "170:\tlearn: 0.6968041\ttotal: 1.03s\tremaining: 175ms\n",
            "171:\tlearn: 0.6960154\ttotal: 1.04s\tremaining: 169ms\n",
            "172:\tlearn: 0.6955074\ttotal: 1.04s\tremaining: 163ms\n",
            "173:\tlearn: 0.6947213\ttotal: 1.05s\tremaining: 157ms\n",
            "174:\tlearn: 0.6942280\ttotal: 1.05s\tremaining: 151ms\n",
            "175:\tlearn: 0.6935088\ttotal: 1.06s\tremaining: 144ms\n",
            "176:\tlearn: 0.6923915\ttotal: 1.06s\tremaining: 138ms\n",
            "177:\tlearn: 0.6914852\ttotal: 1.07s\tremaining: 132ms\n",
            "178:\tlearn: 0.6907947\ttotal: 1.08s\tremaining: 126ms\n",
            "179:\tlearn: 0.6903658\ttotal: 1.08s\tremaining: 120ms\n",
            "180:\tlearn: 0.6893893\ttotal: 1.09s\tremaining: 114ms\n",
            "181:\tlearn: 0.6883212\ttotal: 1.09s\tremaining: 108ms\n",
            "182:\tlearn: 0.6873783\ttotal: 1.1s\tremaining: 103ms\n",
            "183:\tlearn: 0.6867435\ttotal: 1.13s\tremaining: 98ms\n",
            "184:\tlearn: 0.6860899\ttotal: 1.15s\tremaining: 92.8ms\n",
            "185:\tlearn: 0.6851255\ttotal: 1.16s\tremaining: 87.7ms\n",
            "186:\tlearn: 0.6844518\ttotal: 1.18s\tremaining: 82ms\n",
            "187:\tlearn: 0.6839130\ttotal: 1.19s\tremaining: 76ms\n",
            "188:\tlearn: 0.6830811\ttotal: 1.21s\tremaining: 70.4ms\n",
            "189:\tlearn: 0.6819222\ttotal: 1.23s\tremaining: 64.7ms\n",
            "190:\tlearn: 0.6813020\ttotal: 1.25s\tremaining: 59ms\n",
            "191:\tlearn: 0.6803624\ttotal: 1.27s\tremaining: 53.1ms\n",
            "192:\tlearn: 0.6799372\ttotal: 1.29s\tremaining: 46.7ms\n",
            "193:\tlearn: 0.6792772\ttotal: 1.3s\tremaining: 40.2ms\n",
            "194:\tlearn: 0.6785834\ttotal: 1.31s\tremaining: 33.7ms\n",
            "195:\tlearn: 0.6776924\ttotal: 1.33s\tremaining: 27.1ms\n",
            "196:\tlearn: 0.6770463\ttotal: 1.34s\tremaining: 20.5ms\n",
            "197:\tlearn: 0.6766275\ttotal: 1.36s\tremaining: 13.7ms\n",
            "198:\tlearn: 0.6757725\ttotal: 1.37s\tremaining: 6.88ms\n",
            "199:\tlearn: 0.6751355\ttotal: 1.38s\tremaining: 0us\n"
          ]
        },
        {
          "output_type": "execute_result",
          "data": {
            "text/plain": [
              "<catboost.core.CatBoostClassifier at 0x7b9511f32d10>"
            ]
          },
          "metadata": {},
          "execution_count": 244
        }
      ]
    },
    {
      "cell_type": "code",
      "source": [
        "y_pred = cb.predict(X_test)"
      ],
      "metadata": {
        "id": "QeUINz9wTfcL"
      },
      "execution_count": null,
      "outputs": []
    },
    {
      "cell_type": "code",
      "source": [
        "print(classification_report(y_test,y_pred))"
      ],
      "metadata": {
        "colab": {
          "base_uri": "https://localhost:8080/"
        },
        "id": "7T7UDxM0UVlV",
        "outputId": "c66a2fcc-5874-405d-8e15-3d2932460563"
      },
      "execution_count": null,
      "outputs": [
        {
          "output_type": "stream",
          "name": "stdout",
          "text": [
            "              precision    recall  f1-score   support\n",
            "\n",
            "           0       0.56      0.67      0.61      2195\n",
            "           1       0.52      0.47      0.49      1934\n",
            "           2       0.52      0.12      0.20       371\n",
            "\n",
            "    accuracy                           0.54      4500\n",
            "   macro avg       0.53      0.42      0.43      4500\n",
            "weighted avg       0.54      0.54      0.53      4500\n",
            "\n"
          ]
        }
      ]
    },
    {
      "cell_type": "markdown",
      "source": [
        "# Performing catboost without preprocessing"
      ],
      "metadata": {
        "id": "q08zCnDIXGhF"
      }
    },
    {
      "cell_type": "code",
      "source": [
        "df.columns"
      ],
      "metadata": {
        "colab": {
          "base_uri": "https://localhost:8080/"
        },
        "id": "TDnzo0m6UbBn",
        "outputId": "b4e751b7-33e7-48fb-966f-455b7aa952e0"
      },
      "execution_count": null,
      "outputs": [
        {
          "output_type": "execute_result",
          "data": {
            "text/plain": [
              "Index(['satisfaction_level', 'last_evaluation', 'number_project',\n",
              "       'average_montly_hours', 'time_spend_company', 'Work_accident', 'left',\n",
              "       'promotion_last_5years', 'Department', 'salary'],\n",
              "      dtype='object')"
            ]
          },
          "metadata": {},
          "execution_count": 247
        }
      ]
    },
    {
      "cell_type": "code",
      "source": [
        "df['salary'].head()"
      ],
      "metadata": {
        "colab": {
          "base_uri": "https://localhost:8080/"
        },
        "id": "ZOTUXKsNUxLm",
        "outputId": "eb823e6b-8957-4a8e-d503-27245f36883d"
      },
      "execution_count": null,
      "outputs": [
        {
          "output_type": "execute_result",
          "data": {
            "text/plain": [
              "0    0\n",
              "1    1\n",
              "2    1\n",
              "3    0\n",
              "4    0\n",
              "Name: salary, dtype: int64"
            ]
          },
          "metadata": {},
          "execution_count": 248
        }
      ]
    },
    {
      "cell_type": "code",
      "source": [
        "X1 = df.drop('salary',axis=1)\n",
        "Y1 = df['salary']"
      ],
      "metadata": {
        "id": "waW9nROmU0v4"
      },
      "execution_count": null,
      "outputs": []
    },
    {
      "cell_type": "code",
      "source": [
        "X1.shape,Y1.shape"
      ],
      "metadata": {
        "colab": {
          "base_uri": "https://localhost:8080/"
        },
        "id": "ScjuIPK2VOfj",
        "outputId": "76878e86-4b90-434b-aa2b-dc7e5419a083"
      },
      "execution_count": null,
      "outputs": [
        {
          "output_type": "execute_result",
          "data": {
            "text/plain": [
              "((14999, 9), (14999,))"
            ]
          },
          "metadata": {},
          "execution_count": 250
        }
      ]
    },
    {
      "cell_type": "code",
      "source": [
        "X1_train,X1_test,y1_train,y1_test = train_test_split(X1,Y1,test_size=0.3,random_state=34,stratify=Y1)"
      ],
      "metadata": {
        "id": "9RmbWbylVWiq"
      },
      "execution_count": null,
      "outputs": []
    },
    {
      "cell_type": "code",
      "source": [
        "X1_train.shape,X1_test.shape,y1_train.shape,y1_test.shape"
      ],
      "metadata": {
        "colab": {
          "base_uri": "https://localhost:8080/"
        },
        "id": "L-GMe0QJVjt5",
        "outputId": "c2f7570f-daa8-435e-9259-ddf276a40735"
      },
      "execution_count": null,
      "outputs": [
        {
          "output_type": "execute_result",
          "data": {
            "text/plain": [
              "((10499, 9), (4500, 9), (10499,), (4500,))"
            ]
          },
          "metadata": {},
          "execution_count": 252
        }
      ]
    },
    {
      "cell_type": "code",
      "source": [
        "cbc_raw = CatBoostClassifier(iterations=200,random_seed = 34,cat_features=['Department'])"
      ],
      "metadata": {
        "id": "JQontep-Vp8w"
      },
      "execution_count": null,
      "outputs": []
    },
    {
      "cell_type": "code",
      "source": [
        "cbc_raw.fit(X1_train,y1_train)"
      ],
      "metadata": {
        "colab": {
          "base_uri": "https://localhost:8080/"
        },
        "id": "gvDrXe2NVz_K",
        "outputId": "a405809e-01a9-49cb-ba88-383f7dacacaf"
      },
      "execution_count": null,
      "outputs": [
        {
          "output_type": "stream",
          "name": "stdout",
          "text": [
            "Learning rate set to 0.347561\n",
            "0:\tlearn: 1.0041301\ttotal: 34.3ms\tremaining: 6.83s\n",
            "1:\tlearn: 0.9532949\ttotal: 64.2ms\tremaining: 6.35s\n",
            "2:\tlearn: 0.9247607\ttotal: 90.1ms\tremaining: 5.92s\n",
            "3:\tlearn: 0.9074776\ttotal: 103ms\tremaining: 5.05s\n",
            "4:\tlearn: 0.9000673\ttotal: 109ms\tremaining: 4.26s\n",
            "5:\tlearn: 0.8910541\ttotal: 123ms\tremaining: 3.97s\n",
            "6:\tlearn: 0.8862566\ttotal: 144ms\tremaining: 3.97s\n",
            "7:\tlearn: 0.8827210\ttotal: 159ms\tremaining: 3.82s\n",
            "8:\tlearn: 0.8811974\ttotal: 172ms\tremaining: 3.66s\n",
            "9:\tlearn: 0.8795398\ttotal: 187ms\tremaining: 3.56s\n",
            "10:\tlearn: 0.8778436\ttotal: 207ms\tremaining: 3.55s\n",
            "11:\tlearn: 0.8762815\ttotal: 221ms\tremaining: 3.46s\n",
            "12:\tlearn: 0.8742436\ttotal: 235ms\tremaining: 3.39s\n",
            "13:\tlearn: 0.8726757\ttotal: 253ms\tremaining: 3.37s\n",
            "14:\tlearn: 0.8702712\ttotal: 285ms\tremaining: 3.51s\n",
            "15:\tlearn: 0.8702184\ttotal: 292ms\tremaining: 3.36s\n",
            "16:\tlearn: 0.8686634\ttotal: 308ms\tremaining: 3.31s\n",
            "17:\tlearn: 0.8675304\ttotal: 323ms\tremaining: 3.26s\n",
            "18:\tlearn: 0.8667250\ttotal: 337ms\tremaining: 3.21s\n",
            "19:\tlearn: 0.8640300\ttotal: 357ms\tremaining: 3.22s\n",
            "20:\tlearn: 0.8634309\ttotal: 373ms\tremaining: 3.17s\n",
            "21:\tlearn: 0.8631670\ttotal: 385ms\tremaining: 3.12s\n",
            "22:\tlearn: 0.8609928\ttotal: 404ms\tremaining: 3.1s\n",
            "23:\tlearn: 0.8600910\ttotal: 420ms\tremaining: 3.08s\n",
            "24:\tlearn: 0.8582651\ttotal: 435ms\tremaining: 3.05s\n",
            "25:\tlearn: 0.8575656\ttotal: 449ms\tremaining: 3s\n",
            "26:\tlearn: 0.8559148\ttotal: 477ms\tremaining: 3.05s\n",
            "27:\tlearn: 0.8546778\ttotal: 496ms\tremaining: 3.05s\n",
            "28:\tlearn: 0.8535694\ttotal: 510ms\tremaining: 3.01s\n",
            "29:\tlearn: 0.8519807\ttotal: 525ms\tremaining: 2.98s\n",
            "30:\tlearn: 0.8500392\ttotal: 541ms\tremaining: 2.95s\n",
            "31:\tlearn: 0.8484692\ttotal: 559ms\tremaining: 2.93s\n",
            "32:\tlearn: 0.8462541\ttotal: 575ms\tremaining: 2.91s\n",
            "33:\tlearn: 0.8452551\ttotal: 589ms\tremaining: 2.88s\n",
            "34:\tlearn: 0.8443555\ttotal: 605ms\tremaining: 2.85s\n",
            "35:\tlearn: 0.8437322\ttotal: 623ms\tremaining: 2.84s\n",
            "36:\tlearn: 0.8425486\ttotal: 639ms\tremaining: 2.81s\n",
            "37:\tlearn: 0.8417351\ttotal: 655ms\tremaining: 2.79s\n",
            "38:\tlearn: 0.8396689\ttotal: 672ms\tremaining: 2.77s\n",
            "39:\tlearn: 0.8386848\ttotal: 688ms\tremaining: 2.75s\n",
            "40:\tlearn: 0.8377189\ttotal: 705ms\tremaining: 2.73s\n",
            "41:\tlearn: 0.8356063\ttotal: 722ms\tremaining: 2.72s\n",
            "42:\tlearn: 0.8347364\ttotal: 738ms\tremaining: 2.69s\n",
            "43:\tlearn: 0.8328844\ttotal: 757ms\tremaining: 2.68s\n",
            "44:\tlearn: 0.8317454\ttotal: 773ms\tremaining: 2.66s\n",
            "45:\tlearn: 0.8313179\ttotal: 789ms\tremaining: 2.64s\n",
            "46:\tlearn: 0.8294360\ttotal: 816ms\tremaining: 2.65s\n",
            "47:\tlearn: 0.8276888\ttotal: 832ms\tremaining: 2.64s\n",
            "48:\tlearn: 0.8263306\ttotal: 848ms\tremaining: 2.61s\n",
            "49:\tlearn: 0.8247374\ttotal: 864ms\tremaining: 2.59s\n",
            "50:\tlearn: 0.8226608\ttotal: 881ms\tremaining: 2.58s\n",
            "51:\tlearn: 0.8217859\ttotal: 899ms\tremaining: 2.56s\n",
            "52:\tlearn: 0.8201042\ttotal: 920ms\tremaining: 2.55s\n",
            "53:\tlearn: 0.8181739\ttotal: 937ms\tremaining: 2.53s\n",
            "54:\tlearn: 0.8166559\ttotal: 954ms\tremaining: 2.51s\n",
            "55:\tlearn: 0.8161891\ttotal: 969ms\tremaining: 2.49s\n",
            "56:\tlearn: 0.8153877\ttotal: 985ms\tremaining: 2.47s\n",
            "57:\tlearn: 0.8149081\ttotal: 1s\tremaining: 2.45s\n",
            "58:\tlearn: 0.8142693\ttotal: 1.02s\tremaining: 2.44s\n",
            "59:\tlearn: 0.8127809\ttotal: 1.03s\tremaining: 2.42s\n",
            "60:\tlearn: 0.8116929\ttotal: 1.05s\tremaining: 2.39s\n",
            "61:\tlearn: 0.8102615\ttotal: 1.07s\tremaining: 2.38s\n",
            "62:\tlearn: 0.8093483\ttotal: 1.08s\tremaining: 2.35s\n",
            "63:\tlearn: 0.8083802\ttotal: 1.11s\tremaining: 2.36s\n",
            "64:\tlearn: 0.8074081\ttotal: 1.17s\tremaining: 2.43s\n",
            "65:\tlearn: 0.8067690\ttotal: 1.2s\tremaining: 2.43s\n",
            "66:\tlearn: 0.8058433\ttotal: 1.23s\tremaining: 2.45s\n",
            "67:\tlearn: 0.8043895\ttotal: 1.26s\tremaining: 2.44s\n",
            "68:\tlearn: 0.8037189\ttotal: 1.29s\tremaining: 2.44s\n",
            "69:\tlearn: 0.8029970\ttotal: 1.32s\tremaining: 2.46s\n",
            "70:\tlearn: 0.8013707\ttotal: 1.35s\tremaining: 2.45s\n",
            "71:\tlearn: 0.8000863\ttotal: 1.39s\tremaining: 2.47s\n",
            "72:\tlearn: 0.7989673\ttotal: 1.42s\tremaining: 2.47s\n",
            "73:\tlearn: 0.7984259\ttotal: 1.45s\tremaining: 2.46s\n",
            "74:\tlearn: 0.7971583\ttotal: 1.46s\tremaining: 2.44s\n",
            "75:\tlearn: 0.7954479\ttotal: 1.48s\tremaining: 2.42s\n",
            "76:\tlearn: 0.7941533\ttotal: 1.5s\tremaining: 2.4s\n",
            "77:\tlearn: 0.7931076\ttotal: 1.52s\tremaining: 2.38s\n",
            "78:\tlearn: 0.7919323\ttotal: 1.55s\tremaining: 2.38s\n",
            "79:\tlearn: 0.7908581\ttotal: 1.59s\tremaining: 2.39s\n",
            "80:\tlearn: 0.7897538\ttotal: 1.61s\tremaining: 2.37s\n",
            "81:\tlearn: 0.7883900\ttotal: 1.63s\tremaining: 2.35s\n",
            "82:\tlearn: 0.7871817\ttotal: 1.66s\tremaining: 2.34s\n",
            "83:\tlearn: 0.7859226\ttotal: 1.68s\tremaining: 2.31s\n",
            "84:\tlearn: 0.7851404\ttotal: 1.69s\tremaining: 2.29s\n",
            "85:\tlearn: 0.7836693\ttotal: 1.71s\tremaining: 2.26s\n",
            "86:\tlearn: 0.7826610\ttotal: 1.72s\tremaining: 2.24s\n",
            "87:\tlearn: 0.7809929\ttotal: 1.74s\tremaining: 2.21s\n",
            "88:\tlearn: 0.7802162\ttotal: 1.75s\tremaining: 2.19s\n",
            "89:\tlearn: 0.7783620\ttotal: 1.77s\tremaining: 2.17s\n",
            "90:\tlearn: 0.7773893\ttotal: 1.79s\tremaining: 2.14s\n",
            "91:\tlearn: 0.7764196\ttotal: 1.81s\tremaining: 2.12s\n",
            "92:\tlearn: 0.7754886\ttotal: 1.82s\tremaining: 2.1s\n",
            "93:\tlearn: 0.7745445\ttotal: 1.84s\tremaining: 2.08s\n",
            "94:\tlearn: 0.7734162\ttotal: 1.86s\tremaining: 2.06s\n",
            "95:\tlearn: 0.7723053\ttotal: 1.89s\tremaining: 2.04s\n",
            "96:\tlearn: 0.7711729\ttotal: 1.9s\tremaining: 2.02s\n",
            "97:\tlearn: 0.7702140\ttotal: 1.92s\tremaining: 2s\n",
            "98:\tlearn: 0.7687969\ttotal: 1.93s\tremaining: 1.97s\n",
            "99:\tlearn: 0.7682660\ttotal: 1.95s\tremaining: 1.95s\n",
            "100:\tlearn: 0.7676603\ttotal: 1.96s\tremaining: 1.93s\n",
            "101:\tlearn: 0.7671299\ttotal: 1.98s\tremaining: 1.9s\n",
            "102:\tlearn: 0.7662853\ttotal: 1.99s\tremaining: 1.88s\n",
            "103:\tlearn: 0.7654113\ttotal: 2.02s\tremaining: 1.86s\n",
            "104:\tlearn: 0.7645351\ttotal: 2.03s\tremaining: 1.84s\n",
            "105:\tlearn: 0.7636214\ttotal: 2.05s\tremaining: 1.82s\n",
            "106:\tlearn: 0.7629402\ttotal: 2.07s\tremaining: 1.8s\n",
            "107:\tlearn: 0.7620617\ttotal: 2.08s\tremaining: 1.78s\n",
            "108:\tlearn: 0.7610656\ttotal: 2.1s\tremaining: 1.75s\n",
            "109:\tlearn: 0.7598706\ttotal: 2.12s\tremaining: 1.73s\n",
            "110:\tlearn: 0.7587828\ttotal: 2.14s\tremaining: 1.71s\n",
            "111:\tlearn: 0.7572085\ttotal: 2.15s\tremaining: 1.69s\n",
            "112:\tlearn: 0.7562962\ttotal: 2.17s\tremaining: 1.67s\n",
            "113:\tlearn: 0.7555155\ttotal: 2.19s\tremaining: 1.65s\n",
            "114:\tlearn: 0.7547659\ttotal: 2.2s\tremaining: 1.63s\n",
            "115:\tlearn: 0.7540706\ttotal: 2.22s\tremaining: 1.61s\n",
            "116:\tlearn: 0.7528818\ttotal: 2.24s\tremaining: 1.59s\n",
            "117:\tlearn: 0.7521484\ttotal: 2.26s\tremaining: 1.57s\n",
            "118:\tlearn: 0.7513161\ttotal: 2.29s\tremaining: 1.56s\n",
            "119:\tlearn: 0.7501287\ttotal: 2.31s\tremaining: 1.54s\n",
            "120:\tlearn: 0.7492157\ttotal: 2.33s\tremaining: 1.52s\n",
            "121:\tlearn: 0.7478743\ttotal: 2.35s\tremaining: 1.5s\n",
            "122:\tlearn: 0.7463515\ttotal: 2.37s\tremaining: 1.48s\n",
            "123:\tlearn: 0.7455650\ttotal: 2.38s\tremaining: 1.46s\n",
            "124:\tlearn: 0.7451700\ttotal: 2.4s\tremaining: 1.44s\n",
            "125:\tlearn: 0.7446882\ttotal: 2.41s\tremaining: 1.42s\n",
            "126:\tlearn: 0.7439844\ttotal: 2.43s\tremaining: 1.4s\n",
            "127:\tlearn: 0.7434577\ttotal: 2.45s\tremaining: 1.38s\n",
            "128:\tlearn: 0.7426379\ttotal: 2.46s\tremaining: 1.36s\n",
            "129:\tlearn: 0.7422215\ttotal: 2.48s\tremaining: 1.33s\n",
            "130:\tlearn: 0.7416736\ttotal: 2.5s\tremaining: 1.31s\n",
            "131:\tlearn: 0.7410498\ttotal: 2.51s\tremaining: 1.29s\n",
            "132:\tlearn: 0.7403874\ttotal: 2.53s\tremaining: 1.27s\n",
            "133:\tlearn: 0.7398955\ttotal: 2.54s\tremaining: 1.25s\n",
            "134:\tlearn: 0.7389726\ttotal: 2.57s\tremaining: 1.24s\n",
            "135:\tlearn: 0.7376117\ttotal: 2.59s\tremaining: 1.22s\n",
            "136:\tlearn: 0.7370010\ttotal: 2.6s\tremaining: 1.2s\n",
            "137:\tlearn: 0.7362554\ttotal: 2.62s\tremaining: 1.18s\n",
            "138:\tlearn: 0.7353054\ttotal: 2.63s\tremaining: 1.15s\n",
            "139:\tlearn: 0.7343583\ttotal: 2.65s\tremaining: 1.14s\n",
            "140:\tlearn: 0.7330664\ttotal: 2.68s\tremaining: 1.12s\n",
            "141:\tlearn: 0.7319724\ttotal: 2.7s\tremaining: 1.1s\n",
            "142:\tlearn: 0.7309554\ttotal: 2.72s\tremaining: 1.08s\n",
            "143:\tlearn: 0.7304291\ttotal: 2.73s\tremaining: 1.06s\n",
            "144:\tlearn: 0.7296998\ttotal: 2.75s\tremaining: 1.04s\n",
            "145:\tlearn: 0.7287344\ttotal: 2.77s\tremaining: 1.02s\n",
            "146:\tlearn: 0.7274926\ttotal: 2.78s\tremaining: 1s\n",
            "147:\tlearn: 0.7267174\ttotal: 2.8s\tremaining: 983ms\n",
            "148:\tlearn: 0.7264330\ttotal: 2.81s\tremaining: 963ms\n",
            "149:\tlearn: 0.7256678\ttotal: 2.83s\tremaining: 943ms\n",
            "150:\tlearn: 0.7250861\ttotal: 2.85s\tremaining: 924ms\n",
            "151:\tlearn: 0.7239404\ttotal: 2.86s\tremaining: 904ms\n",
            "152:\tlearn: 0.7231895\ttotal: 2.88s\tremaining: 884ms\n",
            "153:\tlearn: 0.7223155\ttotal: 2.89s\tremaining: 864ms\n",
            "154:\tlearn: 0.7213620\ttotal: 2.91s\tremaining: 846ms\n",
            "155:\tlearn: 0.7205436\ttotal: 2.93s\tremaining: 826ms\n",
            "156:\tlearn: 0.7197444\ttotal: 2.94s\tremaining: 806ms\n",
            "157:\tlearn: 0.7188994\ttotal: 2.97s\tremaining: 790ms\n",
            "158:\tlearn: 0.7177985\ttotal: 3s\tremaining: 775ms\n",
            "159:\tlearn: 0.7171624\ttotal: 3.04s\tremaining: 760ms\n",
            "160:\tlearn: 0.7161126\ttotal: 3.08s\tremaining: 745ms\n",
            "161:\tlearn: 0.7147041\ttotal: 3.1s\tremaining: 727ms\n",
            "162:\tlearn: 0.7135214\ttotal: 3.13s\tremaining: 709ms\n",
            "163:\tlearn: 0.7124258\ttotal: 3.15s\tremaining: 691ms\n",
            "164:\tlearn: 0.7116510\ttotal: 3.17s\tremaining: 672ms\n",
            "165:\tlearn: 0.7107885\ttotal: 3.19s\tremaining: 654ms\n",
            "166:\tlearn: 0.7099464\ttotal: 3.22s\tremaining: 636ms\n",
            "167:\tlearn: 0.7090808\ttotal: 3.24s\tremaining: 616ms\n",
            "168:\tlearn: 0.7086304\ttotal: 3.25s\tremaining: 597ms\n",
            "169:\tlearn: 0.7082974\ttotal: 3.28s\tremaining: 579ms\n",
            "170:\tlearn: 0.7073259\ttotal: 3.3s\tremaining: 560ms\n",
            "171:\tlearn: 0.7065313\ttotal: 3.34s\tremaining: 544ms\n",
            "172:\tlearn: 0.7059858\ttotal: 3.38s\tremaining: 527ms\n",
            "173:\tlearn: 0.7052565\ttotal: 3.41s\tremaining: 509ms\n",
            "174:\tlearn: 0.7044633\ttotal: 3.43s\tremaining: 490ms\n",
            "175:\tlearn: 0.7037567\ttotal: 3.44s\tremaining: 470ms\n",
            "176:\tlearn: 0.7030607\ttotal: 3.46s\tremaining: 450ms\n",
            "177:\tlearn: 0.7025519\ttotal: 3.48s\tremaining: 430ms\n",
            "178:\tlearn: 0.7008252\ttotal: 3.5s\tremaining: 410ms\n",
            "179:\tlearn: 0.7002186\ttotal: 3.51s\tremaining: 390ms\n",
            "180:\tlearn: 0.6991566\ttotal: 3.53s\tremaining: 370ms\n",
            "181:\tlearn: 0.6983381\ttotal: 3.55s\tremaining: 351ms\n",
            "182:\tlearn: 0.6973477\ttotal: 3.56s\tremaining: 331ms\n",
            "183:\tlearn: 0.6967300\ttotal: 3.58s\tremaining: 311ms\n",
            "184:\tlearn: 0.6957639\ttotal: 3.6s\tremaining: 292ms\n",
            "185:\tlearn: 0.6950028\ttotal: 3.61s\tremaining: 272ms\n",
            "186:\tlearn: 0.6941912\ttotal: 3.63s\tremaining: 253ms\n",
            "187:\tlearn: 0.6934981\ttotal: 3.65s\tremaining: 233ms\n",
            "188:\tlearn: 0.6926685\ttotal: 3.67s\tremaining: 213ms\n",
            "189:\tlearn: 0.6918630\ttotal: 3.69s\tremaining: 194ms\n",
            "190:\tlearn: 0.6913755\ttotal: 3.7s\tremaining: 175ms\n",
            "191:\tlearn: 0.6906606\ttotal: 3.72s\tremaining: 155ms\n",
            "192:\tlearn: 0.6899516\ttotal: 3.74s\tremaining: 136ms\n",
            "193:\tlearn: 0.6891216\ttotal: 3.76s\tremaining: 116ms\n",
            "194:\tlearn: 0.6881549\ttotal: 3.77s\tremaining: 96.7ms\n",
            "195:\tlearn: 0.6875068\ttotal: 3.79s\tremaining: 77.3ms\n",
            "196:\tlearn: 0.6868251\ttotal: 3.8s\tremaining: 57.9ms\n",
            "197:\tlearn: 0.6859316\ttotal: 3.82s\tremaining: 38.6ms\n",
            "198:\tlearn: 0.6854011\ttotal: 3.83s\tremaining: 19.3ms\n",
            "199:\tlearn: 0.6844937\ttotal: 3.85s\tremaining: 0us\n"
          ]
        },
        {
          "output_type": "execute_result",
          "data": {
            "text/plain": [
              "<catboost.core.CatBoostClassifier at 0x7b9511f74ee0>"
            ]
          },
          "metadata": {},
          "execution_count": 254
        }
      ]
    },
    {
      "cell_type": "code",
      "source": [
        "y1_pred = cbc_raw.predict(X1_test)"
      ],
      "metadata": {
        "id": "N0icYCGcWAOp"
      },
      "execution_count": null,
      "outputs": []
    },
    {
      "cell_type": "code",
      "source": [
        "print(classification_report(y1_test,y1_pred))"
      ],
      "metadata": {
        "colab": {
          "base_uri": "https://localhost:8080/"
        },
        "id": "WrokDvxBWQYR",
        "outputId": "0d760308-1c25-4ded-ab8e-90e7da39e385"
      },
      "execution_count": null,
      "outputs": [
        {
          "output_type": "stream",
          "name": "stdout",
          "text": [
            "              precision    recall  f1-score   support\n",
            "\n",
            "           0       0.56      0.66      0.60      2195\n",
            "           1       0.52      0.49      0.50      1934\n",
            "           2       0.56      0.12      0.20       371\n",
            "\n",
            "    accuracy                           0.54      4500\n",
            "   macro avg       0.55      0.42      0.43      4500\n",
            "weighted avg       0.54      0.54      0.53      4500\n",
            "\n"
          ]
        }
      ]
    },
    {
      "cell_type": "code",
      "source": [
        "# On Random forest,\n",
        "# create at least 3 models with different n_estimators , max_samples, max_features, max_depth"
      ],
      "metadata": {
        "id": "tQSOa1ajZmUs"
      },
      "execution_count": null,
      "outputs": []
    },
    {
      "cell_type": "code",
      "source": [
        "rf1 = RandomForestClassifier(n_estimators=300,max_samples=0.4,max_features=6,max_depth=8)"
      ],
      "metadata": {
        "id": "g_AaG_MOZ2l4"
      },
      "execution_count": null,
      "outputs": []
    },
    {
      "cell_type": "code",
      "source": [
        "rf1.fit(X_train,y_train)"
      ],
      "metadata": {
        "colab": {
          "base_uri": "https://localhost:8080/",
          "height": 92
        },
        "id": "z2_IDLeBa8y6",
        "outputId": "ece6fa3c-b4fb-4385-c390-d7fd75fd381f"
      },
      "execution_count": null,
      "outputs": [
        {
          "output_type": "execute_result",
          "data": {
            "text/plain": [
              "RandomForestClassifier(max_depth=8, max_features=6, max_samples=0.4,\n",
              "                       n_estimators=300)"
            ],
            "text/html": [
              "<style>#sk-container-id-8 {color: black;background-color: white;}#sk-container-id-8 pre{padding: 0;}#sk-container-id-8 div.sk-toggleable {background-color: white;}#sk-container-id-8 label.sk-toggleable__label {cursor: pointer;display: block;width: 100%;margin-bottom: 0;padding: 0.3em;box-sizing: border-box;text-align: center;}#sk-container-id-8 label.sk-toggleable__label-arrow:before {content: \"▸\";float: left;margin-right: 0.25em;color: #696969;}#sk-container-id-8 label.sk-toggleable__label-arrow:hover:before {color: black;}#sk-container-id-8 div.sk-estimator:hover label.sk-toggleable__label-arrow:before {color: black;}#sk-container-id-8 div.sk-toggleable__content {max-height: 0;max-width: 0;overflow: hidden;text-align: left;background-color: #f0f8ff;}#sk-container-id-8 div.sk-toggleable__content pre {margin: 0.2em;color: black;border-radius: 0.25em;background-color: #f0f8ff;}#sk-container-id-8 input.sk-toggleable__control:checked~div.sk-toggleable__content {max-height: 200px;max-width: 100%;overflow: auto;}#sk-container-id-8 input.sk-toggleable__control:checked~label.sk-toggleable__label-arrow:before {content: \"▾\";}#sk-container-id-8 div.sk-estimator input.sk-toggleable__control:checked~label.sk-toggleable__label {background-color: #d4ebff;}#sk-container-id-8 div.sk-label input.sk-toggleable__control:checked~label.sk-toggleable__label {background-color: #d4ebff;}#sk-container-id-8 input.sk-hidden--visually {border: 0;clip: rect(1px 1px 1px 1px);clip: rect(1px, 1px, 1px, 1px);height: 1px;margin: -1px;overflow: hidden;padding: 0;position: absolute;width: 1px;}#sk-container-id-8 div.sk-estimator {font-family: monospace;background-color: #f0f8ff;border: 1px dotted black;border-radius: 0.25em;box-sizing: border-box;margin-bottom: 0.5em;}#sk-container-id-8 div.sk-estimator:hover {background-color: #d4ebff;}#sk-container-id-8 div.sk-parallel-item::after {content: \"\";width: 100%;border-bottom: 1px solid gray;flex-grow: 1;}#sk-container-id-8 div.sk-label:hover label.sk-toggleable__label {background-color: #d4ebff;}#sk-container-id-8 div.sk-serial::before {content: \"\";position: absolute;border-left: 1px solid gray;box-sizing: border-box;top: 0;bottom: 0;left: 50%;z-index: 0;}#sk-container-id-8 div.sk-serial {display: flex;flex-direction: column;align-items: center;background-color: white;padding-right: 0.2em;padding-left: 0.2em;position: relative;}#sk-container-id-8 div.sk-item {position: relative;z-index: 1;}#sk-container-id-8 div.sk-parallel {display: flex;align-items: stretch;justify-content: center;background-color: white;position: relative;}#sk-container-id-8 div.sk-item::before, #sk-container-id-8 div.sk-parallel-item::before {content: \"\";position: absolute;border-left: 1px solid gray;box-sizing: border-box;top: 0;bottom: 0;left: 50%;z-index: -1;}#sk-container-id-8 div.sk-parallel-item {display: flex;flex-direction: column;z-index: 1;position: relative;background-color: white;}#sk-container-id-8 div.sk-parallel-item:first-child::after {align-self: flex-end;width: 50%;}#sk-container-id-8 div.sk-parallel-item:last-child::after {align-self: flex-start;width: 50%;}#sk-container-id-8 div.sk-parallel-item:only-child::after {width: 0;}#sk-container-id-8 div.sk-dashed-wrapped {border: 1px dashed gray;margin: 0 0.4em 0.5em 0.4em;box-sizing: border-box;padding-bottom: 0.4em;background-color: white;}#sk-container-id-8 div.sk-label label {font-family: monospace;font-weight: bold;display: inline-block;line-height: 1.2em;}#sk-container-id-8 div.sk-label-container {text-align: center;}#sk-container-id-8 div.sk-container {/* jupyter's `normalize.less` sets `[hidden] { display: none; }` but bootstrap.min.css set `[hidden] { display: none !important; }` so we also need the `!important` here to be able to override the default hidden behavior on the sphinx rendered scikit-learn.org. See: https://github.com/scikit-learn/scikit-learn/issues/21755 */display: inline-block !important;position: relative;}#sk-container-id-8 div.sk-text-repr-fallback {display: none;}</style><div id=\"sk-container-id-8\" class=\"sk-top-container\"><div class=\"sk-text-repr-fallback\"><pre>RandomForestClassifier(max_depth=8, max_features=6, max_samples=0.4,\n",
              "                       n_estimators=300)</pre><b>In a Jupyter environment, please rerun this cell to show the HTML representation or trust the notebook. <br />On GitHub, the HTML representation is unable to render, please try loading this page with nbviewer.org.</b></div><div class=\"sk-container\" hidden><div class=\"sk-item\"><div class=\"sk-estimator sk-toggleable\"><input class=\"sk-toggleable__control sk-hidden--visually\" id=\"sk-estimator-id-8\" type=\"checkbox\" checked><label for=\"sk-estimator-id-8\" class=\"sk-toggleable__label sk-toggleable__label-arrow\">RandomForestClassifier</label><div class=\"sk-toggleable__content\"><pre>RandomForestClassifier(max_depth=8, max_features=6, max_samples=0.4,\n",
              "                       n_estimators=300)</pre></div></div></div></div></div>"
            ]
          },
          "metadata": {},
          "execution_count": 262
        }
      ]
    },
    {
      "cell_type": "code",
      "source": [
        "y_pred = rf1.predict(X_test)"
      ],
      "metadata": {
        "id": "k12z-XQIbAan"
      },
      "execution_count": null,
      "outputs": []
    },
    {
      "cell_type": "code",
      "source": [
        "print(classification_report(y_test,y_pred))"
      ],
      "metadata": {
        "colab": {
          "base_uri": "https://localhost:8080/"
        },
        "id": "WpuEwVYMbLtI",
        "outputId": "52f168b8-618c-4928-c02e-851e87b84421"
      },
      "execution_count": null,
      "outputs": [
        {
          "output_type": "stream",
          "name": "stdout",
          "text": [
            "              precision    recall  f1-score   support\n",
            "\n",
            "           0       0.52      0.86      0.64      2195\n",
            "           1       0.53      0.22      0.31      1934\n",
            "           2       0.62      0.09      0.16       371\n",
            "\n",
            "    accuracy                           0.52      4500\n",
            "   macro avg       0.55      0.39      0.37      4500\n",
            "weighted avg       0.53      0.52      0.46      4500\n",
            "\n"
          ]
        }
      ]
    },
    {
      "cell_type": "code",
      "source": [
        "rf2 = RandomForestClassifier(n_estimators=500,max_samples=0.6,max_features=8,max_depth=12)"
      ],
      "metadata": {
        "id": "5oiwEdsMbQF6"
      },
      "execution_count": null,
      "outputs": []
    },
    {
      "cell_type": "code",
      "source": [
        "rf2.fit(X_train,y_train)"
      ],
      "metadata": {
        "colab": {
          "base_uri": "https://localhost:8080/",
          "height": 92
        },
        "id": "NDTp1QpBbomR",
        "outputId": "7bcc2d8e-6f8a-4ea7-bb54-d0bb2f7abf9d"
      },
      "execution_count": null,
      "outputs": [
        {
          "output_type": "execute_result",
          "data": {
            "text/plain": [
              "RandomForestClassifier(max_depth=12, max_features=8, max_samples=0.6,\n",
              "                       n_estimators=500)"
            ],
            "text/html": [
              "<style>#sk-container-id-9 {color: black;background-color: white;}#sk-container-id-9 pre{padding: 0;}#sk-container-id-9 div.sk-toggleable {background-color: white;}#sk-container-id-9 label.sk-toggleable__label {cursor: pointer;display: block;width: 100%;margin-bottom: 0;padding: 0.3em;box-sizing: border-box;text-align: center;}#sk-container-id-9 label.sk-toggleable__label-arrow:before {content: \"▸\";float: left;margin-right: 0.25em;color: #696969;}#sk-container-id-9 label.sk-toggleable__label-arrow:hover:before {color: black;}#sk-container-id-9 div.sk-estimator:hover label.sk-toggleable__label-arrow:before {color: black;}#sk-container-id-9 div.sk-toggleable__content {max-height: 0;max-width: 0;overflow: hidden;text-align: left;background-color: #f0f8ff;}#sk-container-id-9 div.sk-toggleable__content pre {margin: 0.2em;color: black;border-radius: 0.25em;background-color: #f0f8ff;}#sk-container-id-9 input.sk-toggleable__control:checked~div.sk-toggleable__content {max-height: 200px;max-width: 100%;overflow: auto;}#sk-container-id-9 input.sk-toggleable__control:checked~label.sk-toggleable__label-arrow:before {content: \"▾\";}#sk-container-id-9 div.sk-estimator input.sk-toggleable__control:checked~label.sk-toggleable__label {background-color: #d4ebff;}#sk-container-id-9 div.sk-label input.sk-toggleable__control:checked~label.sk-toggleable__label {background-color: #d4ebff;}#sk-container-id-9 input.sk-hidden--visually {border: 0;clip: rect(1px 1px 1px 1px);clip: rect(1px, 1px, 1px, 1px);height: 1px;margin: -1px;overflow: hidden;padding: 0;position: absolute;width: 1px;}#sk-container-id-9 div.sk-estimator {font-family: monospace;background-color: #f0f8ff;border: 1px dotted black;border-radius: 0.25em;box-sizing: border-box;margin-bottom: 0.5em;}#sk-container-id-9 div.sk-estimator:hover {background-color: #d4ebff;}#sk-container-id-9 div.sk-parallel-item::after {content: \"\";width: 100%;border-bottom: 1px solid gray;flex-grow: 1;}#sk-container-id-9 div.sk-label:hover label.sk-toggleable__label {background-color: #d4ebff;}#sk-container-id-9 div.sk-serial::before {content: \"\";position: absolute;border-left: 1px solid gray;box-sizing: border-box;top: 0;bottom: 0;left: 50%;z-index: 0;}#sk-container-id-9 div.sk-serial {display: flex;flex-direction: column;align-items: center;background-color: white;padding-right: 0.2em;padding-left: 0.2em;position: relative;}#sk-container-id-9 div.sk-item {position: relative;z-index: 1;}#sk-container-id-9 div.sk-parallel {display: flex;align-items: stretch;justify-content: center;background-color: white;position: relative;}#sk-container-id-9 div.sk-item::before, #sk-container-id-9 div.sk-parallel-item::before {content: \"\";position: absolute;border-left: 1px solid gray;box-sizing: border-box;top: 0;bottom: 0;left: 50%;z-index: -1;}#sk-container-id-9 div.sk-parallel-item {display: flex;flex-direction: column;z-index: 1;position: relative;background-color: white;}#sk-container-id-9 div.sk-parallel-item:first-child::after {align-self: flex-end;width: 50%;}#sk-container-id-9 div.sk-parallel-item:last-child::after {align-self: flex-start;width: 50%;}#sk-container-id-9 div.sk-parallel-item:only-child::after {width: 0;}#sk-container-id-9 div.sk-dashed-wrapped {border: 1px dashed gray;margin: 0 0.4em 0.5em 0.4em;box-sizing: border-box;padding-bottom: 0.4em;background-color: white;}#sk-container-id-9 div.sk-label label {font-family: monospace;font-weight: bold;display: inline-block;line-height: 1.2em;}#sk-container-id-9 div.sk-label-container {text-align: center;}#sk-container-id-9 div.sk-container {/* jupyter's `normalize.less` sets `[hidden] { display: none; }` but bootstrap.min.css set `[hidden] { display: none !important; }` so we also need the `!important` here to be able to override the default hidden behavior on the sphinx rendered scikit-learn.org. See: https://github.com/scikit-learn/scikit-learn/issues/21755 */display: inline-block !important;position: relative;}#sk-container-id-9 div.sk-text-repr-fallback {display: none;}</style><div id=\"sk-container-id-9\" class=\"sk-top-container\"><div class=\"sk-text-repr-fallback\"><pre>RandomForestClassifier(max_depth=12, max_features=8, max_samples=0.6,\n",
              "                       n_estimators=500)</pre><b>In a Jupyter environment, please rerun this cell to show the HTML representation or trust the notebook. <br />On GitHub, the HTML representation is unable to render, please try loading this page with nbviewer.org.</b></div><div class=\"sk-container\" hidden><div class=\"sk-item\"><div class=\"sk-estimator sk-toggleable\"><input class=\"sk-toggleable__control sk-hidden--visually\" id=\"sk-estimator-id-9\" type=\"checkbox\" checked><label for=\"sk-estimator-id-9\" class=\"sk-toggleable__label sk-toggleable__label-arrow\">RandomForestClassifier</label><div class=\"sk-toggleable__content\"><pre>RandomForestClassifier(max_depth=12, max_features=8, max_samples=0.6,\n",
              "                       n_estimators=500)</pre></div></div></div></div></div>"
            ]
          },
          "metadata": {},
          "execution_count": 266
        }
      ]
    },
    {
      "cell_type": "code",
      "source": [
        "y_pred = rf2.predict(X_test)"
      ],
      "metadata": {
        "id": "1XdAO4PXbrtH"
      },
      "execution_count": null,
      "outputs": []
    },
    {
      "cell_type": "code",
      "source": [
        "print(classification_report(y_test,y_pred))"
      ],
      "metadata": {
        "colab": {
          "base_uri": "https://localhost:8080/"
        },
        "id": "Sb2NDE2WcAfS",
        "outputId": "bf675320-f9ce-42af-df57-ff4d136f47d7"
      },
      "execution_count": null,
      "outputs": [
        {
          "output_type": "stream",
          "name": "stdout",
          "text": [
            "              precision    recall  f1-score   support\n",
            "\n",
            "           0       0.55      0.79      0.65      2195\n",
            "           1       0.57      0.39      0.46      1934\n",
            "           2       0.65      0.14      0.23       371\n",
            "\n",
            "    accuracy                           0.56      4500\n",
            "   macro avg       0.59      0.44      0.45      4500\n",
            "weighted avg       0.57      0.56      0.53      4500\n",
            "\n"
          ]
        }
      ]
    },
    {
      "cell_type": "code",
      "source": [
        "rf3 = RandomForestClassifier(n_estimators=750,max_samples=0.7,max_features=17,oob_score=True,max_depth=7,class_weight='balanced')"
      ],
      "metadata": {
        "id": "E0oUd6LTcGwD"
      },
      "execution_count": null,
      "outputs": []
    },
    {
      "cell_type": "code",
      "source": [
        "rf3.fit(X_train,y_train)"
      ],
      "metadata": {
        "colab": {
          "base_uri": "https://localhost:8080/",
          "height": 92
        },
        "id": "Oz1B5DLVcnzY",
        "outputId": "4c81595b-3d8e-48d3-8f0c-93ab8f490e01"
      },
      "execution_count": null,
      "outputs": [
        {
          "output_type": "execute_result",
          "data": {
            "text/plain": [
              "RandomForestClassifier(class_weight='balanced', max_depth=7, max_features=17,\n",
              "                       max_samples=0.7, n_estimators=750, oob_score=True)"
            ],
            "text/html": [
              "<style>#sk-container-id-13 {color: black;background-color: white;}#sk-container-id-13 pre{padding: 0;}#sk-container-id-13 div.sk-toggleable {background-color: white;}#sk-container-id-13 label.sk-toggleable__label {cursor: pointer;display: block;width: 100%;margin-bottom: 0;padding: 0.3em;box-sizing: border-box;text-align: center;}#sk-container-id-13 label.sk-toggleable__label-arrow:before {content: \"▸\";float: left;margin-right: 0.25em;color: #696969;}#sk-container-id-13 label.sk-toggleable__label-arrow:hover:before {color: black;}#sk-container-id-13 div.sk-estimator:hover label.sk-toggleable__label-arrow:before {color: black;}#sk-container-id-13 div.sk-toggleable__content {max-height: 0;max-width: 0;overflow: hidden;text-align: left;background-color: #f0f8ff;}#sk-container-id-13 div.sk-toggleable__content pre {margin: 0.2em;color: black;border-radius: 0.25em;background-color: #f0f8ff;}#sk-container-id-13 input.sk-toggleable__control:checked~div.sk-toggleable__content {max-height: 200px;max-width: 100%;overflow: auto;}#sk-container-id-13 input.sk-toggleable__control:checked~label.sk-toggleable__label-arrow:before {content: \"▾\";}#sk-container-id-13 div.sk-estimator input.sk-toggleable__control:checked~label.sk-toggleable__label {background-color: #d4ebff;}#sk-container-id-13 div.sk-label input.sk-toggleable__control:checked~label.sk-toggleable__label {background-color: #d4ebff;}#sk-container-id-13 input.sk-hidden--visually {border: 0;clip: rect(1px 1px 1px 1px);clip: rect(1px, 1px, 1px, 1px);height: 1px;margin: -1px;overflow: hidden;padding: 0;position: absolute;width: 1px;}#sk-container-id-13 div.sk-estimator {font-family: monospace;background-color: #f0f8ff;border: 1px dotted black;border-radius: 0.25em;box-sizing: border-box;margin-bottom: 0.5em;}#sk-container-id-13 div.sk-estimator:hover {background-color: #d4ebff;}#sk-container-id-13 div.sk-parallel-item::after {content: \"\";width: 100%;border-bottom: 1px solid gray;flex-grow: 1;}#sk-container-id-13 div.sk-label:hover label.sk-toggleable__label {background-color: #d4ebff;}#sk-container-id-13 div.sk-serial::before {content: \"\";position: absolute;border-left: 1px solid gray;box-sizing: border-box;top: 0;bottom: 0;left: 50%;z-index: 0;}#sk-container-id-13 div.sk-serial {display: flex;flex-direction: column;align-items: center;background-color: white;padding-right: 0.2em;padding-left: 0.2em;position: relative;}#sk-container-id-13 div.sk-item {position: relative;z-index: 1;}#sk-container-id-13 div.sk-parallel {display: flex;align-items: stretch;justify-content: center;background-color: white;position: relative;}#sk-container-id-13 div.sk-item::before, #sk-container-id-13 div.sk-parallel-item::before {content: \"\";position: absolute;border-left: 1px solid gray;box-sizing: border-box;top: 0;bottom: 0;left: 50%;z-index: -1;}#sk-container-id-13 div.sk-parallel-item {display: flex;flex-direction: column;z-index: 1;position: relative;background-color: white;}#sk-container-id-13 div.sk-parallel-item:first-child::after {align-self: flex-end;width: 50%;}#sk-container-id-13 div.sk-parallel-item:last-child::after {align-self: flex-start;width: 50%;}#sk-container-id-13 div.sk-parallel-item:only-child::after {width: 0;}#sk-container-id-13 div.sk-dashed-wrapped {border: 1px dashed gray;margin: 0 0.4em 0.5em 0.4em;box-sizing: border-box;padding-bottom: 0.4em;background-color: white;}#sk-container-id-13 div.sk-label label {font-family: monospace;font-weight: bold;display: inline-block;line-height: 1.2em;}#sk-container-id-13 div.sk-label-container {text-align: center;}#sk-container-id-13 div.sk-container {/* jupyter's `normalize.less` sets `[hidden] { display: none; }` but bootstrap.min.css set `[hidden] { display: none !important; }` so we also need the `!important` here to be able to override the default hidden behavior on the sphinx rendered scikit-learn.org. See: https://github.com/scikit-learn/scikit-learn/issues/21755 */display: inline-block !important;position: relative;}#sk-container-id-13 div.sk-text-repr-fallback {display: none;}</style><div id=\"sk-container-id-13\" class=\"sk-top-container\"><div class=\"sk-text-repr-fallback\"><pre>RandomForestClassifier(class_weight=&#x27;balanced&#x27;, max_depth=7, max_features=17,\n",
              "                       max_samples=0.7, n_estimators=750, oob_score=True)</pre><b>In a Jupyter environment, please rerun this cell to show the HTML representation or trust the notebook. <br />On GitHub, the HTML representation is unable to render, please try loading this page with nbviewer.org.</b></div><div class=\"sk-container\" hidden><div class=\"sk-item\"><div class=\"sk-estimator sk-toggleable\"><input class=\"sk-toggleable__control sk-hidden--visually\" id=\"sk-estimator-id-13\" type=\"checkbox\" checked><label for=\"sk-estimator-id-13\" class=\"sk-toggleable__label sk-toggleable__label-arrow\">RandomForestClassifier</label><div class=\"sk-toggleable__content\"><pre>RandomForestClassifier(class_weight=&#x27;balanced&#x27;, max_depth=7, max_features=17,\n",
              "                       max_samples=0.7, n_estimators=750, oob_score=True)</pre></div></div></div></div></div>"
            ]
          },
          "metadata": {},
          "execution_count": 282
        }
      ]
    },
    {
      "cell_type": "code",
      "source": [
        "y_pred = rf3.predict(X_test)"
      ],
      "metadata": {
        "id": "ivTnmHo-cr6U"
      },
      "execution_count": null,
      "outputs": []
    },
    {
      "cell_type": "code",
      "source": [
        "print(classification_report(y_test,y_pred))"
      ],
      "metadata": {
        "colab": {
          "base_uri": "https://localhost:8080/"
        },
        "id": "zhzBqnS3czPM",
        "outputId": "c0196c39-33b5-43fa-ca4c-1f7aa435193e"
      },
      "execution_count": null,
      "outputs": [
        {
          "output_type": "stream",
          "name": "stdout",
          "text": [
            "              precision    recall  f1-score   support\n",
            "\n",
            "           0       0.64      0.29      0.40      2195\n",
            "           1       0.47      0.58      0.52      1934\n",
            "           2       0.14      0.43      0.21       371\n",
            "\n",
            "    accuracy                           0.43      4500\n",
            "   macro avg       0.42      0.43      0.38      4500\n",
            "weighted avg       0.52      0.43      0.44      4500\n",
            "\n"
          ]
        }
      ]
    },
    {
      "cell_type": "code",
      "source": [],
      "metadata": {
        "id": "uSI5F__Jc3Gh"
      },
      "execution_count": null,
      "outputs": []
    }
  ]
}